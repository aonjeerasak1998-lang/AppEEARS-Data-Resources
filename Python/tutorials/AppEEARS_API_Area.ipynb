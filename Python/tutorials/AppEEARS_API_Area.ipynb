{
 "cells": [
  {
   "attachments": {},
   "cell_type": "markdown",
   "metadata": {},
   "source": [
    "# Getting Started with the AρρEEARS API: Submitting and Downloading an Area Request\n",
    "### This tutorial demonstrates how to use Python to connect to the AρρEEARS API \n",
    "The Application for Extracting and Exploring Analysis Ready Samples ([AρρEEARS](https://appeears.earthdatacloud.nasa.gov/)) offers a simple and efficient way to access and transform geospatial data from a variety of federal data archives in an easy-to-use web application interface. AρρEEARS enables users to subset [geospatial data](https://appeears.earthdatacloud.nasa.gov/products) spatially, temporally, and by band/layer for point and area samples. AρρEEARS returns not only the requested data, but also the associated quality values, and offers interactive visualizations with summary statistics in the web interface.  The [AρρEEARS API](https://appeears.earthdatacloud.nasa.gov/api/) offers users **programmatic access** to all features available in AρρEEARS, with the exception of visualizations. The API features are demonstrated in this notebook.  \n",
    "***\n",
    "### Example: Submit an area request using a U.S. National Park boundary as the region of interest for extracting elevation, vegetation and land surface temperature data    \n",
    "Connect to the AρρEEARS API, query the list of available products, submit an area sample request, download the request, become familiar with the AρρEEARS Quality API, and import the results into Python for visualization. AρρEEARS area sample requests allow users to subset their desired data by spatial area via vector polygons (shapefiles or GeoJSONs). Users can also reproject and reformat the output data. AρρEEARS returns the valid data from the parameters defined within the sample request.       \n",
    "#### Data Used in the Example:\n",
    "- Data layers: \n",
    "    - NASA MEaSUREs Shuttle Radar Topography Mission (SRTM) Version 3 Digital Elevation Model  \n",
    "        - [SRTMGL1_NC.003](https://doi.org/10.5067/MEaSUREs/SRTM/SRTMGL1.003), 30m, static: 'SRTM_DEM' \n",
    "    - Combined MODIS Leaf Area Index (LAI)  \n",
    "        - [MCD15A3H.006](https://doi.org/10.5067/MODIS/MCD15A3H.006), 500m, 4 day: 'Lai_500m'      \n",
    "    - Terra MODIS Land Surface Temperature    \n",
    "        - [MOD11A2.061](https://doi.org/10.5067/MODIS/MOD11A2.061), 1000m, 8 day: 'LST_Day_1km', 'LST_Night_1km'     \n",
    "***  \n",
    "# Topics Covered:\n",
    "1. **Getting Started**  \n",
    "    1a. Set Up the Working Environment  \n",
    "    1b. Login [Login]     \n",
    "2. **Query Available Products [Product API]**  \n",
    "    2a. Search and Explore Available Products [List Products]  \n",
    "    2b. Search and Explore Available Layers [List Layers]      \n",
    "3. **Submit an Area Request [Tasks]**  \n",
    "    3a. Import a Shapefile  \n",
    "    3b. Search and Explore Available Projections [Spatial API]   \n",
    "    3c. Compile a JSON [Task Object]  \n",
    "    3d. Submit a Task Request [Submit Task]  \n",
    "    3e. Retrieve Task Status [Retrieve Task]  \n",
    "4. **Download a Request [Bundle API]**    \n",
    "    4a. Explore Files in Request Output [List Files]    \n",
    "    4b. Download Files in a Request (Automation) [Download File]   \n",
    "5. **Explore AρρEEARS Quality Service [Quality API]**  \n",
    "    5a. List Quality Layers [List Quality Layers]    \n",
    "    5b. Show Quality Values [List Quality Values]   \n",
    "    5c. Decode Quality Values [Decode Quality Values]  \n",
    "6. **BONUS: Import Request Output and Visualize**    \n",
    "    6a. Import a GeoTIFF     \n",
    "    6b. Plot a GeoTIFF   \n",
    "***\n",
    "### Dependencies:\n",
    "- This tutorial was tested using Python 3.6.1.  \n",
    "- A [NASA Earthdata Login](https://urs.earthdata.nasa.gov/) account is required to complete this tutorial. You can create an account at the link provided.    \n",
    "- To execute section 6, the [Geospatial Data Abstraction Library](http://www.gdal.org/) (GDAL) is required. \n",
    "***\n",
    "### AρρEEARS Information:\n",
    "To access AρρEEARS, visit: https://appeears.earthdatacloud.nasa.gov/  \n",
    "> For comprehensive documentation of the full functionality of the AρρEEARS API, please see the AρρEEARS [API Documentation](https://appeears.earthdatacloud.nasa.gov/api/) \n",
    "\n",
    "Throughout the tutorial, specific sections of the API documentation can be accessed by clicking on the bracketed [] links in the section headings.   \n",
    "***\n",
    "### Files Used in this Tutorial:  \n",
    "- [Administrative Boundaries of National Park System Units 12/31/2017 - National Geospatial Data Asset (NGDA) NPS National Parks Dataset](https://irma.nps.gov/DataStore/DownloadFile/594958)  \n",
    "\n",
    "### Source Code used to Generate this Tutorial:\n",
    "- [Jupyter Notebook](https://git.earthdata.nasa.gov/projects/LPDUR/repos/appeears-api-getting-started/browse/AppEEARS_API_Area.ipynb) "
   ]
  },
  {
   "attachments": {},
   "cell_type": "markdown",
   "metadata": {},
   "source": [
    "***"
   ]
  },
  {
   "attachments": {},
   "cell_type": "markdown",
   "metadata": {},
   "source": [
    "# 1. Getting Started"
   ]
  },
  {
   "attachments": {},
   "cell_type": "markdown",
   "metadata": {},
   "source": [
    "***\n",
    "## 1a. Set Up the Working Environment\n",
    "#### Import the required packages, set the input/working directory, and create an output directory for the results."
   ]
  },
  {
   "cell_type": "code",
   "execution_count": 1,
   "metadata": {},
   "outputs": [
    {
     "ename": "ModuleNotFoundError",
     "evalue": "No module named 'requests'",
     "output_type": "error",
     "traceback": [
      "\u001b[1;31m---------------------------------------------------------------------------\u001b[0m",
      "\u001b[1;31mModuleNotFoundError\u001b[0m                       Traceback (most recent call last)",
      "Cell \u001b[1;32mIn[1], line 2\u001b[0m\n\u001b[0;32m      1\u001b[0m \u001b[39m# Import packages \u001b[39;00m\n\u001b[1;32m----> 2\u001b[0m \u001b[39mimport\u001b[39;00m \u001b[39mrequests\u001b[39;00m \u001b[39mas\u001b[39;00m \u001b[39mr\u001b[39;00m\n\u001b[0;32m      3\u001b[0m \u001b[39mimport\u001b[39;00m \u001b[39mgetpass\u001b[39;00m\u001b[39m,\u001b[39m \u001b[39mpprint\u001b[39;00m\u001b[39m,\u001b[39m \u001b[39mtime\u001b[39;00m\u001b[39m,\u001b[39m \u001b[39mos\u001b[39;00m\u001b[39m,\u001b[39m \u001b[39mcgi\u001b[39;00m\u001b[39m,\u001b[39m \u001b[39mjson\u001b[39;00m\n\u001b[0;32m      4\u001b[0m \u001b[39mimport\u001b[39;00m \u001b[39mgeopandas\u001b[39;00m \u001b[39mas\u001b[39;00m \u001b[39mgpd\u001b[39;00m\n",
      "\u001b[1;31mModuleNotFoundError\u001b[0m: No module named 'requests'"
     ]
    }
   ],
   "source": [
    "# Import packages \n",
    "import requests as r\n",
    "import getpass, pprint, time, os, cgi, json\n",
    "import geopandas as gpd"
   ]
  },
  {
   "attachments": {},
   "cell_type": "markdown",
   "metadata": {},
   "source": [
    "#### If you are missing any of the packages above, download them in order to use the full functionality of this tutorial. "
   ]
  },
  {
   "cell_type": "code",
   "execution_count": null,
   "metadata": {},
   "outputs": [],
   "source": [
    "# Set input directory, change working directory\n",
    "inDir = 'D:/appeears-api-getting-started/'           # IMPORTANT: Update to reflect directory on your OS\n",
    "os.chdir(inDir)                                      # Change to working directory\n",
    "api = 'https://appeears.earthdatacloud.nasa.gov/api/'  # Set the AρρEEARS API to a variable"
   ]
  },
  {
   "attachments": {},
   "cell_type": "markdown",
   "metadata": {},
   "source": [
    "<div class=\"alert alert-block alert-warning\" >\n",
    "<b>If you plan to execute this tutorial on your own OS, `inDir` above needs to be changed.</b>\n",
    "</div> "
   ]
  },
  {
   "attachments": {},
   "cell_type": "markdown",
   "metadata": {},
   "source": [
    "***\n",
    "## 1b. Login[[Login](https://appeears.earthdatacloud.nasa.gov/api/#login)] \n",
    "#### To submit a request, you must first login to the AρρEEARS API. The AρρEEARS API requires the same [NASA Earthdata Login](https://urs.earthdata.nasa.gov/) as the AρρEEARS user interface. Use the `getpass` package to enter your NASA Earthdata login **Username** and **Password**. When prompted after executing the code block below, enter your username followed by your password."
   ]
  },
  {
   "cell_type": "code",
   "execution_count": null,
   "metadata": {},
   "outputs": [
    {
     "name": "stdout",
     "output_type": "stream",
     "text": [
      "Enter NASA Earthdata Login Username: ········\n",
      "Enter NASA Earthdata Login Password: ········\n"
     ]
    }
   ],
   "source": [
    "user = getpass.getpass(prompt = 'Enter NASA Earthdata Login Username: ')      # Input NASA Earthdata Login Username\n",
    "password = getpass.getpass(prompt = 'Enter NASA Earthdata Login Password: ')  # Input NASA Earthdata Login Password"
   ]
  },
  {
   "attachments": {},
   "cell_type": "markdown",
   "metadata": {},
   "source": [
    "#### Use the `requests` package to post your username and password. A successful login will provide you with a token to be used later in this tutorial to submit a request. For more information or if you are experiencing difficulties, please see the [API Documentation](https://lpdaacsvc.cr.usgs.gov/appeears/api/?language=Python%203#login)."
   ]
  },
  {
   "cell_type": "code",
   "execution_count": null,
   "metadata": {},
   "outputs": [
    {
     "data": {
      "text/plain": [
       "{'token_type': 'Bearer',\n",
       " 'token': 'ecXFFASPIWu_ESd_8B429AZCBFsPLXuOo8M9kCC8Jcqait7AiSQXh4-WGYhwJqaePqPVPhw5FbADMiVYOxM_vA',\n",
       " 'expiration': '2022-05-06T19:29:39Z'}"
      ]
     },
     "execution_count": 4,
     "metadata": {},
     "output_type": "execute_result"
    },
    {
     "data": {
      "text/plain": [
       "{'token_type': 'Bearer',\n",
       " 'token': 'ecXFFASPIWu_ESd_8B429AZCBFsPLXuOo8M9kCC8Jcqait7AiSQXh4-WGYhwJqaePqPVPhw5FbADMiVYOxM_vA',\n",
       " 'expiration': '2022-05-06T19:29:39Z'}"
      ]
     },
     "execution_count": 4,
     "metadata": {},
     "output_type": "execute_result"
    }
   ],
   "source": [
    "token_response = r.post('{}login'.format(api), auth=(user, password)).json() # Insert API URL, call login service, provide credentials & return json\n",
    "del user, password                                                           # Remove user and password information\n",
    "token_response                                                               # Print response"
   ]
  },
  {
   "attachments": {},
   "cell_type": "markdown",
   "metadata": {},
   "source": [
    "#### Above, you should see a Bearer token. Notice that this token will expire approximately 48 hours after being acquired. \n",
    "***\n",
    "# 2. Query Available Products [[Product API](https://appeears.earthdatacloud.nasa.gov/api/#product)]\n",
    "## 2a. Search and Explore Available Products [[List Products](https://appeears.earthdatacloud.nasa.gov/api/#list-products)]\n",
    "#### The product API provides details about all of the products and layers available in AρρEEARS. Below, call the product API to list all of the products available in AρρEEARS."
   ]
  },
  {
   "cell_type": "code",
   "execution_count": null,
   "metadata": {},
   "outputs": [
    {
     "name": "stdout",
     "output_type": "stream",
     "text": [
      "AρρEEARS currently supports 155 products.\n",
      "AρρEEARS currently supports 155 products.\n"
     ]
    }
   ],
   "source": [
    "product_response = r.get('{}product'.format(api)).json()                         # request all products in the product service\n",
    "print('AρρEEARS currently supports {} products.'.format(len(product_response)))  # Print no. products available in AppEEARS"
   ]
  },
  {
   "attachments": {},
   "cell_type": "markdown",
   "metadata": {},
   "source": [
    "#### Next, create a dictionary indexed by product name, making it easier to query a specific product."
   ]
  },
  {
   "cell_type": "code",
   "execution_count": null,
   "metadata": {},
   "outputs": [
    {
     "data": {
      "text/plain": [
       "{'Product': 'MCD15A3H',\n",
       " 'Platform': 'Combined MODIS',\n",
       " 'Description': 'Leaf Area Index (LAI) and Fraction of Photosynthetically Active Radiation (FPAR)',\n",
       " 'RasterType': 'Tile',\n",
       " 'Resolution': '500m',\n",
       " 'TemporalGranularity': '4 day',\n",
       " 'Version': '006',\n",
       " 'Available': True,\n",
       " 'DocLink': 'https://doi.org/10.5067/MODIS/MCD15A3H.006',\n",
       " 'Source': 'LP DAAC',\n",
       " 'TemporalExtentStart': '2002-07-04',\n",
       " 'TemporalExtentEnd': 'Present',\n",
       " 'Deleted': False,\n",
       " 'DOI': '10.5067/MODIS/MCD15A3H.006',\n",
       " 'ProductAndVersion': 'MCD15A3H.006'}"
      ]
     },
     "execution_count": 6,
     "metadata": {},
     "output_type": "execute_result"
    },
    {
     "data": {
      "text/plain": [
       "{'Product': 'MCD15A3H',\n",
       " 'Platform': 'Combined MODIS',\n",
       " 'Description': 'Leaf Area Index (LAI) and Fraction of Photosynthetically Active Radiation (FPAR)',\n",
       " 'RasterType': 'Tile',\n",
       " 'Resolution': '500m',\n",
       " 'TemporalGranularity': '4 day',\n",
       " 'Version': '006',\n",
       " 'Available': True,\n",
       " 'DocLink': 'https://doi.org/10.5067/MODIS/MCD15A3H.006',\n",
       " 'Source': 'LP DAAC',\n",
       " 'TemporalExtentStart': '2002-07-04',\n",
       " 'TemporalExtentEnd': 'Present',\n",
       " 'Deleted': False,\n",
       " 'DOI': '10.5067/MODIS/MCD15A3H.006',\n",
       " 'ProductAndVersion': 'MCD15A3H.006'}"
      ]
     },
     "execution_count": 6,
     "metadata": {},
     "output_type": "execute_result"
    }
   ],
   "source": [
    "products = {p['ProductAndVersion']: p for p in product_response} # Create a dictionary indexed by product name & version\n",
    "products['MCD15A3H.006']                                         # Print information for MCD15A3H.006 LAI/FPAR Product"
   ]
  },
  {
   "attachments": {},
   "cell_type": "markdown",
   "metadata": {},
   "source": [
    "#### The product service provides many useful details, including if a product is currently available in AρρEEARS, a description, and information on the spatial and temporal resolution. "
   ]
  },
  {
   "attachments": {},
   "cell_type": "markdown",
   "metadata": {},
   "source": [
    "#### Below, make a list of all product+version names, and search for products containing *Leaf Area Index* in their description. "
   ]
  },
  {
   "cell_type": "code",
   "execution_count": null,
   "metadata": {},
   "outputs": [
    {
     "name": "stdout",
     "output_type": "stream",
     "text": [
      "{'Available': True,\n",
      " 'DOI': '10.5067/MODIS/MCD15A3H.006',\n",
      " 'Deleted': False,\n",
      " 'Description': 'Leaf Area Index (LAI) and Fraction of Photosynthetically '\n",
      "                'Active Radiation (FPAR)',\n",
      " 'DocLink': 'https://doi.org/10.5067/MODIS/MCD15A3H.006',\n",
      " 'Platform': 'Combined MODIS',\n",
      " 'Product': 'MCD15A3H',\n",
      " 'ProductAndVersion': 'MCD15A3H.006',\n",
      " 'RasterType': 'Tile',\n",
      " 'Resolution': '500m',\n",
      " 'Source': 'LP DAAC',\n",
      " 'TemporalExtentEnd': 'Present',\n",
      " 'TemporalExtentStart': '2002-07-04',\n",
      " 'TemporalGranularity': '4 day',\n",
      " 'Version': '006'}\n",
      "{'Available': True,\n",
      " 'DOI': '10.5067/MODIS/MYD15A2H.061',\n",
      " 'Deleted': False,\n",
      " 'Description': 'Leaf Area Index (LAI) and Fraction of Photosynthetically '\n",
      "                'Active Radiation (FPAR)',\n",
      " 'DocLink': 'https://doi.org/10.5067/MODIS/MYD15A2H.061',\n",
      " 'Platform': 'Aqua MODIS',\n",
      " 'Product': 'MYD15A2H',\n",
      " 'ProductAndVersion': 'MYD15A2H.061',\n",
      " 'RasterType': 'Tile',\n",
      " 'Resolution': '500m',\n",
      " 'Source': 'LP DAAC',\n",
      " 'TemporalExtentEnd': 'Present',\n",
      " 'TemporalExtentStart': '2002-07-04',\n",
      " 'TemporalGranularity': '8 day',\n",
      " 'Version': '061'}\n",
      "{'Available': True,\n",
      " 'DOI': '10.5067/MODIS/MOD15A2H.006',\n",
      " 'Deleted': False,\n",
      " 'Description': 'Leaf Area Index (LAI) and Fraction of Photosynthetically '\n",
      "                'Active Radiation (FPAR)',\n",
      " 'DocLink': 'https://doi.org/10.5067/MODIS/MOD15A2H.006',\n",
      " 'Platform': 'Terra MODIS',\n",
      " 'Product': 'MOD15A2H',\n",
      " 'ProductAndVersion': 'MOD15A2H.006',\n",
      " 'RasterType': 'Tile',\n",
      " 'Resolution': '500m',\n",
      " 'Source': 'LP DAAC',\n",
      " 'TemporalExtentEnd': 'Present',\n",
      " 'TemporalExtentStart': '2000-02-18',\n",
      " 'TemporalGranularity': '8 day',\n",
      " 'Version': '006'}\n",
      "{'Available': True,\n",
      " 'DOI': '10.5067/MODIS/MCD15A2H.006',\n",
      " 'Deleted': False,\n",
      " 'Description': 'Leaf Area Index (LAI) and Fraction of Photosynthetically '\n",
      "                'Active Radiation (FPAR)',\n",
      " 'DocLink': 'https://doi.org/10.5067/MODIS/MCD15A2H.006',\n",
      " 'Platform': 'Combined MODIS',\n",
      " 'Product': 'MCD15A2H',\n",
      " 'ProductAndVersion': 'MCD15A2H.006',\n",
      " 'RasterType': 'Tile',\n",
      " 'Resolution': '500m',\n",
      " 'Source': 'LP DAAC',\n",
      " 'TemporalExtentEnd': 'Present',\n",
      " 'TemporalExtentStart': '2002-07-04',\n",
      " 'TemporalGranularity': '8 day',\n",
      " 'Version': '006'}\n",
      "{'Available': True,\n",
      " 'DOI': '10.5067/VIIRS/VNP15A2H.001',\n",
      " 'Deleted': False,\n",
      " 'Description': 'Leaf Area Index (LAI) and Fraction of Photosynthetically '\n",
      "                'Active Radiation (FPAR)',\n",
      " 'DocLink': 'https://doi.org/10.5067/viirs/vnp15a2h.001',\n",
      " 'Platform': 'S-NPP NASA VIIRS',\n",
      " 'Product': 'VNP15A2H',\n",
      " 'ProductAndVersion': 'VNP15A2H.001',\n",
      " 'RasterType': 'Tile',\n",
      " 'Resolution': '500m',\n",
      " 'Source': 'LP DAAC',\n",
      " 'TemporalExtentEnd': 'Present',\n",
      " 'TemporalExtentStart': '2012-01-19',\n",
      " 'TemporalGranularity': '8 day',\n",
      " 'Version': '001'}\n",
      "{'Available': True,\n",
      " 'DOI': '10.5067/MODIS/MYD15A2H.006',\n",
      " 'Deleted': False,\n",
      " 'Description': 'Leaf Area Index (LAI) and Fraction of Photosynthetically '\n",
      "                'Active Radiation (FPAR)',\n",
      " 'DocLink': 'https://doi.org/10.5067/MODIS/MYD15A2H.006',\n",
      " 'Platform': 'Aqua MODIS',\n",
      " 'Product': 'MYD15A2H',\n",
      " 'ProductAndVersion': 'MYD15A2H.006',\n",
      " 'RasterType': 'Tile',\n",
      " 'Resolution': '500m',\n",
      " 'Source': 'LP DAAC',\n",
      " 'TemporalExtentEnd': 'Present',\n",
      " 'TemporalExtentStart': '2002-07-04',\n",
      " 'TemporalGranularity': '8 day',\n",
      " 'Version': '006'}\n",
      "{'Available': True,\n",
      " 'DOI': '10.5067/MODIS/MOD15A2H.061',\n",
      " 'Deleted': False,\n",
      " 'Description': 'Leaf Area Index (LAI) and Fraction of Photosynthetically '\n",
      "                'Active Radiation (FPAR)',\n",
      " 'DocLink': 'https://doi.org/10.5067/MODIS/MOD15A2H.061',\n",
      " 'Platform': 'Terra MODIS',\n",
      " 'Product': 'MOD15A2H',\n",
      " 'ProductAndVersion': 'MOD15A2H.061',\n",
      " 'RasterType': 'Tile',\n",
      " 'Resolution': '500m',\n",
      " 'Source': 'LP DAAC',\n",
      " 'TemporalExtentEnd': 'Present',\n",
      " 'TemporalExtentStart': '2000-02-18',\n",
      " 'TemporalGranularity': '8 day',\n",
      " 'Version': '061'}\n",
      "{'Available': True,\n",
      " 'DOI': '10.5067/MODIS/MCD15A3H.006',\n",
      " 'Deleted': False,\n",
      " 'Description': 'Leaf Area Index (LAI) and Fraction of Photosynthetically '\n",
      "                'Active Radiation (FPAR)',\n",
      " 'DocLink': 'https://doi.org/10.5067/MODIS/MCD15A3H.006',\n",
      " 'Platform': 'Combined MODIS',\n",
      " 'Product': 'MCD15A3H',\n",
      " 'ProductAndVersion': 'MCD15A3H.006',\n",
      " 'RasterType': 'Tile',\n",
      " 'Resolution': '500m',\n",
      " 'Source': 'LP DAAC',\n",
      " 'TemporalExtentEnd': 'Present',\n",
      " 'TemporalExtentStart': '2002-07-04',\n",
      " 'TemporalGranularity': '4 day',\n",
      " 'Version': '006'}\n",
      "{'Available': True,\n",
      " 'DOI': '10.5067/MODIS/MYD15A2H.061',\n",
      " 'Deleted': False,\n",
      " 'Description': 'Leaf Area Index (LAI) and Fraction of Photosynthetically '\n",
      "                'Active Radiation (FPAR)',\n",
      " 'DocLink': 'https://doi.org/10.5067/MODIS/MYD15A2H.061',\n",
      " 'Platform': 'Aqua MODIS',\n",
      " 'Product': 'MYD15A2H',\n",
      " 'ProductAndVersion': 'MYD15A2H.061',\n",
      " 'RasterType': 'Tile',\n",
      " 'Resolution': '500m',\n",
      " 'Source': 'LP DAAC',\n",
      " 'TemporalExtentEnd': 'Present',\n",
      " 'TemporalExtentStart': '2002-07-04',\n",
      " 'TemporalGranularity': '8 day',\n",
      " 'Version': '061'}\n",
      "{'Available': True,\n",
      " 'DOI': '10.5067/MODIS/MOD15A2H.006',\n",
      " 'Deleted': False,\n",
      " 'Description': 'Leaf Area Index (LAI) and Fraction of Photosynthetically '\n",
      "                'Active Radiation (FPAR)',\n",
      " 'DocLink': 'https://doi.org/10.5067/MODIS/MOD15A2H.006',\n",
      " 'Platform': 'Terra MODIS',\n",
      " 'Product': 'MOD15A2H',\n",
      " 'ProductAndVersion': 'MOD15A2H.006',\n",
      " 'RasterType': 'Tile',\n",
      " 'Resolution': '500m',\n",
      " 'Source': 'LP DAAC',\n",
      " 'TemporalExtentEnd': 'Present',\n",
      " 'TemporalExtentStart': '2000-02-18',\n",
      " 'TemporalGranularity': '8 day',\n",
      " 'Version': '006'}\n",
      "{'Available': True,\n",
      " 'DOI': '10.5067/MODIS/MCD15A2H.006',\n",
      " 'Deleted': False,\n",
      " 'Description': 'Leaf Area Index (LAI) and Fraction of Photosynthetically '\n",
      "                'Active Radiation (FPAR)',\n",
      " 'DocLink': 'https://doi.org/10.5067/MODIS/MCD15A2H.006',\n",
      " 'Platform': 'Combined MODIS',\n",
      " 'Product': 'MCD15A2H',\n",
      " 'ProductAndVersion': 'MCD15A2H.006',\n",
      " 'RasterType': 'Tile',\n",
      " 'Resolution': '500m',\n",
      " 'Source': 'LP DAAC',\n",
      " 'TemporalExtentEnd': 'Present',\n",
      " 'TemporalExtentStart': '2002-07-04',\n",
      " 'TemporalGranularity': '8 day',\n",
      " 'Version': '006'}\n",
      "{'Available': True,\n",
      " 'DOI': '10.5067/VIIRS/VNP15A2H.001',\n",
      " 'Deleted': False,\n",
      " 'Description': 'Leaf Area Index (LAI) and Fraction of Photosynthetically '\n",
      "                'Active Radiation (FPAR)',\n",
      " 'DocLink': 'https://doi.org/10.5067/viirs/vnp15a2h.001',\n",
      " 'Platform': 'S-NPP NASA VIIRS',\n",
      " 'Product': 'VNP15A2H',\n",
      " 'ProductAndVersion': 'VNP15A2H.001',\n",
      " 'RasterType': 'Tile',\n",
      " 'Resolution': '500m',\n",
      " 'Source': 'LP DAAC',\n",
      " 'TemporalExtentEnd': 'Present',\n",
      " 'TemporalExtentStart': '2012-01-19',\n",
      " 'TemporalGranularity': '8 day',\n",
      " 'Version': '001'}\n",
      "{'Available': True,\n",
      " 'DOI': '10.5067/MODIS/MYD15A2H.006',\n",
      " 'Deleted': False,\n",
      " 'Description': 'Leaf Area Index (LAI) and Fraction of Photosynthetically '\n",
      "                'Active Radiation (FPAR)',\n",
      " 'DocLink': 'https://doi.org/10.5067/MODIS/MYD15A2H.006',\n",
      " 'Platform': 'Aqua MODIS',\n",
      " 'Product': 'MYD15A2H',\n",
      " 'ProductAndVersion': 'MYD15A2H.006',\n",
      " 'RasterType': 'Tile',\n",
      " 'Resolution': '500m',\n",
      " 'Source': 'LP DAAC',\n",
      " 'TemporalExtentEnd': 'Present',\n",
      " 'TemporalExtentStart': '2002-07-04',\n",
      " 'TemporalGranularity': '8 day',\n",
      " 'Version': '006'}\n",
      "{'Available': True,\n",
      " 'DOI': '10.5067/MODIS/MOD15A2H.061',\n",
      " 'Deleted': False,\n",
      " 'Description': 'Leaf Area Index (LAI) and Fraction of Photosynthetically '\n",
      "                'Active Radiation (FPAR)',\n",
      " 'DocLink': 'https://doi.org/10.5067/MODIS/MOD15A2H.061',\n",
      " 'Platform': 'Terra MODIS',\n",
      " 'Product': 'MOD15A2H',\n",
      " 'ProductAndVersion': 'MOD15A2H.061',\n",
      " 'RasterType': 'Tile',\n",
      " 'Resolution': '500m',\n",
      " 'Source': 'LP DAAC',\n",
      " 'TemporalExtentEnd': 'Present',\n",
      " 'TemporalExtentStart': '2000-02-18',\n",
      " 'TemporalGranularity': '8 day',\n",
      " 'Version': '061'}\n"
     ]
    }
   ],
   "source": [
    "prodNames = {p['ProductAndVersion'] for p in product_response} # Make list of all products (including version)\n",
    "for p in prodNames:                                            # Make for loop to search list of products 'Description' for a keyword                \n",
    "    if 'Leaf Area Index' in products[p]['Description']:\n",
    "        pprint.pprint(products[p])                             # Print info for each product containing LAI in its description"
   ]
  },
  {
   "attachments": {},
   "cell_type": "markdown",
   "metadata": {},
   "source": [
    "#### Using the info above, start a list of desired products by using the highest temporal resolution LAI product, `MCD15A3H.006`.  "
   ]
  },
  {
   "cell_type": "code",
   "execution_count": null,
   "metadata": {},
   "outputs": [
    {
     "data": {
      "text/plain": [
       "['MCD15A3H.006', 'MOD11A2.061', 'SRTMGL1_NC.003']"
      ]
     },
     "execution_count": 8,
     "metadata": {},
     "output_type": "execute_result"
    },
    {
     "data": {
      "text/plain": [
       "['MCD15A3H.006', 'MOD11A2.061', 'SRTMGL1_NC.003']"
      ]
     },
     "execution_count": 8,
     "metadata": {},
     "output_type": "execute_result"
    }
   ],
   "source": [
    "prods = ['MCD15A3H.006']     # Start a list for products to be requested, beginning with MCD15A3H.006\n",
    "prods.append('MOD11A2.061')  # Append the MOD11A2.061 8 day LST product to the list of products desired\n",
    "prods.append('SRTMGL1_NC.003')  # Append the SRTMGL1_NC.003 product to the list of products desired\n",
    "prods                        # Print list"
   ]
  },
  {
   "attachments": {},
   "cell_type": "markdown",
   "metadata": {},
   "source": [
    "***\n",
    "# 2b. Search and Explore Available Layers [[List Layers](https://appeears.earthdatacloud.nasa.gov/api/#list-layers)]\n",
    "#### The product API allows you to call all of the layers available for a given product. Each product is referenced by its `ProductAndVersion` property. For a list of the layer names only, print the keys from the dictionary below. "
   ]
  },
  {
   "cell_type": "code",
   "execution_count": null,
   "metadata": {},
   "outputs": [
    {
     "data": {
      "text/plain": [
       "['Clear_sky_days',\n",
       " 'Clear_sky_nights',\n",
       " 'Day_view_angl',\n",
       " 'Day_view_time',\n",
       " 'Emis_31',\n",
       " 'Emis_32',\n",
       " 'LST_Day_1km',\n",
       " 'LST_Night_1km',\n",
       " 'Night_view_angl',\n",
       " 'Night_view_time',\n",
       " 'QC_Day',\n",
       " 'QC_Night']"
      ]
     },
     "execution_count": 9,
     "metadata": {},
     "output_type": "execute_result"
    },
    {
     "data": {
      "text/plain": [
       "['Clear_sky_days',\n",
       " 'Clear_sky_nights',\n",
       " 'Day_view_angl',\n",
       " 'Day_view_time',\n",
       " 'Emis_31',\n",
       " 'Emis_32',\n",
       " 'LST_Day_1km',\n",
       " 'LST_Night_1km',\n",
       " 'Night_view_angl',\n",
       " 'Night_view_time',\n",
       " 'QC_Day',\n",
       " 'QC_Night']"
      ]
     },
     "execution_count": 9,
     "metadata": {},
     "output_type": "execute_result"
    }
   ],
   "source": [
    "lst_response = r.get('{}product/{}'.format(api, prods[1])).json()  # Request layers for the 2nd product (index 1) in the list: MOD11A2.061\n",
    "list(lst_response.keys())"
   ]
  },
  {
   "attachments": {},
   "cell_type": "markdown",
   "metadata": {},
   "source": [
    "#### Use the dictionary key `'LST_Day_1km'` to see the information for that layer in the response."
   ]
  },
  {
   "cell_type": "code",
   "execution_count": null,
   "metadata": {},
   "outputs": [
    {
     "data": {
      "text/plain": [
       "{'AddOffset': 0.0,\n",
       " 'Available': True,\n",
       " 'DataType': 'float32',\n",
       " 'Description': 'Day Land Surface Temperature',\n",
       " 'Dimensions': ['time', 'YDim', 'XDim'],\n",
       " 'FillValue': 0,\n",
       " 'IsQA': False,\n",
       " 'Layer': 'LST_Day_1km',\n",
       " 'OrigDataType': 'uint16',\n",
       " 'OrigValidMax': 65535,\n",
       " 'OrigValidMin': 7500,\n",
       " 'QualityLayers': \"['QC_Day']\",\n",
       " 'QualityProductAndVersion': 'MOD11A2.061',\n",
       " 'ScaleFactor': 0.02,\n",
       " 'Units': 'Kelvin',\n",
       " 'ValidMax': 1310.699951,\n",
       " 'ValidMin': 150.0,\n",
       " 'XSize': 1200,\n",
       " 'YSize': 1200}"
      ]
     },
     "execution_count": 10,
     "metadata": {},
     "output_type": "execute_result"
    },
    {
     "data": {
      "text/plain": [
       "{'AddOffset': 0.0,\n",
       " 'Available': True,\n",
       " 'DataType': 'float32',\n",
       " 'Description': 'Day Land Surface Temperature',\n",
       " 'Dimensions': ['time', 'YDim', 'XDim'],\n",
       " 'FillValue': 0,\n",
       " 'IsQA': False,\n",
       " 'Layer': 'LST_Day_1km',\n",
       " 'OrigDataType': 'uint16',\n",
       " 'OrigValidMax': 65535,\n",
       " 'OrigValidMin': 7500,\n",
       " 'QualityLayers': \"['QC_Day']\",\n",
       " 'QualityProductAndVersion': 'MOD11A2.061',\n",
       " 'ScaleFactor': 0.02,\n",
       " 'Units': 'Kelvin',\n",
       " 'ValidMax': 1310.699951,\n",
       " 'ValidMin': 150.0,\n",
       " 'XSize': 1200,\n",
       " 'YSize': 1200}"
      ]
     },
     "execution_count": 10,
     "metadata": {},
     "output_type": "execute_result"
    }
   ],
   "source": [
    "lst_response['LST_Day_1km'] # Print layer response"
   ]
  },
  {
   "attachments": {},
   "cell_type": "markdown",
   "metadata": {},
   "source": [
    "#### AρρEEARS also allows subsetting data spectrally (by band). Create a tupled list with product name and specific layers desired. "
   ]
  },
  {
   "cell_type": "code",
   "execution_count": null,
   "metadata": {},
   "outputs": [],
   "source": [
    "layers = [(prods[1],'LST_Day_1km'),(prods[1],'LST_Night_1km')]  # Create tupled list linking desired product with desired layers"
   ]
  },
  {
   "attachments": {},
   "cell_type": "markdown",
   "metadata": {},
   "source": [
    "#### Next, request the layers for the `MCD15A3H.006` product."
   ]
  },
  {
   "cell_type": "code",
   "execution_count": null,
   "metadata": {},
   "outputs": [
    {
     "data": {
      "text/plain": [
       "['FparExtra_QC',\n",
       " 'FparLai_QC',\n",
       " 'FparStdDev_500m',\n",
       " 'Fpar_500m',\n",
       " 'LaiStdDev_500m',\n",
       " 'Lai_500m']"
      ]
     },
     "execution_count": 12,
     "metadata": {},
     "output_type": "execute_result"
    },
    {
     "data": {
      "text/plain": [
       "['FparExtra_QC',\n",
       " 'FparLai_QC',\n",
       " 'FparStdDev_500m',\n",
       " 'Fpar_500m',\n",
       " 'LaiStdDev_500m',\n",
       " 'Lai_500m']"
      ]
     },
     "execution_count": 12,
     "metadata": {},
     "output_type": "execute_result"
    }
   ],
   "source": [
    "lai_response = r.get('{}product/{}'.format(api, prods[0])).json()  # Request layers for the 1st product (index 0) in the list: MCD15A3H.006\n",
    "list(lai_response.keys())                                          # Print the LAI layer names"
   ]
  },
  {
   "cell_type": "code",
   "execution_count": null,
   "metadata": {},
   "outputs": [
    {
     "data": {
      "text/plain": [
       "'Leaf area index'"
      ]
     },
     "execution_count": 13,
     "metadata": {},
     "output_type": "execute_result"
    },
    {
     "data": {
      "text/plain": [
       "'Leaf area index'"
      ]
     },
     "execution_count": 13,
     "metadata": {},
     "output_type": "execute_result"
    }
   ],
   "source": [
    "lai_response['Lai_500m']['Description']  # Make sure the correct layer is requested"
   ]
  },
  {
   "attachments": {},
   "cell_type": "markdown",
   "metadata": {},
   "source": [
    "#### Above, `Lai_500m` is the desired layer within the `MCD15A3h.006` product. \n",
    "#### Next, append `Lai_500m` to the tupled list of desired product/layers. "
   ]
  },
  {
   "cell_type": "code",
   "execution_count": null,
   "metadata": {},
   "outputs": [],
   "source": [
    "layers.append((prods[0],'Lai_500m')) # Append to tupled list linking desired product with desired layers"
   ]
  },
  {
   "attachments": {},
   "cell_type": "markdown",
   "metadata": {},
   "source": [
    "#### Thirdly, request the layers for the `SRTMGL1_NC.003` product."
   ]
  },
  {
   "cell_type": "code",
   "execution_count": null,
   "metadata": {},
   "outputs": [
    {
     "data": {
      "text/plain": [
       "['SRTMGL1_DEM']"
      ]
     },
     "execution_count": 15,
     "metadata": {},
     "output_type": "execute_result"
    },
    {
     "data": {
      "text/plain": [
       "['SRTMGL1_DEM']"
      ]
     },
     "execution_count": 15,
     "metadata": {},
     "output_type": "execute_result"
    }
   ],
   "source": [
    "dem_response = r.get('{}product/{}'.format(api, prods[2])).json()  # Request layers for the 3rd product (index 2) in the list: SRTMGL1_NC.003\n",
    "list(dem_response.keys())                                          # Print the SRTM DEM layer names "
   ]
  },
  {
   "attachments": {},
   "cell_type": "markdown",
   "metadata": {},
   "source": [
    "#### Finally, append `SRTMGL1_DEM` to the tupled list of desired products/layers."
   ]
  },
  {
   "cell_type": "code",
   "execution_count": null,
   "metadata": {},
   "outputs": [],
   "source": [
    "layers.append((prods[2], 'SRTMGL1_DEM')) # Append to tupled list linking desired product with desired layers"
   ]
  },
  {
   "attachments": {},
   "cell_type": "markdown",
   "metadata": {},
   "source": [
    "#### Below, take the tupled list (layers) and create a list of dictionaries to store each layer+product combination. This will make it easier to insert into the json file used to submit a request in Section 3. "
   ]
  },
  {
   "cell_type": "code",
   "execution_count": null,
   "metadata": {},
   "outputs": [
    {
     "data": {
      "text/plain": [
       "[{'layer': 'LST_Day_1km', 'product': 'MOD11A2.061'},\n",
       " {'layer': 'LST_Night_1km', 'product': 'MOD11A2.061'},\n",
       " {'layer': 'Lai_500m', 'product': 'MCD15A3H.006'},\n",
       " {'layer': 'SRTMGL1_DEM', 'product': 'SRTMGL1_NC.003'}]"
      ]
     },
     "execution_count": 17,
     "metadata": {},
     "output_type": "execute_result"
    },
    {
     "data": {
      "text/plain": [
       "[{'layer': 'LST_Day_1km', 'product': 'MOD11A2.061'},\n",
       " {'layer': 'LST_Night_1km', 'product': 'MOD11A2.061'},\n",
       " {'layer': 'Lai_500m', 'product': 'MCD15A3H.006'},\n",
       " {'layer': 'SRTMGL1_DEM', 'product': 'SRTMGL1_NC.003'}]"
      ]
     },
     "execution_count": 17,
     "metadata": {},
     "output_type": "execute_result"
    }
   ],
   "source": [
    "prodLayer = []\n",
    "for l in layers:\n",
    "    prodLayer.append({\n",
    "            \"layer\": l[1],\n",
    "            \"product\": l[0]\n",
    "          })\n",
    "prodLayer"
   ]
  },
  {
   "attachments": {},
   "cell_type": "markdown",
   "metadata": {},
   "source": [
    "***\n",
    "# 3. Submit an Area Request [[Tasks](https://appeears.earthdatacloud.nasa.gov/api/#tasks)]\n",
    "#### The **Submit task** API call provides a way to submit a new request to be processed. It can accept data via JSON, query string, or a combination of both. In the example below, compile a json and submit a request. Tasks in AρρEEARS correspond to each request associated with your user account. Therefore, each of the calls to this service requires an authentication token (see Section 1c.), which is stored in a header below. "
   ]
  },
  {
   "cell_type": "code",
   "execution_count": null,
   "metadata": {},
   "outputs": [],
   "source": [
    "token = token_response['token']                      # Save login token to a variable\n",
    "head = {'Authorization': 'Bearer {}'.format(token)}  # Create a header to store token information, needed to submit a request"
   ]
  },
  {
   "attachments": {},
   "cell_type": "markdown",
   "metadata": {},
   "source": [
    "---\n",
    "## 3a. Import a Shapefile\n",
    "#### In this section, begin by importing a shapefile using the `geopandas` package. The shapefile is publically available for download from the [NPS website](https://irma.nps.gov/DataStore/Reference/Profile/2224545?lnv=True)."
   ]
  },
  {
   "cell_type": "code",
   "execution_count": null,
   "metadata": {},
   "outputs": [
    {
     "name": "stdout",
     "output_type": "stream",
     "text": [
      "  UNIT_CODE                                          GIS_Notes  \\\n",
      "0      AMME  LEGACY: contact allen_mccoy@nps.gov for additi...   \n",
      "1      EBLA  LEGACY: contact allen_mccoy@nps.gov for additi...   \n",
      "2      LARO  LEGACY: contact allen_mccoy@nps.gov for additi...   \n",
      "3      LEWI  LEGACY: contact allen_mccoy@nps.gov for additi...   \n",
      "4      OLYM  LEGACY: contact allen_mccoy@nps.gov for additi...   \n",
      "\n",
      "                                    UNIT_NAME   DATE_EDIT STATE REGION  \\\n",
      "0                      American Memorial Park  2015-04-22    MP     PW   \n",
      "1  Ebey's Landing National Historical Reserve  2015-04-22    WA     PW   \n",
      "2     Lake Roosevelt National Recreation Area  2015-04-22    WA     PW   \n",
      "3    Lewis and Clark National Historical Park  2015-04-22    WA     PW   \n",
      "4                       Olympic National Park  2015-04-22    WA     PW   \n",
      "\n",
      "   GNIS_ID                    UNIT_TYPE CREATED_BY METADATA  \\\n",
      "0  1879026                         Park     Legacy     None   \n",
      "1  1888910  National Historical Reserve     Legacy     None   \n",
      "2  1531834     National Recreation Area     Legacy     None   \n",
      "3  2055170     National Historical Park     Legacy     None   \n",
      "4  1530459                National Park     Legacy     None   \n",
      "\n",
      "                 PARKNAME                                           geometry  \n",
      "0  American Memorial Park  POLYGON ((145.72350 15.22246, 145.72352 15.222...  \n",
      "1          Ebey's Landing  POLYGON ((-122.65290 48.25379, -122.62396 48.2...  \n",
      "2          Lake Roosevelt  MULTIPOLYGON (((-118.45200 47.84213, -118.4520...  \n",
      "3         Lewis and Clark  MULTIPOLYGON (((-124.07495 46.30228, -124.0746...  \n",
      "4                 Olympic  MULTIPOLYGON (((-124.38061 47.60210, -124.3807...  \n",
      "  UNIT_CODE                                          GIS_Notes  \\\n",
      "0      AMME  LEGACY: contact allen_mccoy@nps.gov for additi...   \n",
      "1      EBLA  LEGACY: contact allen_mccoy@nps.gov for additi...   \n",
      "2      LARO  LEGACY: contact allen_mccoy@nps.gov for additi...   \n",
      "3      LEWI  LEGACY: contact allen_mccoy@nps.gov for additi...   \n",
      "4      OLYM  LEGACY: contact allen_mccoy@nps.gov for additi...   \n",
      "\n",
      "                                    UNIT_NAME   DATE_EDIT STATE REGION  \\\n",
      "0                      American Memorial Park  2015-04-22    MP     PW   \n",
      "1  Ebey's Landing National Historical Reserve  2015-04-22    WA     PW   \n",
      "2     Lake Roosevelt National Recreation Area  2015-04-22    WA     PW   \n",
      "3    Lewis and Clark National Historical Park  2015-04-22    WA     PW   \n",
      "4                       Olympic National Park  2015-04-22    WA     PW   \n",
      "\n",
      "   GNIS_ID                    UNIT_TYPE CREATED_BY METADATA  \\\n",
      "0  1879026                         Park     Legacy     None   \n",
      "1  1888910  National Historical Reserve     Legacy     None   \n",
      "2  1531834     National Recreation Area     Legacy     None   \n",
      "3  2055170     National Historical Park     Legacy     None   \n",
      "4  1530459                National Park     Legacy     None   \n",
      "\n",
      "                 PARKNAME                                           geometry  \n",
      "0  American Memorial Park  POLYGON ((145.72350 15.22246, 145.72352 15.222...  \n",
      "1          Ebey's Landing  POLYGON ((-122.65290 48.25379, -122.62396 48.2...  \n",
      "2          Lake Roosevelt  MULTIPOLYGON (((-118.45200 47.84213, -118.4520...  \n",
      "3         Lewis and Clark  MULTIPOLYGON (((-124.07495 46.30228, -124.0746...  \n",
      "4                 Olympic  MULTIPOLYGON (((-124.38061 47.60210, -124.3807...  \n"
     ]
    }
   ],
   "source": [
    "nps = gpd.read_file('{}nps_boundary.shp'.format(inDir + os.sep + 'Data' + os.sep)) # Read in shapefile as dataframe using geopandas\n",
    "print(nps.head())                                                # Print first few lines of dataframe"
   ]
  },
  {
   "attachments": {},
   "cell_type": "markdown",
   "metadata": {},
   "source": [
    "#### Below, query the `geopandas` dataframe for the national park that you are interested in using for your region of interest, here *Grand Canyon National Park*."
   ]
  },
  {
   "cell_type": "code",
   "execution_count": null,
   "metadata": {},
   "outputs": [],
   "source": [
    "nps_gc = nps[nps['UNIT_NAME']=='Grand Canyon National Park'].to_json() # Extract Grand Canyon NP and set to variable\n",
    "nps_gc = json.loads(nps_gc)                                            # Convert to json format"
   ]
  },
  {
   "attachments": {},
   "cell_type": "markdown",
   "metadata": {},
   "source": [
    "---\n",
    "## 3b. Search and Explore Available Projections [[Spatial API](https://appeears.earthdatacloud.nasa.gov/api/#spatial)]   \n",
    "#### The spatial API provides some helper services used to support submitting area task requests. The call below will retrieve the list of supported projections in AρρEEARS."
   ]
  },
  {
   "cell_type": "code",
   "execution_count": null,
   "metadata": {},
   "outputs": [
    {
     "data": {
      "text/plain": [
       "[{'Name': 'native',\n",
       "  'Description': 'Native Projection',\n",
       "  'Platforms': '',\n",
       "  'Proj4': '',\n",
       "  'Datum': '',\n",
       "  'EPSG': '',\n",
       "  'Units': '',\n",
       "  'GridMapping': '',\n",
       "  'Available': True},\n",
       " {'Name': 'geographic',\n",
       "  'Description': 'Geographic',\n",
       "  'Platforms': \"['SRTM', 'ECOSTRESS', 'SSEBop ET', 'GPW', 'ASTER GDEM', 'NASADEM']\",\n",
       "  'Proj4': '+proj=longlat +datum=WGS84 +no_defs',\n",
       "  'Datum': 'wgs84',\n",
       "  'EPSG': 4326.0,\n",
       "  'Units': 'degrees',\n",
       "  'GridMapping': 'latitude_longitude',\n",
       "  'Available': True},\n",
       " {'Name': 'sinu_modis',\n",
       "  'Description': 'MODIS Sinusoidal',\n",
       "  'Platforms': \"['Combined MODIS', 'Terra MODIS', 'Aqua MODIS', 'S-NPP NASA VIIRS', 'Global WELD']\",\n",
       "  'Proj4': '+proj=sinu +lon_0=0 +x_0=0 +y_0=0 +R=6371007.181 +units=m +no_defs',\n",
       "  'Datum': '',\n",
       "  'EPSG': '',\n",
       "  'Units': 'meters',\n",
       "  'GridMapping': 'sinusoidal',\n",
       "  'Available': True},\n",
       " {'Name': 'albers_weld_alaska',\n",
       "  'Description': 'WELD Albers Equal Area Alaska',\n",
       "  'Platforms': \"['WELD']\",\n",
       "  'Proj4': '+proj=aea +lat_1=55 +lat_2=65 +lat_0=50 +lon_0=-154 +x_0=0 +y_0=0 +datum=WGS84 +units=m +no_defs',\n",
       "  'Datum': 'wgs84',\n",
       "  'EPSG': '',\n",
       "  'Units': 'meters',\n",
       "  'GridMapping': 'albers_conical_equal_area',\n",
       "  'Available': True},\n",
       " {'Name': 'albers_weld_conus',\n",
       "  'Description': 'WELD Albers Equal Area CONUS',\n",
       "  'Platforms': \"['WELD']\",\n",
       "  'Proj4': '+proj=aea +lat_1=29.5 +lat_2=45.5 +lat_0=23 +lon_0=-96 +x_0=0 +y_0=0 +datum=WGS84 +units=m +no_defs',\n",
       "  'Datum': 'wgs84',\n",
       "  'EPSG': '',\n",
       "  'Units': 'meters',\n",
       "  'GridMapping': 'albers_conical_equal_area',\n",
       "  'Available': True},\n",
       " {'Name': 'albers_ard_alaska',\n",
       "  'Description': 'Landsat ARD Albers Equal Area Alaska',\n",
       "  'Platforms': \"['Landsat ARD']\",\n",
       "  'Proj4': '+proj=aea +lat_1=55 +lat_2=65 +lat_0=50 +lon_0=-154 +x_0=0 +y_0=0 +datum=WGS84 +units=m +no_defs',\n",
       "  'Datum': 'wgs84',\n",
       "  'EPSG': '',\n",
       "  'Units': 'meters',\n",
       "  'GridMapping': 'albers_conical_equal_area',\n",
       "  'Available': True},\n",
       " {'Name': 'albers_ard_conus',\n",
       "  'Description': 'Landsat ARD Albers Equal Area CONUS',\n",
       "  'Platforms': \"['Landsat ARD']\",\n",
       "  'Proj4': '+proj=aea +lat_1=29.5 +lat_2=45.5 +lat_0=23 +lon_0=-96 +x_0=0 +y_0=0 +datum=WGS84 +units=m +no_defs',\n",
       "  'Datum': 'wgs84',\n",
       "  'EPSG': '',\n",
       "  'Units': 'meters',\n",
       "  'GridMapping': 'albers_conical_equal_area',\n",
       "  'Available': True},\n",
       " {'Name': 'albers_ard_hawaii',\n",
       "  'Description': 'Landsat ARD Albers Equal Area Hawaii',\n",
       "  'Platforms': \"['Landsat ARD']\",\n",
       "  'Proj4': '+proj=aea +lat_1=8 +lat_2=18 +lat_0=3 +lon_0=-157 +x_0=0 +y_0=0 +datum=WGS84 +units=m +no_defs',\n",
       "  'Datum': 'wgs84',\n",
       "  'EPSG': '',\n",
       "  'Units': 'meters',\n",
       "  'GridMapping': 'albers_conical_equal_area',\n",
       "  'Available': True},\n",
       " {'Name': 'easegrid_2_global',\n",
       "  'Description': 'EASE-Grid 2.0 Global',\n",
       "  'Platforms': \"['SMAP']\",\n",
       "  'Proj4': '+proj=cea +lon_0=0 +lat_ts=30 +x_0=0 +y_0=0 +datum=WGS84 +units=m +no_defs',\n",
       "  'Datum': 'wgs84',\n",
       "  'EPSG': 6933.0,\n",
       "  'Units': 'meters',\n",
       "  'GridMapping': 'lambert_cylindrical_equal_area',\n",
       "  'Available': True},\n",
       " {'Name': 'easegrid_2_north',\n",
       "  'Description': 'EASE-Grid 2.0 Northern Hemisphere',\n",
       "  'Platforms': \"['SMAP']\",\n",
       "  'Proj4': '+proj=laea +lat_0=90 +lon_0=0 +x_0=0 +y_0=0 +datum=WGS84 +units=m +no_defs',\n",
       "  'Datum': 'wgs84',\n",
       "  'EPSG': 6931.0,\n",
       "  'Units': 'meters',\n",
       "  'GridMapping': 'lambert_cylindrical_equal_area',\n",
       "  'Available': True},\n",
       " {'Name': 'laea_sphere_19',\n",
       "  'Description': 'Lambert Azimuthal Equal Area Sphere 19',\n",
       "  'Platforms': \"['eMODIS Smoothed NDVI']\",\n",
       "  'Proj4': '+proj=laea +lat_0=45 +lon_0=-100 +x_0=0 +y_0=0 +a=6370997 +b=6370997 +units=m +no_defs',\n",
       "  'Datum': '',\n",
       "  'EPSG': '',\n",
       "  'Units': 'meters',\n",
       "  'GridMapping': 'lambert_azimuthal_equal_area',\n",
       "  'Available': True}]"
      ]
     },
     "execution_count": 21,
     "metadata": {},
     "output_type": "execute_result"
    },
    {
     "data": {
      "text/plain": [
       "[{'Name': 'native',\n",
       "  'Description': 'Native Projection',\n",
       "  'Platforms': '',\n",
       "  'Proj4': '',\n",
       "  'Datum': '',\n",
       "  'EPSG': '',\n",
       "  'Units': '',\n",
       "  'GridMapping': '',\n",
       "  'Available': True},\n",
       " {'Name': 'geographic',\n",
       "  'Description': 'Geographic',\n",
       "  'Platforms': \"['SRTM', 'ECOSTRESS', 'SSEBop ET', 'GPW', 'ASTER GDEM', 'NASADEM']\",\n",
       "  'Proj4': '+proj=longlat +datum=WGS84 +no_defs',\n",
       "  'Datum': 'wgs84',\n",
       "  'EPSG': 4326.0,\n",
       "  'Units': 'degrees',\n",
       "  'GridMapping': 'latitude_longitude',\n",
       "  'Available': True},\n",
       " {'Name': 'sinu_modis',\n",
       "  'Description': 'MODIS Sinusoidal',\n",
       "  'Platforms': \"['Combined MODIS', 'Terra MODIS', 'Aqua MODIS', 'S-NPP NASA VIIRS', 'Global WELD']\",\n",
       "  'Proj4': '+proj=sinu +lon_0=0 +x_0=0 +y_0=0 +R=6371007.181 +units=m +no_defs',\n",
       "  'Datum': '',\n",
       "  'EPSG': '',\n",
       "  'Units': 'meters',\n",
       "  'GridMapping': 'sinusoidal',\n",
       "  'Available': True},\n",
       " {'Name': 'albers_weld_alaska',\n",
       "  'Description': 'WELD Albers Equal Area Alaska',\n",
       "  'Platforms': \"['WELD']\",\n",
       "  'Proj4': '+proj=aea +lat_1=55 +lat_2=65 +lat_0=50 +lon_0=-154 +x_0=0 +y_0=0 +datum=WGS84 +units=m +no_defs',\n",
       "  'Datum': 'wgs84',\n",
       "  'EPSG': '',\n",
       "  'Units': 'meters',\n",
       "  'GridMapping': 'albers_conical_equal_area',\n",
       "  'Available': True},\n",
       " {'Name': 'albers_weld_conus',\n",
       "  'Description': 'WELD Albers Equal Area CONUS',\n",
       "  'Platforms': \"['WELD']\",\n",
       "  'Proj4': '+proj=aea +lat_1=29.5 +lat_2=45.5 +lat_0=23 +lon_0=-96 +x_0=0 +y_0=0 +datum=WGS84 +units=m +no_defs',\n",
       "  'Datum': 'wgs84',\n",
       "  'EPSG': '',\n",
       "  'Units': 'meters',\n",
       "  'GridMapping': 'albers_conical_equal_area',\n",
       "  'Available': True},\n",
       " {'Name': 'albers_ard_alaska',\n",
       "  'Description': 'Landsat ARD Albers Equal Area Alaska',\n",
       "  'Platforms': \"['Landsat ARD']\",\n",
       "  'Proj4': '+proj=aea +lat_1=55 +lat_2=65 +lat_0=50 +lon_0=-154 +x_0=0 +y_0=0 +datum=WGS84 +units=m +no_defs',\n",
       "  'Datum': 'wgs84',\n",
       "  'EPSG': '',\n",
       "  'Units': 'meters',\n",
       "  'GridMapping': 'albers_conical_equal_area',\n",
       "  'Available': True},\n",
       " {'Name': 'albers_ard_conus',\n",
       "  'Description': 'Landsat ARD Albers Equal Area CONUS',\n",
       "  'Platforms': \"['Landsat ARD']\",\n",
       "  'Proj4': '+proj=aea +lat_1=29.5 +lat_2=45.5 +lat_0=23 +lon_0=-96 +x_0=0 +y_0=0 +datum=WGS84 +units=m +no_defs',\n",
       "  'Datum': 'wgs84',\n",
       "  'EPSG': '',\n",
       "  'Units': 'meters',\n",
       "  'GridMapping': 'albers_conical_equal_area',\n",
       "  'Available': True},\n",
       " {'Name': 'albers_ard_hawaii',\n",
       "  'Description': 'Landsat ARD Albers Equal Area Hawaii',\n",
       "  'Platforms': \"['Landsat ARD']\",\n",
       "  'Proj4': '+proj=aea +lat_1=8 +lat_2=18 +lat_0=3 +lon_0=-157 +x_0=0 +y_0=0 +datum=WGS84 +units=m +no_defs',\n",
       "  'Datum': 'wgs84',\n",
       "  'EPSG': '',\n",
       "  'Units': 'meters',\n",
       "  'GridMapping': 'albers_conical_equal_area',\n",
       "  'Available': True},\n",
       " {'Name': 'easegrid_2_global',\n",
       "  'Description': 'EASE-Grid 2.0 Global',\n",
       "  'Platforms': \"['SMAP']\",\n",
       "  'Proj4': '+proj=cea +lon_0=0 +lat_ts=30 +x_0=0 +y_0=0 +datum=WGS84 +units=m +no_defs',\n",
       "  'Datum': 'wgs84',\n",
       "  'EPSG': 6933.0,\n",
       "  'Units': 'meters',\n",
       "  'GridMapping': 'lambert_cylindrical_equal_area',\n",
       "  'Available': True},\n",
       " {'Name': 'easegrid_2_north',\n",
       "  'Description': 'EASE-Grid 2.0 Northern Hemisphere',\n",
       "  'Platforms': \"['SMAP']\",\n",
       "  'Proj4': '+proj=laea +lat_0=90 +lon_0=0 +x_0=0 +y_0=0 +datum=WGS84 +units=m +no_defs',\n",
       "  'Datum': 'wgs84',\n",
       "  'EPSG': 6931.0,\n",
       "  'Units': 'meters',\n",
       "  'GridMapping': 'lambert_cylindrical_equal_area',\n",
       "  'Available': True},\n",
       " {'Name': 'laea_sphere_19',\n",
       "  'Description': 'Lambert Azimuthal Equal Area Sphere 19',\n",
       "  'Platforms': \"['eMODIS Smoothed NDVI']\",\n",
       "  'Proj4': '+proj=laea +lat_0=45 +lon_0=-100 +x_0=0 +y_0=0 +a=6370997 +b=6370997 +units=m +no_defs',\n",
       "  'Datum': '',\n",
       "  'EPSG': '',\n",
       "  'Units': 'meters',\n",
       "  'GridMapping': 'lambert_azimuthal_equal_area',\n",
       "  'Available': True}]"
      ]
     },
     "execution_count": 21,
     "metadata": {},
     "output_type": "execute_result"
    }
   ],
   "source": [
    "projections = r.get('{}spatial/proj'.format(api)).json()  # Call to spatial API, return projs as json\n",
    "projections                                               # Print projections and information"
   ]
  },
  {
   "attachments": {},
   "cell_type": "markdown",
   "metadata": {},
   "source": [
    "#### Create a dictionary of projections with projection `Name` as the keys."
   ]
  },
  {
   "cell_type": "code",
   "execution_count": null,
   "metadata": {},
   "outputs": [
    {
     "data": {
      "text/plain": [
       "['native',\n",
       " 'geographic',\n",
       " 'sinu_modis',\n",
       " 'albers_weld_alaska',\n",
       " 'albers_weld_conus',\n",
       " 'albers_ard_alaska',\n",
       " 'albers_ard_conus',\n",
       " 'albers_ard_hawaii',\n",
       " 'easegrid_2_global',\n",
       " 'easegrid_2_north',\n",
       " 'laea_sphere_19']"
      ]
     },
     "execution_count": 22,
     "metadata": {},
     "output_type": "execute_result"
    },
    {
     "data": {
      "text/plain": [
       "['native',\n",
       " 'geographic',\n",
       " 'sinu_modis',\n",
       " 'albers_weld_alaska',\n",
       " 'albers_weld_conus',\n",
       " 'albers_ard_alaska',\n",
       " 'albers_ard_conus',\n",
       " 'albers_ard_hawaii',\n",
       " 'easegrid_2_global',\n",
       " 'easegrid_2_north',\n",
       " 'laea_sphere_19']"
      ]
     },
     "execution_count": 22,
     "metadata": {},
     "output_type": "execute_result"
    }
   ],
   "source": [
    "projs = {}                                  # Create an empty dictionary\n",
    "for p in projections: projs[p['Name']] = p  # Fill dictionary with `Name` as keys\n",
    "list(projs.keys())                          # Print dictionary keys"
   ]
  },
  {
   "attachments": {},
   "cell_type": "markdown",
   "metadata": {},
   "source": [
    "#### Print the information for the projection used in this tutorial."
   ]
  },
  {
   "cell_type": "code",
   "execution_count": null,
   "metadata": {},
   "outputs": [
    {
     "data": {
      "text/plain": [
       "{'Name': 'geographic',\n",
       " 'Description': 'Geographic',\n",
       " 'Platforms': \"['SRTM', 'ECOSTRESS', 'SSEBop ET', 'GPW', 'ASTER GDEM', 'NASADEM']\",\n",
       " 'Proj4': '+proj=longlat +datum=WGS84 +no_defs',\n",
       " 'Datum': 'wgs84',\n",
       " 'EPSG': 4326.0,\n",
       " 'Units': 'degrees',\n",
       " 'GridMapping': 'latitude_longitude',\n",
       " 'Available': True}"
      ]
     },
     "execution_count": 23,
     "metadata": {},
     "output_type": "execute_result"
    },
    {
     "data": {
      "text/plain": [
       "{'Name': 'geographic',\n",
       " 'Description': 'Geographic',\n",
       " 'Platforms': \"['SRTM', 'ECOSTRESS', 'SSEBop ET', 'GPW', 'ASTER GDEM', 'NASADEM']\",\n",
       " 'Proj4': '+proj=longlat +datum=WGS84 +no_defs',\n",
       " 'Datum': 'wgs84',\n",
       " 'EPSG': 4326.0,\n",
       " 'Units': 'degrees',\n",
       " 'GridMapping': 'latitude_longitude',\n",
       " 'Available': True}"
      ]
     },
     "execution_count": 23,
     "metadata": {},
     "output_type": "execute_result"
    }
   ],
   "source": [
    "projs['geographic']"
   ]
  },
  {
   "attachments": {},
   "cell_type": "markdown",
   "metadata": {},
   "source": [
    "---\n",
    "## 3c. Compile a JSON  [[Task Object](https://appeears.earthdatacloud.nasa.gov/api/#task-object)]\n",
    "#### In this section, begin by setting up the information needed to compile an acceptable json for submitting an AρρEEARS area request. For detailed information on required json parameters, see the [API Documentation](https://appeears.earthdatacloud.nasa.gov/api/). "
   ]
  },
  {
   "cell_type": "code",
   "execution_count": null,
   "metadata": {
    "scrolled": true
   },
   "outputs": [
    {
     "name": "stdout",
     "output_type": "stream",
     "text": [
      "Enter a Task Name: NPS Vegetation Area\n"
     ]
    }
   ],
   "source": [
    "task_name = input('Enter a Task Name: ') # User-defined name of the task: 'NPS Vegetation Area' used in example"
   ]
  },
  {
   "cell_type": "code",
   "execution_count": null,
   "metadata": {},
   "outputs": [],
   "source": [
    "task_type = ['point','area']        # Type of task, area or point\n",
    "proj = projs['geographic']['Name']  # Set output projection \n",
    "outFormat = ['geotiff', 'netcdf4']  # Set output file format type\n",
    "startDate = '07-01-2017'            # Start of the date range for which to extract data: MM-DD-YYYY\n",
    "endDate = '07-31-2017'              # End of the date range for which to extract data: MM-DD-YYYY\n",
    "recurring = False                   # Specify True for a recurring date range\n",
    "#yearRange = [2000,2016]            # if recurring = True, set yearRange, change start/end date to MM-DD"
   ]
  },
  {
   "attachments": {},
   "cell_type": "markdown",
   "metadata": {},
   "source": [
    "#### Below, compile the JSON to be submitted as an area request. Notice that `nps_gc` is inserted from the shapefile transformed to a json via the `geopandas` and `json` packages above in section 3a. "
   ]
  },
  {
   "cell_type": "code",
   "execution_count": null,
   "metadata": {},
   "outputs": [],
   "source": [
    "task = {\n",
    "    'task_type': task_type[1],\n",
    "    'task_name': task_name,\n",
    "    'params': {\n",
    "         'dates': [\n",
    "         {\n",
    "             'startDate': startDate,\n",
    "             'endDate': endDate\n",
    "         }],\n",
    "         'layers': prodLayer,\n",
    "         'output': {\n",
    "                 'format': {\n",
    "                         'type': outFormat[0]}, \n",
    "                         'projection': proj},\n",
    "         'geo': nps_gc,\n",
    "    }\n",
    "}"
   ]
  },
  {
   "attachments": {},
   "cell_type": "markdown",
   "metadata": {},
   "source": [
    "***\n",
    "## 3d. Submit a Task Request [[Submit Task](https://appeears.earthdatacloud.nasa.gov/api/#submit-task)]\n",
    "#### Below, post a call to the API task service, using the `task` json created above."
   ]
  },
  {
   "cell_type": "code",
   "execution_count": null,
   "metadata": {},
   "outputs": [
    {
     "data": {
      "text/plain": [
       "{'task_id': 'ede0d7c3-4887-4cdc-8f49-458008862aaf', 'status': 'pending'}"
      ]
     },
     "execution_count": 27,
     "metadata": {},
     "output_type": "execute_result"
    },
    {
     "data": {
      "text/plain": [
       "{'task_id': 'ede0d7c3-4887-4cdc-8f49-458008862aaf', 'status': 'pending'}"
      ]
     },
     "execution_count": 27,
     "metadata": {},
     "output_type": "execute_result"
    }
   ],
   "source": [
    "task_response = r.post('{}task'.format(api), json=task, headers=head).json()  # Post json to the API task service, return response as json\n",
    "task_response                                                                 # Print task response"
   ]
  },
  {
   "attachments": {},
   "cell_type": "markdown",
   "metadata": {},
   "source": [
    "***\n",
    "## 3e. Retrieve Task Status [[Retrieve Task](https://appeears.earthdatacloud.nasa.gov/api/#retrieve-task)]\n",
    "#### This API call will list all of the requests associated with your user account, automatically sorted by date descending with the most recent requests listed first. "
   ]
  },
  {
   "attachments": {},
   "cell_type": "markdown",
   "metadata": {},
   "source": [
    "#### The AρρEEARS API contains some helpful formatting resources. Below, limit the API response to 2 entries and set `pretty` to True to format the response as an organized json, making it easier to read. Additional information on AρρEEARS API [pagination](https://appeears.earthdatacloud.nasa.gov/api/#pagination) and [formatting](https://appeears.earthdatacloud.nasa.gov/api/#formatting) can be found in the API documentation. "
   ]
  },
  {
   "cell_type": "code",
   "execution_count": null,
   "metadata": {},
   "outputs": [],
   "source": [
    "params = {'limit': 2, 'pretty': True} # Limit API response to 2 most recent entries, return as pretty json"
   ]
  },
  {
   "cell_type": "code",
   "execution_count": null,
   "metadata": {},
   "outputs": [
    {
     "data": {
      "text/plain": [
       "[{'params': {'dates': [{'endDate': '07-31-2017', 'startDate': '07-01-2017'}],\n",
       "   'layers': [{'layer': 'LST_Day_1km', 'product': 'MOD11A2.061'},\n",
       "    {'layer': 'LST_Night_1km', 'product': 'MOD11A2.061'},\n",
       "    {'layer': 'Lai_500m', 'product': 'MCD15A3H.006'},\n",
       "    {'layer': 'SRTMGL1_DEM', 'product': 'SRTMGL1_NC.003'}],\n",
       "   'output': {'format': {'type': 'geotiff'}, 'projection': 'geographic'}},\n",
       "  'status': 'pending',\n",
       "  'created': '2022-05-06T18:21:00.769083',\n",
       "  'task_id': 'ede0d7c3-4887-4cdc-8f49-458008862aaf',\n",
       "  'updated': '2022-05-06T18:21:11.961486',\n",
       "  'user_id': 'user@email.com',\n",
       "  'estimate': {'request_size': 196969757.51610893},\n",
       "  'has_swath': False,\n",
       "  'task_name': 'NPS Vegetation Area',\n",
       "  'task_type': 'area',\n",
       "  'api_version': 'v1',\n",
       "  'svc_version': '3.2.1',\n",
       "  'web_version': None,\n",
       "  'has_nsidc_daac': False,\n",
       "  'expires_on': '2022-06-05T18:21:11.961486'},\n",
       " {'error': None,\n",
       "  'params': {'dates': [{'endDate': '12-31-2017', 'startDate': '01-01-2017'}],\n",
       "   'layers': [{'layer': 'LST_Day_1km', 'product': 'MOD11A2.061'},\n",
       "    {'layer': 'LST_Night_1km', 'product': 'MOD11A2.061'},\n",
       "    {'layer': 'Lai_500m', 'product': 'MCD15A3H.006'}]},\n",
       "  'status': 'done',\n",
       "  'created': '2022-05-06T17:33:50.955284',\n",
       "  'task_id': '5f4973b1-345e-447a-ac05-7c47955f4213',\n",
       "  'updated': '2022-05-06T17:49:42.697795',\n",
       "  'user_id': 'user@email.com',\n",
       "  'attempts': 1,\n",
       "  'estimate': {'request_size': 272},\n",
       "  'retry_at': None,\n",
       "  'completed': '2022-05-06T17:49:42.697188',\n",
       "  'has_swath': False,\n",
       "  'task_name': 'NPS Vegetation',\n",
       "  'task_type': 'point',\n",
       "  'api_version': 'v1',\n",
       "  'svc_version': '3.2.1',\n",
       "  'web_version': None,\n",
       "  'size_category': '0',\n",
       "  'has_nsidc_daac': False,\n",
       "  'expires_on': '2022-06-05T17:49:42.697795'}]"
      ]
     },
     "execution_count": 29,
     "metadata": {},
     "output_type": "execute_result"
    },
    {
     "data": {
      "text/plain": [
       "[{'params': {'dates': [{'endDate': '07-31-2017', 'startDate': '07-01-2017'}],\n",
       "   'layers': [{'layer': 'LST_Day_1km', 'product': 'MOD11A2.061'},\n",
       "    {'layer': 'LST_Night_1km', 'product': 'MOD11A2.061'},\n",
       "    {'layer': 'Lai_500m', 'product': 'MCD15A3H.006'},\n",
       "    {'layer': 'SRTMGL1_DEM', 'product': 'SRTMGL1_NC.003'}],\n",
       "   'output': {'format': {'type': 'geotiff'}, 'projection': 'geographic'}},\n",
       "  'status': 'pending',\n",
       "  'created': '2022-05-06T18:21:00.769083',\n",
       "  'task_id': 'ede0d7c3-4887-4cdc-8f49-458008862aaf',\n",
       "  'updated': '2022-05-06T18:21:11.961486',\n",
       "  'user_id': 'user@email.com',\n",
       "  'estimate': {'request_size': 196969757.51610893},\n",
       "  'has_swath': False,\n",
       "  'task_name': 'NPS Vegetation Area',\n",
       "  'task_type': 'area',\n",
       "  'api_version': 'v1',\n",
       "  'svc_version': '3.2.1',\n",
       "  'web_version': None,\n",
       "  'has_nsidc_daac': False,\n",
       "  'expires_on': '2022-06-05T18:21:11.961486'},\n",
       " {'error': None,\n",
       "  'params': {'dates': [{'endDate': '12-31-2017', 'startDate': '01-01-2017'}],\n",
       "   'layers': [{'layer': 'LST_Day_1km', 'product': 'MOD11A2.061'},\n",
       "    {'layer': 'LST_Night_1km', 'product': 'MOD11A2.061'},\n",
       "    {'layer': 'Lai_500m', 'product': 'MCD15A3H.006'}]},\n",
       "  'status': 'done',\n",
       "  'created': '2022-05-06T17:33:50.955284',\n",
       "  'task_id': '5f4973b1-345e-447a-ac05-7c47955f4213',\n",
       "  'updated': '2022-05-06T17:49:42.697795',\n",
       "  'user_id': 'user@email.com',\n",
       "  'attempts': 1,\n",
       "  'estimate': {'request_size': 272},\n",
       "  'retry_at': None,\n",
       "  'completed': '2022-05-06T17:49:42.697188',\n",
       "  'has_swath': False,\n",
       "  'task_name': 'NPS Vegetation',\n",
       "  'task_type': 'point',\n",
       "  'api_version': 'v1',\n",
       "  'svc_version': '3.2.1',\n",
       "  'web_version': None,\n",
       "  'size_category': '0',\n",
       "  'has_nsidc_daac': False,\n",
       "  'expires_on': '2022-06-05T17:49:42.697795'}]"
      ]
     },
     "execution_count": 29,
     "metadata": {},
     "output_type": "execute_result"
    }
   ],
   "source": [
    "tasks_response = r.get('{}task'.format(api), params=params, headers=head).json() # Query task service, setting params and header \n",
    "tasks_response                                                                   # Print tasks response"
   ]
  },
  {
   "attachments": {},
   "cell_type": "markdown",
   "metadata": {},
   "source": [
    "#### Next, take the task id returned from the `task_response` that was generated when submitting your request, and use the AρρEEARS API status service to check the status of your request."
   ]
  },
  {
   "cell_type": "code",
   "execution_count": null,
   "metadata": {},
   "outputs": [
    {
     "data": {
      "text/plain": [
       "{'task_id': 'ede0d7c3-4887-4cdc-8f49-458008862aaf',\n",
       " 'status': 'pending',\n",
       " 'user_id': 'user@email.com',\n",
       " 'updated': '2022-05-06T18:21:11.961486',\n",
       " 'status_type': 'task'}"
      ]
     },
     "execution_count": 30,
     "metadata": {},
     "output_type": "execute_result"
    },
    {
     "data": {
      "text/plain": [
       "{'task_id': 'ede0d7c3-4887-4cdc-8f49-458008862aaf',\n",
       " 'status': 'pending',\n",
       " 'user_id': 'user@email.com',\n",
       " 'updated': '2022-05-06T18:21:11.961486',\n",
       " 'status_type': 'task'}"
      ]
     },
     "execution_count": 30,
     "metadata": {},
     "output_type": "execute_result"
    }
   ],
   "source": [
    "task_id = task_response['task_id']                                               # Set task id from request submission\n",
    "status_response = r.get('{}status/{}'.format(api, task_id), headers=head).json() # Call status service with specific task ID & user credentials\n",
    "status_response                                                        "
   ]
  },
  {
   "attachments": {},
   "cell_type": "markdown",
   "metadata": {},
   "source": [
    "#### Above, if your request is still processing, you can find information on the status of how close it is to completing. \n",
    "#### Below, call the task service for your request every 20 seconds to check the status of your request."
   ]
  },
  {
   "cell_type": "code",
   "execution_count": null,
   "metadata": {},
   "outputs": [
    {
     "name": "stdout",
     "output_type": "stream",
     "text": [
      "pending\n",
      "pending\n",
      "pending\n",
      "pending\n",
      "pending\n",
      "pending\n",
      "pending\n",
      "pending\n",
      "pending\n",
      "pending\n",
      "pending\n",
      "pending\n",
      "processing\n",
      "processing\n",
      "processing\n",
      "processing\n",
      "processing\n",
      "processing\n",
      "processing\n",
      "processing\n",
      "processing\n",
      "processing\n",
      "processing\n",
      "processing\n",
      "processing\n",
      "processing\n",
      "processing\n",
      "processing\n",
      "processing\n",
      "processing\n",
      "processing\n",
      "processing\n",
      "processing\n",
      "processing\n",
      "processing\n",
      "processing\n",
      "processing\n",
      "processing\n",
      "processing\n",
      "processing\n",
      "processing\n",
      "processing\n",
      "done\n",
      "done\n"
     ]
    }
   ],
   "source": [
    "# Ping API until request is complete, then continue to Section 4\n",
    "starttime = time.time()\n",
    "while r.get('{}task/{}'.format(api, task_id), headers=head).json()['status'] != 'done':\n",
    "    print(r.get('{}task/{}'.format(api, task_id), headers=head).json()['status'])\n",
    "    time.sleep(20.0 - ((time.time() - starttime) % 20.0))\n",
    "print(r.get('{}task/{}'.format(api, task_id), headers=head).json()['status'])"
   ]
  },
  {
   "attachments": {},
   "cell_type": "markdown",
   "metadata": {},
   "source": [
    "***\n",
    "# 4. Download a Request [[Bundle API](https://appeears.earthdatacloud.nasa.gov/api/#bundle)]\n",
    "#### Before downloading the request output, set up an output directory to store the output files, and examine the files contained in the request output. "
   ]
  },
  {
   "cell_type": "code",
   "execution_count": null,
   "metadata": {},
   "outputs": [],
   "source": [
    "destDir = os.path.join(inDir, task_name)                # Set up output directory using input directory and task name\n",
    "if not os.path.exists(destDir):os.makedirs(destDir)     # Create the output directory"
   ]
  },
  {
   "attachments": {},
   "cell_type": "markdown",
   "metadata": {},
   "source": [
    "---\n",
    "## 4a. Explore Files in Request Output [[List Files](https://appeears.earthdatacloud.nasa.gov/api/#list-files)]\n",
    "#### The bundle API provides information about completed tasks. For any completed task, a bundle can be queried to return the files contained as a part of the task request. Below, call the bundle API and return all of the output files."
   ]
  },
  {
   "cell_type": "code",
   "execution_count": null,
   "metadata": {
    "scrolled": true
   },
   "outputs": [
    {
     "data": {
      "text/plain": [
       "{'files': [{'sha256': '9931687ff1bda429c6fe1b3bfaf67ea60ca82b118dd542c5447a271e933ac19e',\n",
       "   'file_id': '883b2c91-674e-41eb-9868-bd0c66f2499b',\n",
       "   'file_name': 'MCD15A3H.006_2017179_to_2017212/MCD15A3H.006_Lai_500m_doy2017181_aid0001.tif',\n",
       "   'file_size': 13516,\n",
       "   'file_type': 'tif'},\n",
       "  {'sha256': '184b3039d86523ea38a6df08a862dfa717694c03bca2c1e9526ae80dad9d2d77',\n",
       "   'file_id': 'cca17927-2eb2-4f67-8c25-adffc970e33e',\n",
       "   'file_name': 'MCD15A3H.006_2017179_to_2017212/MCD15A3H.006_Lai_500m_doy2017185_aid0001.tif',\n",
       "   'file_size': 13435,\n",
       "   'file_type': 'tif'},\n",
       "  {'sha256': '1e9e90105902a6a20fec619816ac85ef05b74e28c616f0be68f70d49baac4627',\n",
       "   'file_id': '884a41ab-978b-46cb-8087-bf7ffc6c850c',\n",
       "   'file_name': 'MCD15A3H.006_2017179_to_2017212/MCD15A3H.006_Lai_500m_doy2017189_aid0001.tif',\n",
       "   'file_size': 13713,\n",
       "   'file_type': 'tif'},\n",
       "  {'sha256': '0893f432bb8985e945993835d2e5d034a49216d298084c9b5be877280856457a',\n",
       "   'file_id': '39fb9aad-7564-4925-a4fa-766e3b732163',\n",
       "   'file_name': 'MCD15A3H.006_2017179_to_2017212/MCD15A3H.006_Lai_500m_doy2017193_aid0001.tif',\n",
       "   'file_size': 13939,\n",
       "   'file_type': 'tif'},\n",
       "  {'sha256': '5df866a22274cbac94ffbdfa6d8005c84993e775d02e9dcd48b4b538b58d021c',\n",
       "   'file_id': '15b09334-d519-4f99-b798-5929ee893c4b',\n",
       "   'file_name': 'MCD15A3H.006_2017179_to_2017212/MCD15A3H.006_Lai_500m_doy2017197_aid0001.tif',\n",
       "   'file_size': 14176,\n",
       "   'file_type': 'tif'},\n",
       "  {'sha256': '9a452782fe59e3271e161d7cd0377aa3e7872206cfff72fa1452e5447c80007b',\n",
       "   'file_id': 'a7adc9dc-fc7b-46c7-8129-69acb2b65773',\n",
       "   'file_name': 'MCD15A3H.006_2017179_to_2017212/MCD15A3H.006_Lai_500m_doy2017201_aid0001.tif',\n",
       "   'file_size': 14333,\n",
       "   'file_type': 'tif'},\n",
       "  {'sha256': 'a562c68fdcbd86a559b59485debbe3f6d9ff56be2b31460e38c560f1f05d2df2',\n",
       "   'file_id': '828813ec-8bdc-46fd-aaa2-9edb2a05b4da',\n",
       "   'file_name': 'MCD15A3H.006_2017179_to_2017212/MCD15A3H.006_Lai_500m_doy2017205_aid0001.tif',\n",
       "   'file_size': 13401,\n",
       "   'file_type': 'tif'},\n",
       "  {'sha256': 'ad1fede1795360af0a56adb0c445889baa53f63d1329efe18ead724357a2faa8',\n",
       "   'file_id': 'c92e297e-c691-4275-a49b-aff597fb85ab',\n",
       "   'file_name': 'MCD15A3H.006_2017179_to_2017212/MCD15A3H.006_Lai_500m_doy2017209_aid0001.tif',\n",
       "   'file_size': 13580,\n",
       "   'file_type': 'tif'},\n",
       "  {'sha256': '4b3db3b622e0fe10afd0be0d61b479cc41741f8c1f6dd6b00f9a5d66728aa6e1',\n",
       "   'file_id': 'b6bead40-be5c-42f0-9464-663ad383acda',\n",
       "   'file_name': 'MCD15A3H.006_2017179_to_2017212/MCD15A3H.006_FparLai_QC_doy2017181_aid0001.tif',\n",
       "   'file_size': 8968,\n",
       "   'file_type': 'tif'},\n",
       "  {'sha256': '123e69417f49ebc75f2d0641359148f629fb02c6f50f18bb80b4d1cdc11c7d2b',\n",
       "   'file_id': '2047adf2-45f7-4d38-b772-2110bfcabb51',\n",
       "   'file_name': 'MCD15A3H.006_2017179_to_2017212/MCD15A3H.006_FparLai_QC_doy2017185_aid0001.tif',\n",
       "   'file_size': 9435,\n",
       "   'file_type': 'tif'},\n",
       "  {'sha256': '16cf670e237efeb85337c4b19888308f9a135ae8bd75f49cc844ec38b7b81802',\n",
       "   'file_id': '08383c5f-eb56-4290-a776-63fdf4fa674f',\n",
       "   'file_name': 'MCD15A3H.006_2017179_to_2017212/MCD15A3H.006_FparLai_QC_doy2017189_aid0001.tif',\n",
       "   'file_size': 9541,\n",
       "   'file_type': 'tif'},\n",
       "  {'sha256': 'ce243dec74c6347a659150c8d49cd9f9ff9d768e60a41657b87559f2406a9b59',\n",
       "   'file_id': '7a2b756b-f904-4cb3-81dd-a0d5ad2568c3',\n",
       "   'file_name': 'MCD15A3H.006_2017179_to_2017212/MCD15A3H.006_FparLai_QC_doy2017193_aid0001.tif',\n",
       "   'file_size': 9989,\n",
       "   'file_type': 'tif'},\n",
       "  {'sha256': '2d4fb4d1a428b304d8cf814ed409cf48e1cb8027293194246e4aff49436f4238',\n",
       "   'file_id': 'd563f754-6087-4872-81c8-c060f459b252',\n",
       "   'file_name': 'MCD15A3H.006_2017179_to_2017212/MCD15A3H.006_FparLai_QC_doy2017197_aid0001.tif',\n",
       "   'file_size': 8702,\n",
       "   'file_type': 'tif'},\n",
       "  {'sha256': 'e02b37b867fdddefdee22b0b59971082573df9652db3b07483034ca4591e29c8',\n",
       "   'file_id': '9eec6468-8490-44c6-aa4d-31690f94313e',\n",
       "   'file_name': 'MCD15A3H.006_2017179_to_2017212/MCD15A3H.006_FparLai_QC_doy2017201_aid0001.tif',\n",
       "   'file_size': 10746,\n",
       "   'file_type': 'tif'},\n",
       "  {'sha256': '1f436194cb0e80d179fbcf0f5a59e7ebcb6e76d5fb0f51d3a29372fb3cfc1248',\n",
       "   'file_id': 'd1247770-a750-4c5f-869b-10c9bd150a05',\n",
       "   'file_name': 'MCD15A3H.006_2017179_to_2017212/MCD15A3H.006_FparLai_QC_doy2017205_aid0001.tif',\n",
       "   'file_size': 10347,\n",
       "   'file_type': 'tif'},\n",
       "  {'sha256': 'adf5d2e01a3392ab46226af2fb792a002b370d3af7f08e46334391fe5a12a773',\n",
       "   'file_id': '2f5678f9-abe2-471e-b67f-fb7b3fa2d5c5',\n",
       "   'file_name': 'MCD15A3H.006_2017179_to_2017212/MCD15A3H.006_FparLai_QC_doy2017209_aid0001.tif',\n",
       "   'file_size': 11683,\n",
       "   'file_type': 'tif'},\n",
       "  {'sha256': 'a30f111e5f0a7e4ec956692cff4f574bfaf48b2931ea86cbf91e500f3597fb5b',\n",
       "   'file_id': 'c1ce9e62-9f5e-4024-80fa-b6ebd3c711a2',\n",
       "   'file_name': 'MCD15A3H.006_2017179_to_2017212/MCD15A3H.006_FparExtra_QC_doy2017181_aid0001.tif',\n",
       "   'file_size': 9143,\n",
       "   'file_type': 'tif'},\n",
       "  {'sha256': 'a2a3c3c9f93fa4b7be2aa3d334bb0505f76c168d325d66c11f143be02fa17b0f',\n",
       "   'file_id': '6b3fdcee-549f-4105-b5bd-c0e68ee715a1',\n",
       "   'file_name': 'MCD15A3H.006_2017179_to_2017212/MCD15A3H.006_FparExtra_QC_doy2017185_aid0001.tif',\n",
       "   'file_size': 10524,\n",
       "   'file_type': 'tif'},\n",
       "  {'sha256': '46b22cbcdd92bc739292269153d2d69157c1fd735fa9dd8e5b067cd59eed179f',\n",
       "   'file_id': '15de92b5-eb49-4c31-9267-bea9d759a4ed',\n",
       "   'file_name': 'MCD15A3H.006_2017179_to_2017212/MCD15A3H.006_FparExtra_QC_doy2017189_aid0001.tif',\n",
       "   'file_size': 10496,\n",
       "   'file_type': 'tif'},\n",
       "  {'sha256': '0eac59856b0b4be230d7c0301ff12f81ae3d918f62504232e9640f1b13130aa0',\n",
       "   'file_id': '9f9f5b70-e4d7-484c-925a-c2bc829d30d1',\n",
       "   'file_name': 'MCD15A3H.006_2017179_to_2017212/MCD15A3H.006_FparExtra_QC_doy2017193_aid0001.tif',\n",
       "   'file_size': 11362,\n",
       "   'file_type': 'tif'},\n",
       "  {'sha256': '219f2dbbb2b073422676d6e44c845eb40131fe1ad9ab4d55c38a5219efa44f25',\n",
       "   'file_id': '1c29b411-c283-4021-9efe-859a371a7bfe',\n",
       "   'file_name': 'MCD15A3H.006_2017179_to_2017212/MCD15A3H.006_FparExtra_QC_doy2017197_aid0001.tif',\n",
       "   'file_size': 11271,\n",
       "   'file_type': 'tif'},\n",
       "  {'sha256': 'b34eead90d7fdc9df4a025de61c7c37f9208c92614c6919849bdbd1b77c246d0',\n",
       "   'file_id': '11d16350-7ed2-44b5-a7fb-1f8fc7056e8d',\n",
       "   'file_name': 'MCD15A3H.006_2017179_to_2017212/MCD15A3H.006_FparExtra_QC_doy2017201_aid0001.tif',\n",
       "   'file_size': 12161,\n",
       "   'file_type': 'tif'},\n",
       "  {'sha256': '2f6d5348f412aa7ffe93e820c1e4ad75cf727c3259c6d212d5e599c7192643e4',\n",
       "   'file_id': '4730bb8b-7d6f-411b-9f75-03b48c0b5dd2',\n",
       "   'file_name': 'MCD15A3H.006_2017179_to_2017212/MCD15A3H.006_FparExtra_QC_doy2017205_aid0001.tif',\n",
       "   'file_size': 11749,\n",
       "   'file_type': 'tif'},\n",
       "  {'sha256': '94c7ceaaab9505dd4b641a0835b1b75661b84e7e7c0175a2f67f132e8181f24d',\n",
       "   'file_id': '8e301eb6-0072-40a0-a743-21a5900cc4fd',\n",
       "   'file_name': 'MCD15A3H.006_2017179_to_2017212/MCD15A3H.006_FparExtra_QC_doy2017209_aid0001.tif',\n",
       "   'file_size': 12708,\n",
       "   'file_type': 'tif'},\n",
       "  {'sha256': '81ef57707a7dd79c7ad428f34937d73e389545e27142efc43c900248f1909dc0',\n",
       "   'file_id': '98916c1d-1f86-432d-822f-fa715b5596e0',\n",
       "   'file_name': 'MOD11A2.061_2017175_to_2017212/MOD11A2.061_LST_Day_1km_doy2017177_aid0001.tif',\n",
       "   'file_size': 16173,\n",
       "   'file_type': 'tif'},\n",
       "  {'sha256': '28bec1a4491e9203bc134740d3d0679fe84bef9f4e332cb8d2919cc0f7035ce8',\n",
       "   'file_id': 'a711d0fd-9621-427c-b566-1927254582ed',\n",
       "   'file_name': 'MOD11A2.061_2017175_to_2017212/MOD11A2.061_LST_Day_1km_doy2017185_aid0001.tif',\n",
       "   'file_size': 16240,\n",
       "   'file_type': 'tif'},\n",
       "  {'sha256': '915dae800f01121471586af401052846f3c993baec54d713bce2023ec9eb3b2a',\n",
       "   'file_id': '7cf8cc48-3f61-421c-9866-faa066415732',\n",
       "   'file_name': 'MOD11A2.061_2017175_to_2017212/MOD11A2.061_LST_Day_1km_doy2017193_aid0001.tif',\n",
       "   'file_size': 16492,\n",
       "   'file_type': 'tif'},\n",
       "  {'sha256': '90960a1c3d150c5b4d0281383ec7a2ab27b5c823acfa631750607e1516a65c96',\n",
       "   'file_id': '3ae96b20-298a-4dd6-af65-9babd6adb4cc',\n",
       "   'file_name': 'MOD11A2.061_2017175_to_2017212/MOD11A2.061_LST_Day_1km_doy2017201_aid0001.tif',\n",
       "   'file_size': 16766,\n",
       "   'file_type': 'tif'},\n",
       "  {'sha256': 'f87ab5004054a2a6fc7d56b9020cc94cffd01c4ae925920b3fc57764dc654e16',\n",
       "   'file_id': 'b1605405-b67b-44eb-ab53-8d8edf681eef',\n",
       "   'file_name': 'MOD11A2.061_2017175_to_2017212/MOD11A2.061_LST_Day_1km_doy2017209_aid0001.tif',\n",
       "   'file_size': 16847,\n",
       "   'file_type': 'tif'},\n",
       "  {'sha256': '40553b5bf520407c8646d97e89c2d29f90dbfd115ca1cc3dff8c5dc8d516e921',\n",
       "   'file_id': '24c68a79-3946-4451-acc3-d2029ab661cc',\n",
       "   'file_name': 'MOD11A2.061_2017175_to_2017212/MOD11A2.061_LST_Night_1km_doy2017177_aid0001.tif',\n",
       "   'file_size': 16582,\n",
       "   'file_type': 'tif'},\n",
       "  {'sha256': 'bc7f485b4abf0dc0b1bdeb04f6325e1db3919f1ea0818421a511b8539152340c',\n",
       "   'file_id': '082049e4-05d2-4558-8f0c-7097469d96db',\n",
       "   'file_name': 'MOD11A2.061_2017175_to_2017212/MOD11A2.061_LST_Night_1km_doy2017185_aid0001.tif',\n",
       "   'file_size': 16634,\n",
       "   'file_type': 'tif'},\n",
       "  {'sha256': 'ce3b4b55b2d584db2d58ffe7f9c8968edcb36354b9348da4efed44587a542f1f',\n",
       "   'file_id': '5885ec1f-6a15-4c31-99ae-b2cf7c054dbf',\n",
       "   'file_name': 'MOD11A2.061_2017175_to_2017212/MOD11A2.061_LST_Night_1km_doy2017193_aid0001.tif',\n",
       "   'file_size': 16546,\n",
       "   'file_type': 'tif'},\n",
       "  {'sha256': 'c5810df67f19e20d3b1ed10b7e1144b2c02775c19384c148ee3a4a6a296f0bee',\n",
       "   'file_id': 'cee661d0-e04f-43f0-b447-48b6e408f358',\n",
       "   'file_name': 'MOD11A2.061_2017175_to_2017212/MOD11A2.061_LST_Night_1km_doy2017201_aid0001.tif',\n",
       "   'file_size': 16315,\n",
       "   'file_type': 'tif'},\n",
       "  {'sha256': '2131d4df93f3a67f1aa43fe3a479b28e5363ca6a83fae55eaee9dd29183d4c6f',\n",
       "   'file_id': '27dac2ef-ed69-4d7a-ba81-05bfab6c4eb2',\n",
       "   'file_name': 'MOD11A2.061_2017175_to_2017212/MOD11A2.061_LST_Night_1km_doy2017209_aid0001.tif',\n",
       "   'file_size': 16469,\n",
       "   'file_type': 'tif'},\n",
       "  {'sha256': '8ea26c647b3f0f40a5da1835ab369730cbfc4795ee9274fbb3daffdf569e6811',\n",
       "   'file_id': '2c96e2b4-e4ee-43cf-bc55-5a5fee2f32f4',\n",
       "   'file_name': 'MOD11A2.061_2017175_to_2017212/MOD11A2.061_QC_Day_doy2017177_aid0001.tif',\n",
       "   'file_size': 2683,\n",
       "   'file_type': 'tif'},\n",
       "  {'sha256': '1d93ac0487374af9c677a7e1cc0b2859c8d262f1157b430baa404fdac0ab2a9b',\n",
       "   'file_id': 'ee051fc4-07d5-4e6b-b9f5-7b1e33d3dd2d',\n",
       "   'file_name': 'MOD11A2.061_2017175_to_2017212/MOD11A2.061_QC_Day_doy2017185_aid0001.tif',\n",
       "   'file_size': 2877,\n",
       "   'file_type': 'tif'},\n",
       "  {'sha256': '4a944c7800298d1c5cc3cc245113dcb31bcc7d822d77005a7ab8ae2c1302e2b2',\n",
       "   'file_id': '55c47d78-375c-471d-9a87-1dc24f14889b',\n",
       "   'file_name': 'MOD11A2.061_2017175_to_2017212/MOD11A2.061_QC_Day_doy2017193_aid0001.tif',\n",
       "   'file_size': 2531,\n",
       "   'file_type': 'tif'},\n",
       "  {'sha256': 'a9c59e8a6409a3cfbdd25ae00efbd706a0521a3e1f274d34356c6dba74a3c301',\n",
       "   'file_id': 'c2878460-0607-4f03-b6e7-eab825b4953c',\n",
       "   'file_name': 'MOD11A2.061_2017175_to_2017212/MOD11A2.061_QC_Day_doy2017201_aid0001.tif',\n",
       "   'file_size': 2910,\n",
       "   'file_type': 'tif'},\n",
       "  {'sha256': '1f6bc07f5d6cd6b054438a651d52483599d3b061abe8143e02dbeb43184e7560',\n",
       "   'file_id': '1a91a371-3156-423b-9dcc-f12298f30a3c',\n",
       "   'file_name': 'MOD11A2.061_2017175_to_2017212/MOD11A2.061_QC_Day_doy2017209_aid0001.tif',\n",
       "   'file_size': 2994,\n",
       "   'file_type': 'tif'},\n",
       "  {'sha256': '1455174185f312a01a56addfd1eed3983c10241311e7477653b6c49d2caf10c1',\n",
       "   'file_id': '6020f5ac-5b0b-40e7-9ec5-775257743a77',\n",
       "   'file_name': 'MOD11A2.061_2017175_to_2017212/MOD11A2.061_QC_Night_doy2017177_aid0001.tif',\n",
       "   'file_size': 2192,\n",
       "   'file_type': 'tif'},\n",
       "  {'sha256': '2eac507deb32b3926976050b20302bb4521bd9ef89c4ed5efd3888688d80d84d',\n",
       "   'file_id': '64570cd9-01a5-4752-807d-1bace6758e4d',\n",
       "   'file_name': 'MOD11A2.061_2017175_to_2017212/MOD11A2.061_QC_Night_doy2017185_aid0001.tif',\n",
       "   'file_size': 2278,\n",
       "   'file_type': 'tif'},\n",
       "  {'sha256': 'ce7ea4f3be7cf248565492735487c49436c18abd208c27930fd707cc36777d16',\n",
       "   'file_id': '287438ca-d097-4bff-9803-7bb93db7646c',\n",
       "   'file_name': 'MOD11A2.061_2017175_to_2017212/MOD11A2.061_QC_Night_doy2017193_aid0001.tif',\n",
       "   'file_size': 2718,\n",
       "   'file_type': 'tif'},\n",
       "  {'sha256': 'fb82fd47e349b966572f777a5d96e1a0b57cd87802ccfd0bf97ebfadde19b397',\n",
       "   'file_id': '16faf46c-b8ce-48cf-963d-e5b6002ad728',\n",
       "   'file_name': 'MOD11A2.061_2017175_to_2017212/MOD11A2.061_QC_Night_doy2017201_aid0001.tif',\n",
       "   'file_size': 2730,\n",
       "   'file_type': 'tif'},\n",
       "  {'sha256': 'c833c74e708df50a1630468927c50010d5cf013a90c3448176c9e73ac29e617a',\n",
       "   'file_id': 'f7bdfa65-bea4-4a44-93d9-ddb7dc892b9d',\n",
       "   'file_name': 'MOD11A2.061_2017175_to_2017212/MOD11A2.061_QC_Night_doy2017209_aid0001.tif',\n",
       "   'file_size': 2860,\n",
       "   'file_type': 'tif'},\n",
       "  {'sha256': '54182330abc58274d8cfcf7523b6de82640e9058fd8412b50f6ea9740817c458',\n",
       "   'file_id': '8e349bdd-e475-4db6-95af-23c666974949',\n",
       "   'file_name': 'SRTMGL1_NC.003_2000001_to_2022126/SRTMGL1_NC.003_SRTMGL1_DEM_doy2000042_aid0001.tif',\n",
       "   'file_size': 14021599,\n",
       "   'file_type': 'tif'},\n",
       "  {'sha256': 'b422238b676705a85cd490c8a1f20fec505ab0b1405561f33fb5ffdbeefb74a1',\n",
       "   'file_id': '3a37d9f1-719c-4402-bb23-4ae2ba9db2ba',\n",
       "   'file_name': 'SRTMGL1_NUMNC.003_2000001_to_2022126/SRTMGL1_NUMNC.003_SRTMGL1_NUM_doy2000042_aid0001.tif',\n",
       "   'file_size': 2255718,\n",
       "   'file_type': 'tif'},\n",
       "  {'sha256': 'e62f9a6a8284ac1be7a2d1e07aa139727d90fa79149446abba6465c825dbf85e',\n",
       "   'file_id': '9d8eb8f3-4d7c-4c8a-ace8-3456391f8dfc',\n",
       "   'file_name': 'MCD15A3H-006-FparLai-QC-lookup.csv',\n",
       "   'file_size': 3939,\n",
       "   'file_type': 'csv'},\n",
       "  {'sha256': '88e341b6839e1d85a41b615ef9c380f58f9883d91109ef192fce8690feb6673b',\n",
       "   'file_id': '254984ea-58fd-4c84-a57b-dc3ab0102a6d',\n",
       "   'file_name': 'MCD15A3H-006-FparExtra-QC-lookup.csv',\n",
       "   'file_size': 4737,\n",
       "   'file_type': 'csv'},\n",
       "  {'sha256': 'f5ad5254fb2cd4e1c751bba66cb13d1ffa6bb699d9f24aa631caea95d844d8c6',\n",
       "   'file_id': 'b22275a9-4bf8-449b-8c09-7c07b4e62491',\n",
       "   'file_name': 'MOD11A2-061-QC-Day-lookup.csv',\n",
       "   'file_size': 516,\n",
       "   'file_type': 'csv'},\n",
       "  {'sha256': '84265a384dcc629d7e4d37b1b92c784c396bfdd8211d2b030b21840621dbf211',\n",
       "   'file_id': '11c43e43-d568-4e4c-86ea-f955dab2a671',\n",
       "   'file_name': 'MOD11A2-061-QC-Night-lookup.csv',\n",
       "   'file_size': 631,\n",
       "   'file_type': 'csv'},\n",
       "  {'sha256': 'e712cb891b6844c15eeda5cad9912c60fc6fd6426a229356622ad11be2ab4f0f',\n",
       "   'file_id': 'c0728e32-720d-499b-9b0a-53546828db6b',\n",
       "   'file_name': 'SRTMGL1-NUMNC-003-SRTMGL1-NUM-lookup.csv',\n",
       "   'file_size': 1542,\n",
       "   'file_type': 'csv'},\n",
       "  {'sha256': '734997dd32286465f2fea45f2100559f262d08fcef9ff749eefe75204a154c00',\n",
       "   'file_id': '7717a22e-9842-4779-80e9-18c47961274c',\n",
       "   'file_name': 'MCD15A3H-006-FparLai-QC-Statistics-QA.csv',\n",
       "   'file_size': 912,\n",
       "   'file_type': 'csv'},\n",
       "  {'sha256': '4b6b3e57f5d9aa13d643f6bdc878f6f830e1cb7a901cad0571ec5a63102bb3e7',\n",
       "   'file_id': '4b34b644-ab0b-42d7-b2b0-50fa7f2d6172',\n",
       "   'file_name': 'MCD15A3H-006-FparExtra-QC-Statistics-QA.csv',\n",
       "   'file_size': 1093,\n",
       "   'file_type': 'csv'},\n",
       "  {'sha256': '9dc9387dfa6720371af713940f3839d1f0160e924f05b0d38f9fbc60b70fdbc8',\n",
       "   'file_id': 'd9e4ba20-ab57-4a85-9c9b-77711f8661c5',\n",
       "   'file_name': 'MOD11A2-061-QC-Day-Statistics-QA.csv',\n",
       "   'file_size': 306,\n",
       "   'file_type': 'csv'},\n",
       "  {'sha256': '95df1cabed8e3937a4af2750899cc6fbda28ec47bc3d5cbb702b17dcb9cdedf7',\n",
       "   'file_id': '25359cef-059c-4d7b-b198-bf5d6ad2e35c',\n",
       "   'file_name': 'MOD11A2-061-QC-Night-Statistics-QA.csv',\n",
       "   'file_size': 326,\n",
       "   'file_type': 'csv'},\n",
       "  {'sha256': 'd00db348f325f3b96bf2c216aac89064f3d4789c68016ccb7b53afe8215dbd8e',\n",
       "   'file_id': 'd7e6503d-0543-4879-b537-47b2b5237d8c',\n",
       "   'file_name': 'SRTMGL1-NUMNC-003-SRTMGL1-NUM-Statistics-QA.csv',\n",
       "   'file_size': 552,\n",
       "   'file_type': 'csv'},\n",
       "  {'sha256': '0f6d1ae3d9707b59159f7826a7b77a5b22c3d24cd30974083de8e220c82c5440',\n",
       "   'file_id': 'ee8f69f2-3762-441b-8538-c206b78d1235',\n",
       "   'file_name': 'MCD15A3H-006-Statistics.csv',\n",
       "   'file_size': 1327,\n",
       "   'file_type': 'csv'},\n",
       "  {'sha256': 'd6fe8727b6e9714683c3316b4570c768b91c6ba2493689bbdf91ee8707c0f205',\n",
       "   'file_id': '8e7539e5-8a8b-4c8c-b3ca-6ae8dfa7abdd',\n",
       "   'file_name': 'MOD11A2-061-Statistics.csv',\n",
       "   'file_size': 1957,\n",
       "   'file_type': 'csv'},\n",
       "  {'sha256': '2eac4d929df3ec54f8a400b032d876aed7211726a2cb4c5ac6e80bfc3d5cc31e',\n",
       "   'file_id': '22c0e7d9-0671-4258-8eed-855e70084707',\n",
       "   'file_name': 'SRTMGL1-NC-003-Statistics.csv',\n",
       "   'file_size': 344,\n",
       "   'file_type': 'csv'},\n",
       "  {'sha256': '64b6630f52de2e8c46b4e9efe4770580de8d5fd7235dffc098968febf010b2c5',\n",
       "   'file_id': '0b6fe22c-185e-4e6a-8d60-f50b6658ab69',\n",
       "   'file_name': 'NPS-Vegetation-Area-granule-list.txt',\n",
       "   'file_size': 4514,\n",
       "   'file_type': 'txt'},\n",
       "  {'sha256': '25527d332db7e066b066d039b318bf152de9274af279fedc439457c3a82bacf2',\n",
       "   'file_id': '5b804f00-e686-486c-826a-4f797edfa7ab',\n",
       "   'file_name': 'NPS-Vegetation-Area-request.json',\n",
       "   'file_size': 13614112,\n",
       "   'file_type': 'json'},\n",
       "  {'sha256': '4eb16ea18d1e999dd21b02570ce69d4923d25614772161b0dc273f0d0ea66d4d',\n",
       "   'file_id': '242f226e-1db4-4319-b0da-f0c9d7fc96c5',\n",
       "   'file_name': 'NPS-Vegetation-Area-MCD15A3H-006-metadata.xml',\n",
       "   'file_size': 22167,\n",
       "   'file_type': 'xml'},\n",
       "  {'sha256': 'c26045a522509044ed94567856820e4d99f2f9a366f71f87790484aa12831e54',\n",
       "   'file_id': '683f2fe8-1a3a-4920-895c-7c9802f50c16',\n",
       "   'file_name': 'NPS-Vegetation-Area-MOD11A2-061-metadata.xml',\n",
       "   'file_size': 22123,\n",
       "   'file_type': 'xml'},\n",
       "  {'sha256': '8078f4d586f7e9301f720862bba424bf682d6053d8cb0b3468005fedddf2415e',\n",
       "   'file_id': 'ddf42378-29bd-4dae-bf5d-aa12adf2af41',\n",
       "   'file_name': 'NPS-Vegetation-Area-SRTMGL1-NC-003-metadata.xml',\n",
       "   'file_size': 22089,\n",
       "   'file_type': 'xml'},\n",
       "  {'sha256': '678bcab7b6c76162a3d0e1f6041d2a2df41da0d28416400f29548fb9919e65d2',\n",
       "   'file_id': '207228ef-10b6-4b2c-86ed-8106227437c0',\n",
       "   'file_name': 'README.md',\n",
       "   'file_size': 24562,\n",
       "   'file_type': 'txt'}],\n",
       " 'created': '2022-05-06T18:23:12.346173',\n",
       " 'task_id': 'ede0d7c3-4887-4cdc-8f49-458008862aaf',\n",
       " 'updated': '2022-05-06T18:27:57.352139',\n",
       " 'bundle_type': 'area'}"
      ]
     },
     "execution_count": 33,
     "metadata": {},
     "output_type": "execute_result"
    },
    {
     "data": {
      "text/plain": [
       "{'files': [{'sha256': '9931687ff1bda429c6fe1b3bfaf67ea60ca82b118dd542c5447a271e933ac19e',\n",
       "   'file_id': '883b2c91-674e-41eb-9868-bd0c66f2499b',\n",
       "   'file_name': 'MCD15A3H.006_2017179_to_2017212/MCD15A3H.006_Lai_500m_doy2017181_aid0001.tif',\n",
       "   'file_size': 13516,\n",
       "   'file_type': 'tif'},\n",
       "  {'sha256': '184b3039d86523ea38a6df08a862dfa717694c03bca2c1e9526ae80dad9d2d77',\n",
       "   'file_id': 'cca17927-2eb2-4f67-8c25-adffc970e33e',\n",
       "   'file_name': 'MCD15A3H.006_2017179_to_2017212/MCD15A3H.006_Lai_500m_doy2017185_aid0001.tif',\n",
       "   'file_size': 13435,\n",
       "   'file_type': 'tif'},\n",
       "  {'sha256': '1e9e90105902a6a20fec619816ac85ef05b74e28c616f0be68f70d49baac4627',\n",
       "   'file_id': '884a41ab-978b-46cb-8087-bf7ffc6c850c',\n",
       "   'file_name': 'MCD15A3H.006_2017179_to_2017212/MCD15A3H.006_Lai_500m_doy2017189_aid0001.tif',\n",
       "   'file_size': 13713,\n",
       "   'file_type': 'tif'},\n",
       "  {'sha256': '0893f432bb8985e945993835d2e5d034a49216d298084c9b5be877280856457a',\n",
       "   'file_id': '39fb9aad-7564-4925-a4fa-766e3b732163',\n",
       "   'file_name': 'MCD15A3H.006_2017179_to_2017212/MCD15A3H.006_Lai_500m_doy2017193_aid0001.tif',\n",
       "   'file_size': 13939,\n",
       "   'file_type': 'tif'},\n",
       "  {'sha256': '5df866a22274cbac94ffbdfa6d8005c84993e775d02e9dcd48b4b538b58d021c',\n",
       "   'file_id': '15b09334-d519-4f99-b798-5929ee893c4b',\n",
       "   'file_name': 'MCD15A3H.006_2017179_to_2017212/MCD15A3H.006_Lai_500m_doy2017197_aid0001.tif',\n",
       "   'file_size': 14176,\n",
       "   'file_type': 'tif'},\n",
       "  {'sha256': '9a452782fe59e3271e161d7cd0377aa3e7872206cfff72fa1452e5447c80007b',\n",
       "   'file_id': 'a7adc9dc-fc7b-46c7-8129-69acb2b65773',\n",
       "   'file_name': 'MCD15A3H.006_2017179_to_2017212/MCD15A3H.006_Lai_500m_doy2017201_aid0001.tif',\n",
       "   'file_size': 14333,\n",
       "   'file_type': 'tif'},\n",
       "  {'sha256': 'a562c68fdcbd86a559b59485debbe3f6d9ff56be2b31460e38c560f1f05d2df2',\n",
       "   'file_id': '828813ec-8bdc-46fd-aaa2-9edb2a05b4da',\n",
       "   'file_name': 'MCD15A3H.006_2017179_to_2017212/MCD15A3H.006_Lai_500m_doy2017205_aid0001.tif',\n",
       "   'file_size': 13401,\n",
       "   'file_type': 'tif'},\n",
       "  {'sha256': 'ad1fede1795360af0a56adb0c445889baa53f63d1329efe18ead724357a2faa8',\n",
       "   'file_id': 'c92e297e-c691-4275-a49b-aff597fb85ab',\n",
       "   'file_name': 'MCD15A3H.006_2017179_to_2017212/MCD15A3H.006_Lai_500m_doy2017209_aid0001.tif',\n",
       "   'file_size': 13580,\n",
       "   'file_type': 'tif'},\n",
       "  {'sha256': '4b3db3b622e0fe10afd0be0d61b479cc41741f8c1f6dd6b00f9a5d66728aa6e1',\n",
       "   'file_id': 'b6bead40-be5c-42f0-9464-663ad383acda',\n",
       "   'file_name': 'MCD15A3H.006_2017179_to_2017212/MCD15A3H.006_FparLai_QC_doy2017181_aid0001.tif',\n",
       "   'file_size': 8968,\n",
       "   'file_type': 'tif'},\n",
       "  {'sha256': '123e69417f49ebc75f2d0641359148f629fb02c6f50f18bb80b4d1cdc11c7d2b',\n",
       "   'file_id': '2047adf2-45f7-4d38-b772-2110bfcabb51',\n",
       "   'file_name': 'MCD15A3H.006_2017179_to_2017212/MCD15A3H.006_FparLai_QC_doy2017185_aid0001.tif',\n",
       "   'file_size': 9435,\n",
       "   'file_type': 'tif'},\n",
       "  {'sha256': '16cf670e237efeb85337c4b19888308f9a135ae8bd75f49cc844ec38b7b81802',\n",
       "   'file_id': '08383c5f-eb56-4290-a776-63fdf4fa674f',\n",
       "   'file_name': 'MCD15A3H.006_2017179_to_2017212/MCD15A3H.006_FparLai_QC_doy2017189_aid0001.tif',\n",
       "   'file_size': 9541,\n",
       "   'file_type': 'tif'},\n",
       "  {'sha256': 'ce243dec74c6347a659150c8d49cd9f9ff9d768e60a41657b87559f2406a9b59',\n",
       "   'file_id': '7a2b756b-f904-4cb3-81dd-a0d5ad2568c3',\n",
       "   'file_name': 'MCD15A3H.006_2017179_to_2017212/MCD15A3H.006_FparLai_QC_doy2017193_aid0001.tif',\n",
       "   'file_size': 9989,\n",
       "   'file_type': 'tif'},\n",
       "  {'sha256': '2d4fb4d1a428b304d8cf814ed409cf48e1cb8027293194246e4aff49436f4238',\n",
       "   'file_id': 'd563f754-6087-4872-81c8-c060f459b252',\n",
       "   'file_name': 'MCD15A3H.006_2017179_to_2017212/MCD15A3H.006_FparLai_QC_doy2017197_aid0001.tif',\n",
       "   'file_size': 8702,\n",
       "   'file_type': 'tif'},\n",
       "  {'sha256': 'e02b37b867fdddefdee22b0b59971082573df9652db3b07483034ca4591e29c8',\n",
       "   'file_id': '9eec6468-8490-44c6-aa4d-31690f94313e',\n",
       "   'file_name': 'MCD15A3H.006_2017179_to_2017212/MCD15A3H.006_FparLai_QC_doy2017201_aid0001.tif',\n",
       "   'file_size': 10746,\n",
       "   'file_type': 'tif'},\n",
       "  {'sha256': '1f436194cb0e80d179fbcf0f5a59e7ebcb6e76d5fb0f51d3a29372fb3cfc1248',\n",
       "   'file_id': 'd1247770-a750-4c5f-869b-10c9bd150a05',\n",
       "   'file_name': 'MCD15A3H.006_2017179_to_2017212/MCD15A3H.006_FparLai_QC_doy2017205_aid0001.tif',\n",
       "   'file_size': 10347,\n",
       "   'file_type': 'tif'},\n",
       "  {'sha256': 'adf5d2e01a3392ab46226af2fb792a002b370d3af7f08e46334391fe5a12a773',\n",
       "   'file_id': '2f5678f9-abe2-471e-b67f-fb7b3fa2d5c5',\n",
       "   'file_name': 'MCD15A3H.006_2017179_to_2017212/MCD15A3H.006_FparLai_QC_doy2017209_aid0001.tif',\n",
       "   'file_size': 11683,\n",
       "   'file_type': 'tif'},\n",
       "  {'sha256': 'a30f111e5f0a7e4ec956692cff4f574bfaf48b2931ea86cbf91e500f3597fb5b',\n",
       "   'file_id': 'c1ce9e62-9f5e-4024-80fa-b6ebd3c711a2',\n",
       "   'file_name': 'MCD15A3H.006_2017179_to_2017212/MCD15A3H.006_FparExtra_QC_doy2017181_aid0001.tif',\n",
       "   'file_size': 9143,\n",
       "   'file_type': 'tif'},\n",
       "  {'sha256': 'a2a3c3c9f93fa4b7be2aa3d334bb0505f76c168d325d66c11f143be02fa17b0f',\n",
       "   'file_id': '6b3fdcee-549f-4105-b5bd-c0e68ee715a1',\n",
       "   'file_name': 'MCD15A3H.006_2017179_to_2017212/MCD15A3H.006_FparExtra_QC_doy2017185_aid0001.tif',\n",
       "   'file_size': 10524,\n",
       "   'file_type': 'tif'},\n",
       "  {'sha256': '46b22cbcdd92bc739292269153d2d69157c1fd735fa9dd8e5b067cd59eed179f',\n",
       "   'file_id': '15de92b5-eb49-4c31-9267-bea9d759a4ed',\n",
       "   'file_name': 'MCD15A3H.006_2017179_to_2017212/MCD15A3H.006_FparExtra_QC_doy2017189_aid0001.tif',\n",
       "   'file_size': 10496,\n",
       "   'file_type': 'tif'},\n",
       "  {'sha256': '0eac59856b0b4be230d7c0301ff12f81ae3d918f62504232e9640f1b13130aa0',\n",
       "   'file_id': '9f9f5b70-e4d7-484c-925a-c2bc829d30d1',\n",
       "   'file_name': 'MCD15A3H.006_2017179_to_2017212/MCD15A3H.006_FparExtra_QC_doy2017193_aid0001.tif',\n",
       "   'file_size': 11362,\n",
       "   'file_type': 'tif'},\n",
       "  {'sha256': '219f2dbbb2b073422676d6e44c845eb40131fe1ad9ab4d55c38a5219efa44f25',\n",
       "   'file_id': '1c29b411-c283-4021-9efe-859a371a7bfe',\n",
       "   'file_name': 'MCD15A3H.006_2017179_to_2017212/MCD15A3H.006_FparExtra_QC_doy2017197_aid0001.tif',\n",
       "   'file_size': 11271,\n",
       "   'file_type': 'tif'},\n",
       "  {'sha256': 'b34eead90d7fdc9df4a025de61c7c37f9208c92614c6919849bdbd1b77c246d0',\n",
       "   'file_id': '11d16350-7ed2-44b5-a7fb-1f8fc7056e8d',\n",
       "   'file_name': 'MCD15A3H.006_2017179_to_2017212/MCD15A3H.006_FparExtra_QC_doy2017201_aid0001.tif',\n",
       "   'file_size': 12161,\n",
       "   'file_type': 'tif'},\n",
       "  {'sha256': '2f6d5348f412aa7ffe93e820c1e4ad75cf727c3259c6d212d5e599c7192643e4',\n",
       "   'file_id': '4730bb8b-7d6f-411b-9f75-03b48c0b5dd2',\n",
       "   'file_name': 'MCD15A3H.006_2017179_to_2017212/MCD15A3H.006_FparExtra_QC_doy2017205_aid0001.tif',\n",
       "   'file_size': 11749,\n",
       "   'file_type': 'tif'},\n",
       "  {'sha256': '94c7ceaaab9505dd4b641a0835b1b75661b84e7e7c0175a2f67f132e8181f24d',\n",
       "   'file_id': '8e301eb6-0072-40a0-a743-21a5900cc4fd',\n",
       "   'file_name': 'MCD15A3H.006_2017179_to_2017212/MCD15A3H.006_FparExtra_QC_doy2017209_aid0001.tif',\n",
       "   'file_size': 12708,\n",
       "   'file_type': 'tif'},\n",
       "  {'sha256': '81ef57707a7dd79c7ad428f34937d73e389545e27142efc43c900248f1909dc0',\n",
       "   'file_id': '98916c1d-1f86-432d-822f-fa715b5596e0',\n",
       "   'file_name': 'MOD11A2.061_2017175_to_2017212/MOD11A2.061_LST_Day_1km_doy2017177_aid0001.tif',\n",
       "   'file_size': 16173,\n",
       "   'file_type': 'tif'},\n",
       "  {'sha256': '28bec1a4491e9203bc134740d3d0679fe84bef9f4e332cb8d2919cc0f7035ce8',\n",
       "   'file_id': 'a711d0fd-9621-427c-b566-1927254582ed',\n",
       "   'file_name': 'MOD11A2.061_2017175_to_2017212/MOD11A2.061_LST_Day_1km_doy2017185_aid0001.tif',\n",
       "   'file_size': 16240,\n",
       "   'file_type': 'tif'},\n",
       "  {'sha256': '915dae800f01121471586af401052846f3c993baec54d713bce2023ec9eb3b2a',\n",
       "   'file_id': '7cf8cc48-3f61-421c-9866-faa066415732',\n",
       "   'file_name': 'MOD11A2.061_2017175_to_2017212/MOD11A2.061_LST_Day_1km_doy2017193_aid0001.tif',\n",
       "   'file_size': 16492,\n",
       "   'file_type': 'tif'},\n",
       "  {'sha256': '90960a1c3d150c5b4d0281383ec7a2ab27b5c823acfa631750607e1516a65c96',\n",
       "   'file_id': '3ae96b20-298a-4dd6-af65-9babd6adb4cc',\n",
       "   'file_name': 'MOD11A2.061_2017175_to_2017212/MOD11A2.061_LST_Day_1km_doy2017201_aid0001.tif',\n",
       "   'file_size': 16766,\n",
       "   'file_type': 'tif'},\n",
       "  {'sha256': 'f87ab5004054a2a6fc7d56b9020cc94cffd01c4ae925920b3fc57764dc654e16',\n",
       "   'file_id': 'b1605405-b67b-44eb-ab53-8d8edf681eef',\n",
       "   'file_name': 'MOD11A2.061_2017175_to_2017212/MOD11A2.061_LST_Day_1km_doy2017209_aid0001.tif',\n",
       "   'file_size': 16847,\n",
       "   'file_type': 'tif'},\n",
       "  {'sha256': '40553b5bf520407c8646d97e89c2d29f90dbfd115ca1cc3dff8c5dc8d516e921',\n",
       "   'file_id': '24c68a79-3946-4451-acc3-d2029ab661cc',\n",
       "   'file_name': 'MOD11A2.061_2017175_to_2017212/MOD11A2.061_LST_Night_1km_doy2017177_aid0001.tif',\n",
       "   'file_size': 16582,\n",
       "   'file_type': 'tif'},\n",
       "  {'sha256': 'bc7f485b4abf0dc0b1bdeb04f6325e1db3919f1ea0818421a511b8539152340c',\n",
       "   'file_id': '082049e4-05d2-4558-8f0c-7097469d96db',\n",
       "   'file_name': 'MOD11A2.061_2017175_to_2017212/MOD11A2.061_LST_Night_1km_doy2017185_aid0001.tif',\n",
       "   'file_size': 16634,\n",
       "   'file_type': 'tif'},\n",
       "  {'sha256': 'ce3b4b55b2d584db2d58ffe7f9c8968edcb36354b9348da4efed44587a542f1f',\n",
       "   'file_id': '5885ec1f-6a15-4c31-99ae-b2cf7c054dbf',\n",
       "   'file_name': 'MOD11A2.061_2017175_to_2017212/MOD11A2.061_LST_Night_1km_doy2017193_aid0001.tif',\n",
       "   'file_size': 16546,\n",
       "   'file_type': 'tif'},\n",
       "  {'sha256': 'c5810df67f19e20d3b1ed10b7e1144b2c02775c19384c148ee3a4a6a296f0bee',\n",
       "   'file_id': 'cee661d0-e04f-43f0-b447-48b6e408f358',\n",
       "   'file_name': 'MOD11A2.061_2017175_to_2017212/MOD11A2.061_LST_Night_1km_doy2017201_aid0001.tif',\n",
       "   'file_size': 16315,\n",
       "   'file_type': 'tif'},\n",
       "  {'sha256': '2131d4df93f3a67f1aa43fe3a479b28e5363ca6a83fae55eaee9dd29183d4c6f',\n",
       "   'file_id': '27dac2ef-ed69-4d7a-ba81-05bfab6c4eb2',\n",
       "   'file_name': 'MOD11A2.061_2017175_to_2017212/MOD11A2.061_LST_Night_1km_doy2017209_aid0001.tif',\n",
       "   'file_size': 16469,\n",
       "   'file_type': 'tif'},\n",
       "  {'sha256': '8ea26c647b3f0f40a5da1835ab369730cbfc4795ee9274fbb3daffdf569e6811',\n",
       "   'file_id': '2c96e2b4-e4ee-43cf-bc55-5a5fee2f32f4',\n",
       "   'file_name': 'MOD11A2.061_2017175_to_2017212/MOD11A2.061_QC_Day_doy2017177_aid0001.tif',\n",
       "   'file_size': 2683,\n",
       "   'file_type': 'tif'},\n",
       "  {'sha256': '1d93ac0487374af9c677a7e1cc0b2859c8d262f1157b430baa404fdac0ab2a9b',\n",
       "   'file_id': 'ee051fc4-07d5-4e6b-b9f5-7b1e33d3dd2d',\n",
       "   'file_name': 'MOD11A2.061_2017175_to_2017212/MOD11A2.061_QC_Day_doy2017185_aid0001.tif',\n",
       "   'file_size': 2877,\n",
       "   'file_type': 'tif'},\n",
       "  {'sha256': '4a944c7800298d1c5cc3cc245113dcb31bcc7d822d77005a7ab8ae2c1302e2b2',\n",
       "   'file_id': '55c47d78-375c-471d-9a87-1dc24f14889b',\n",
       "   'file_name': 'MOD11A2.061_2017175_to_2017212/MOD11A2.061_QC_Day_doy2017193_aid0001.tif',\n",
       "   'file_size': 2531,\n",
       "   'file_type': 'tif'},\n",
       "  {'sha256': 'a9c59e8a6409a3cfbdd25ae00efbd706a0521a3e1f274d34356c6dba74a3c301',\n",
       "   'file_id': 'c2878460-0607-4f03-b6e7-eab825b4953c',\n",
       "   'file_name': 'MOD11A2.061_2017175_to_2017212/MOD11A2.061_QC_Day_doy2017201_aid0001.tif',\n",
       "   'file_size': 2910,\n",
       "   'file_type': 'tif'},\n",
       "  {'sha256': '1f6bc07f5d6cd6b054438a651d52483599d3b061abe8143e02dbeb43184e7560',\n",
       "   'file_id': '1a91a371-3156-423b-9dcc-f12298f30a3c',\n",
       "   'file_name': 'MOD11A2.061_2017175_to_2017212/MOD11A2.061_QC_Day_doy2017209_aid0001.tif',\n",
       "   'file_size': 2994,\n",
       "   'file_type': 'tif'},\n",
       "  {'sha256': '1455174185f312a01a56addfd1eed3983c10241311e7477653b6c49d2caf10c1',\n",
       "   'file_id': '6020f5ac-5b0b-40e7-9ec5-775257743a77',\n",
       "   'file_name': 'MOD11A2.061_2017175_to_2017212/MOD11A2.061_QC_Night_doy2017177_aid0001.tif',\n",
       "   'file_size': 2192,\n",
       "   'file_type': 'tif'},\n",
       "  {'sha256': '2eac507deb32b3926976050b20302bb4521bd9ef89c4ed5efd3888688d80d84d',\n",
       "   'file_id': '64570cd9-01a5-4752-807d-1bace6758e4d',\n",
       "   'file_name': 'MOD11A2.061_2017175_to_2017212/MOD11A2.061_QC_Night_doy2017185_aid0001.tif',\n",
       "   'file_size': 2278,\n",
       "   'file_type': 'tif'},\n",
       "  {'sha256': 'ce7ea4f3be7cf248565492735487c49436c18abd208c27930fd707cc36777d16',\n",
       "   'file_id': '287438ca-d097-4bff-9803-7bb93db7646c',\n",
       "   'file_name': 'MOD11A2.061_2017175_to_2017212/MOD11A2.061_QC_Night_doy2017193_aid0001.tif',\n",
       "   'file_size': 2718,\n",
       "   'file_type': 'tif'},\n",
       "  {'sha256': 'fb82fd47e349b966572f777a5d96e1a0b57cd87802ccfd0bf97ebfadde19b397',\n",
       "   'file_id': '16faf46c-b8ce-48cf-963d-e5b6002ad728',\n",
       "   'file_name': 'MOD11A2.061_2017175_to_2017212/MOD11A2.061_QC_Night_doy2017201_aid0001.tif',\n",
       "   'file_size': 2730,\n",
       "   'file_type': 'tif'},\n",
       "  {'sha256': 'c833c74e708df50a1630468927c50010d5cf013a90c3448176c9e73ac29e617a',\n",
       "   'file_id': 'f7bdfa65-bea4-4a44-93d9-ddb7dc892b9d',\n",
       "   'file_name': 'MOD11A2.061_2017175_to_2017212/MOD11A2.061_QC_Night_doy2017209_aid0001.tif',\n",
       "   'file_size': 2860,\n",
       "   'file_type': 'tif'},\n",
       "  {'sha256': '54182330abc58274d8cfcf7523b6de82640e9058fd8412b50f6ea9740817c458',\n",
       "   'file_id': '8e349bdd-e475-4db6-95af-23c666974949',\n",
       "   'file_name': 'SRTMGL1_NC.003_2000001_to_2022126/SRTMGL1_NC.003_SRTMGL1_DEM_doy2000042_aid0001.tif',\n",
       "   'file_size': 14021599,\n",
       "   'file_type': 'tif'},\n",
       "  {'sha256': 'b422238b676705a85cd490c8a1f20fec505ab0b1405561f33fb5ffdbeefb74a1',\n",
       "   'file_id': '3a37d9f1-719c-4402-bb23-4ae2ba9db2ba',\n",
       "   'file_name': 'SRTMGL1_NUMNC.003_2000001_to_2022126/SRTMGL1_NUMNC.003_SRTMGL1_NUM_doy2000042_aid0001.tif',\n",
       "   'file_size': 2255718,\n",
       "   'file_type': 'tif'},\n",
       "  {'sha256': 'e62f9a6a8284ac1be7a2d1e07aa139727d90fa79149446abba6465c825dbf85e',\n",
       "   'file_id': '9d8eb8f3-4d7c-4c8a-ace8-3456391f8dfc',\n",
       "   'file_name': 'MCD15A3H-006-FparLai-QC-lookup.csv',\n",
       "   'file_size': 3939,\n",
       "   'file_type': 'csv'},\n",
       "  {'sha256': '88e341b6839e1d85a41b615ef9c380f58f9883d91109ef192fce8690feb6673b',\n",
       "   'file_id': '254984ea-58fd-4c84-a57b-dc3ab0102a6d',\n",
       "   'file_name': 'MCD15A3H-006-FparExtra-QC-lookup.csv',\n",
       "   'file_size': 4737,\n",
       "   'file_type': 'csv'},\n",
       "  {'sha256': 'f5ad5254fb2cd4e1c751bba66cb13d1ffa6bb699d9f24aa631caea95d844d8c6',\n",
       "   'file_id': 'b22275a9-4bf8-449b-8c09-7c07b4e62491',\n",
       "   'file_name': 'MOD11A2-061-QC-Day-lookup.csv',\n",
       "   'file_size': 516,\n",
       "   'file_type': 'csv'},\n",
       "  {'sha256': '84265a384dcc629d7e4d37b1b92c784c396bfdd8211d2b030b21840621dbf211',\n",
       "   'file_id': '11c43e43-d568-4e4c-86ea-f955dab2a671',\n",
       "   'file_name': 'MOD11A2-061-QC-Night-lookup.csv',\n",
       "   'file_size': 631,\n",
       "   'file_type': 'csv'},\n",
       "  {'sha256': 'e712cb891b6844c15eeda5cad9912c60fc6fd6426a229356622ad11be2ab4f0f',\n",
       "   'file_id': 'c0728e32-720d-499b-9b0a-53546828db6b',\n",
       "   'file_name': 'SRTMGL1-NUMNC-003-SRTMGL1-NUM-lookup.csv',\n",
       "   'file_size': 1542,\n",
       "   'file_type': 'csv'},\n",
       "  {'sha256': '734997dd32286465f2fea45f2100559f262d08fcef9ff749eefe75204a154c00',\n",
       "   'file_id': '7717a22e-9842-4779-80e9-18c47961274c',\n",
       "   'file_name': 'MCD15A3H-006-FparLai-QC-Statistics-QA.csv',\n",
       "   'file_size': 912,\n",
       "   'file_type': 'csv'},\n",
       "  {'sha256': '4b6b3e57f5d9aa13d643f6bdc878f6f830e1cb7a901cad0571ec5a63102bb3e7',\n",
       "   'file_id': '4b34b644-ab0b-42d7-b2b0-50fa7f2d6172',\n",
       "   'file_name': 'MCD15A3H-006-FparExtra-QC-Statistics-QA.csv',\n",
       "   'file_size': 1093,\n",
       "   'file_type': 'csv'},\n",
       "  {'sha256': '9dc9387dfa6720371af713940f3839d1f0160e924f05b0d38f9fbc60b70fdbc8',\n",
       "   'file_id': 'd9e4ba20-ab57-4a85-9c9b-77711f8661c5',\n",
       "   'file_name': 'MOD11A2-061-QC-Day-Statistics-QA.csv',\n",
       "   'file_size': 306,\n",
       "   'file_type': 'csv'},\n",
       "  {'sha256': '95df1cabed8e3937a4af2750899cc6fbda28ec47bc3d5cbb702b17dcb9cdedf7',\n",
       "   'file_id': '25359cef-059c-4d7b-b198-bf5d6ad2e35c',\n",
       "   'file_name': 'MOD11A2-061-QC-Night-Statistics-QA.csv',\n",
       "   'file_size': 326,\n",
       "   'file_type': 'csv'},\n",
       "  {'sha256': 'd00db348f325f3b96bf2c216aac89064f3d4789c68016ccb7b53afe8215dbd8e',\n",
       "   'file_id': 'd7e6503d-0543-4879-b537-47b2b5237d8c',\n",
       "   'file_name': 'SRTMGL1-NUMNC-003-SRTMGL1-NUM-Statistics-QA.csv',\n",
       "   'file_size': 552,\n",
       "   'file_type': 'csv'},\n",
       "  {'sha256': '0f6d1ae3d9707b59159f7826a7b77a5b22c3d24cd30974083de8e220c82c5440',\n",
       "   'file_id': 'ee8f69f2-3762-441b-8538-c206b78d1235',\n",
       "   'file_name': 'MCD15A3H-006-Statistics.csv',\n",
       "   'file_size': 1327,\n",
       "   'file_type': 'csv'},\n",
       "  {'sha256': 'd6fe8727b6e9714683c3316b4570c768b91c6ba2493689bbdf91ee8707c0f205',\n",
       "   'file_id': '8e7539e5-8a8b-4c8c-b3ca-6ae8dfa7abdd',\n",
       "   'file_name': 'MOD11A2-061-Statistics.csv',\n",
       "   'file_size': 1957,\n",
       "   'file_type': 'csv'},\n",
       "  {'sha256': '2eac4d929df3ec54f8a400b032d876aed7211726a2cb4c5ac6e80bfc3d5cc31e',\n",
       "   'file_id': '22c0e7d9-0671-4258-8eed-855e70084707',\n",
       "   'file_name': 'SRTMGL1-NC-003-Statistics.csv',\n",
       "   'file_size': 344,\n",
       "   'file_type': 'csv'},\n",
       "  {'sha256': '64b6630f52de2e8c46b4e9efe4770580de8d5fd7235dffc098968febf010b2c5',\n",
       "   'file_id': '0b6fe22c-185e-4e6a-8d60-f50b6658ab69',\n",
       "   'file_name': 'NPS-Vegetation-Area-granule-list.txt',\n",
       "   'file_size': 4514,\n",
       "   'file_type': 'txt'},\n",
       "  {'sha256': '25527d332db7e066b066d039b318bf152de9274af279fedc439457c3a82bacf2',\n",
       "   'file_id': '5b804f00-e686-486c-826a-4f797edfa7ab',\n",
       "   'file_name': 'NPS-Vegetation-Area-request.json',\n",
       "   'file_size': 13614112,\n",
       "   'file_type': 'json'},\n",
       "  {'sha256': '4eb16ea18d1e999dd21b02570ce69d4923d25614772161b0dc273f0d0ea66d4d',\n",
       "   'file_id': '242f226e-1db4-4319-b0da-f0c9d7fc96c5',\n",
       "   'file_name': 'NPS-Vegetation-Area-MCD15A3H-006-metadata.xml',\n",
       "   'file_size': 22167,\n",
       "   'file_type': 'xml'},\n",
       "  {'sha256': 'c26045a522509044ed94567856820e4d99f2f9a366f71f87790484aa12831e54',\n",
       "   'file_id': '683f2fe8-1a3a-4920-895c-7c9802f50c16',\n",
       "   'file_name': 'NPS-Vegetation-Area-MOD11A2-061-metadata.xml',\n",
       "   'file_size': 22123,\n",
       "   'file_type': 'xml'},\n",
       "  {'sha256': '8078f4d586f7e9301f720862bba424bf682d6053d8cb0b3468005fedddf2415e',\n",
       "   'file_id': 'ddf42378-29bd-4dae-bf5d-aa12adf2af41',\n",
       "   'file_name': 'NPS-Vegetation-Area-SRTMGL1-NC-003-metadata.xml',\n",
       "   'file_size': 22089,\n",
       "   'file_type': 'xml'},\n",
       "  {'sha256': '678bcab7b6c76162a3d0e1f6041d2a2df41da0d28416400f29548fb9919e65d2',\n",
       "   'file_id': '207228ef-10b6-4b2c-86ed-8106227437c0',\n",
       "   'file_name': 'README.md',\n",
       "   'file_size': 24562,\n",
       "   'file_type': 'txt'}],\n",
       " 'created': '2022-05-06T18:23:12.346173',\n",
       " 'task_id': 'ede0d7c3-4887-4cdc-8f49-458008862aaf',\n",
       " 'updated': '2022-05-06T18:27:57.352139',\n",
       " 'bundle_type': 'area'}"
      ]
     },
     "execution_count": 33,
     "metadata": {},
     "output_type": "execute_result"
    }
   ],
   "source": [
    "bundle = r.get('{}bundle/{}'.format(api,task_id), headers=head).json()  # Call API and return bundle contents for the task_id as json\n",
    "bundle                                                    # Print bundle contents"
   ]
  },
  {
   "attachments": {},
   "cell_type": "markdown",
   "metadata": {},
   "source": [
    "***\n",
    "## 4b. Download Files in a Request (Automation) [[Download File](https://appeears.earthdatacloud.nasa.gov/api/#download-file)]\n",
    "#### Now, use the contents of the bundle to select the file name and id and store as a dictionary. "
   ]
  },
  {
   "cell_type": "code",
   "execution_count": null,
   "metadata": {},
   "outputs": [
    {
     "data": {
      "text/plain": [
       "{'883b2c91-674e-41eb-9868-bd0c66f2499b': 'MCD15A3H.006_2017179_to_2017212/MCD15A3H.006_Lai_500m_doy2017181_aid0001.tif',\n",
       " 'cca17927-2eb2-4f67-8c25-adffc970e33e': 'MCD15A3H.006_2017179_to_2017212/MCD15A3H.006_Lai_500m_doy2017185_aid0001.tif',\n",
       " '884a41ab-978b-46cb-8087-bf7ffc6c850c': 'MCD15A3H.006_2017179_to_2017212/MCD15A3H.006_Lai_500m_doy2017189_aid0001.tif',\n",
       " '39fb9aad-7564-4925-a4fa-766e3b732163': 'MCD15A3H.006_2017179_to_2017212/MCD15A3H.006_Lai_500m_doy2017193_aid0001.tif',\n",
       " '15b09334-d519-4f99-b798-5929ee893c4b': 'MCD15A3H.006_2017179_to_2017212/MCD15A3H.006_Lai_500m_doy2017197_aid0001.tif',\n",
       " 'a7adc9dc-fc7b-46c7-8129-69acb2b65773': 'MCD15A3H.006_2017179_to_2017212/MCD15A3H.006_Lai_500m_doy2017201_aid0001.tif',\n",
       " '828813ec-8bdc-46fd-aaa2-9edb2a05b4da': 'MCD15A3H.006_2017179_to_2017212/MCD15A3H.006_Lai_500m_doy2017205_aid0001.tif',\n",
       " 'c92e297e-c691-4275-a49b-aff597fb85ab': 'MCD15A3H.006_2017179_to_2017212/MCD15A3H.006_Lai_500m_doy2017209_aid0001.tif',\n",
       " 'b6bead40-be5c-42f0-9464-663ad383acda': 'MCD15A3H.006_2017179_to_2017212/MCD15A3H.006_FparLai_QC_doy2017181_aid0001.tif',\n",
       " '2047adf2-45f7-4d38-b772-2110bfcabb51': 'MCD15A3H.006_2017179_to_2017212/MCD15A3H.006_FparLai_QC_doy2017185_aid0001.tif',\n",
       " '08383c5f-eb56-4290-a776-63fdf4fa674f': 'MCD15A3H.006_2017179_to_2017212/MCD15A3H.006_FparLai_QC_doy2017189_aid0001.tif',\n",
       " '7a2b756b-f904-4cb3-81dd-a0d5ad2568c3': 'MCD15A3H.006_2017179_to_2017212/MCD15A3H.006_FparLai_QC_doy2017193_aid0001.tif',\n",
       " 'd563f754-6087-4872-81c8-c060f459b252': 'MCD15A3H.006_2017179_to_2017212/MCD15A3H.006_FparLai_QC_doy2017197_aid0001.tif',\n",
       " '9eec6468-8490-44c6-aa4d-31690f94313e': 'MCD15A3H.006_2017179_to_2017212/MCD15A3H.006_FparLai_QC_doy2017201_aid0001.tif',\n",
       " 'd1247770-a750-4c5f-869b-10c9bd150a05': 'MCD15A3H.006_2017179_to_2017212/MCD15A3H.006_FparLai_QC_doy2017205_aid0001.tif',\n",
       " '2f5678f9-abe2-471e-b67f-fb7b3fa2d5c5': 'MCD15A3H.006_2017179_to_2017212/MCD15A3H.006_FparLai_QC_doy2017209_aid0001.tif',\n",
       " 'c1ce9e62-9f5e-4024-80fa-b6ebd3c711a2': 'MCD15A3H.006_2017179_to_2017212/MCD15A3H.006_FparExtra_QC_doy2017181_aid0001.tif',\n",
       " '6b3fdcee-549f-4105-b5bd-c0e68ee715a1': 'MCD15A3H.006_2017179_to_2017212/MCD15A3H.006_FparExtra_QC_doy2017185_aid0001.tif',\n",
       " '15de92b5-eb49-4c31-9267-bea9d759a4ed': 'MCD15A3H.006_2017179_to_2017212/MCD15A3H.006_FparExtra_QC_doy2017189_aid0001.tif',\n",
       " '9f9f5b70-e4d7-484c-925a-c2bc829d30d1': 'MCD15A3H.006_2017179_to_2017212/MCD15A3H.006_FparExtra_QC_doy2017193_aid0001.tif',\n",
       " '1c29b411-c283-4021-9efe-859a371a7bfe': 'MCD15A3H.006_2017179_to_2017212/MCD15A3H.006_FparExtra_QC_doy2017197_aid0001.tif',\n",
       " '11d16350-7ed2-44b5-a7fb-1f8fc7056e8d': 'MCD15A3H.006_2017179_to_2017212/MCD15A3H.006_FparExtra_QC_doy2017201_aid0001.tif',\n",
       " '4730bb8b-7d6f-411b-9f75-03b48c0b5dd2': 'MCD15A3H.006_2017179_to_2017212/MCD15A3H.006_FparExtra_QC_doy2017205_aid0001.tif',\n",
       " '8e301eb6-0072-40a0-a743-21a5900cc4fd': 'MCD15A3H.006_2017179_to_2017212/MCD15A3H.006_FparExtra_QC_doy2017209_aid0001.tif',\n",
       " '98916c1d-1f86-432d-822f-fa715b5596e0': 'MOD11A2.061_2017175_to_2017212/MOD11A2.061_LST_Day_1km_doy2017177_aid0001.tif',\n",
       " 'a711d0fd-9621-427c-b566-1927254582ed': 'MOD11A2.061_2017175_to_2017212/MOD11A2.061_LST_Day_1km_doy2017185_aid0001.tif',\n",
       " '7cf8cc48-3f61-421c-9866-faa066415732': 'MOD11A2.061_2017175_to_2017212/MOD11A2.061_LST_Day_1km_doy2017193_aid0001.tif',\n",
       " '3ae96b20-298a-4dd6-af65-9babd6adb4cc': 'MOD11A2.061_2017175_to_2017212/MOD11A2.061_LST_Day_1km_doy2017201_aid0001.tif',\n",
       " 'b1605405-b67b-44eb-ab53-8d8edf681eef': 'MOD11A2.061_2017175_to_2017212/MOD11A2.061_LST_Day_1km_doy2017209_aid0001.tif',\n",
       " '24c68a79-3946-4451-acc3-d2029ab661cc': 'MOD11A2.061_2017175_to_2017212/MOD11A2.061_LST_Night_1km_doy2017177_aid0001.tif',\n",
       " '082049e4-05d2-4558-8f0c-7097469d96db': 'MOD11A2.061_2017175_to_2017212/MOD11A2.061_LST_Night_1km_doy2017185_aid0001.tif',\n",
       " '5885ec1f-6a15-4c31-99ae-b2cf7c054dbf': 'MOD11A2.061_2017175_to_2017212/MOD11A2.061_LST_Night_1km_doy2017193_aid0001.tif',\n",
       " 'cee661d0-e04f-43f0-b447-48b6e408f358': 'MOD11A2.061_2017175_to_2017212/MOD11A2.061_LST_Night_1km_doy2017201_aid0001.tif',\n",
       " '27dac2ef-ed69-4d7a-ba81-05bfab6c4eb2': 'MOD11A2.061_2017175_to_2017212/MOD11A2.061_LST_Night_1km_doy2017209_aid0001.tif',\n",
       " '2c96e2b4-e4ee-43cf-bc55-5a5fee2f32f4': 'MOD11A2.061_2017175_to_2017212/MOD11A2.061_QC_Day_doy2017177_aid0001.tif',\n",
       " 'ee051fc4-07d5-4e6b-b9f5-7b1e33d3dd2d': 'MOD11A2.061_2017175_to_2017212/MOD11A2.061_QC_Day_doy2017185_aid0001.tif',\n",
       " '55c47d78-375c-471d-9a87-1dc24f14889b': 'MOD11A2.061_2017175_to_2017212/MOD11A2.061_QC_Day_doy2017193_aid0001.tif',\n",
       " 'c2878460-0607-4f03-b6e7-eab825b4953c': 'MOD11A2.061_2017175_to_2017212/MOD11A2.061_QC_Day_doy2017201_aid0001.tif',\n",
       " '1a91a371-3156-423b-9dcc-f12298f30a3c': 'MOD11A2.061_2017175_to_2017212/MOD11A2.061_QC_Day_doy2017209_aid0001.tif',\n",
       " '6020f5ac-5b0b-40e7-9ec5-775257743a77': 'MOD11A2.061_2017175_to_2017212/MOD11A2.061_QC_Night_doy2017177_aid0001.tif',\n",
       " '64570cd9-01a5-4752-807d-1bace6758e4d': 'MOD11A2.061_2017175_to_2017212/MOD11A2.061_QC_Night_doy2017185_aid0001.tif',\n",
       " '287438ca-d097-4bff-9803-7bb93db7646c': 'MOD11A2.061_2017175_to_2017212/MOD11A2.061_QC_Night_doy2017193_aid0001.tif',\n",
       " '16faf46c-b8ce-48cf-963d-e5b6002ad728': 'MOD11A2.061_2017175_to_2017212/MOD11A2.061_QC_Night_doy2017201_aid0001.tif',\n",
       " 'f7bdfa65-bea4-4a44-93d9-ddb7dc892b9d': 'MOD11A2.061_2017175_to_2017212/MOD11A2.061_QC_Night_doy2017209_aid0001.tif',\n",
       " '8e349bdd-e475-4db6-95af-23c666974949': 'SRTMGL1_NC.003_2000001_to_2022126/SRTMGL1_NC.003_SRTMGL1_DEM_doy2000042_aid0001.tif',\n",
       " '3a37d9f1-719c-4402-bb23-4ae2ba9db2ba': 'SRTMGL1_NUMNC.003_2000001_to_2022126/SRTMGL1_NUMNC.003_SRTMGL1_NUM_doy2000042_aid0001.tif',\n",
       " '9d8eb8f3-4d7c-4c8a-ace8-3456391f8dfc': 'MCD15A3H-006-FparLai-QC-lookup.csv',\n",
       " '254984ea-58fd-4c84-a57b-dc3ab0102a6d': 'MCD15A3H-006-FparExtra-QC-lookup.csv',\n",
       " 'b22275a9-4bf8-449b-8c09-7c07b4e62491': 'MOD11A2-061-QC-Day-lookup.csv',\n",
       " '11c43e43-d568-4e4c-86ea-f955dab2a671': 'MOD11A2-061-QC-Night-lookup.csv',\n",
       " 'c0728e32-720d-499b-9b0a-53546828db6b': 'SRTMGL1-NUMNC-003-SRTMGL1-NUM-lookup.csv',\n",
       " '7717a22e-9842-4779-80e9-18c47961274c': 'MCD15A3H-006-FparLai-QC-Statistics-QA.csv',\n",
       " '4b34b644-ab0b-42d7-b2b0-50fa7f2d6172': 'MCD15A3H-006-FparExtra-QC-Statistics-QA.csv',\n",
       " 'd9e4ba20-ab57-4a85-9c9b-77711f8661c5': 'MOD11A2-061-QC-Day-Statistics-QA.csv',\n",
       " '25359cef-059c-4d7b-b198-bf5d6ad2e35c': 'MOD11A2-061-QC-Night-Statistics-QA.csv',\n",
       " 'd7e6503d-0543-4879-b537-47b2b5237d8c': 'SRTMGL1-NUMNC-003-SRTMGL1-NUM-Statistics-QA.csv',\n",
       " 'ee8f69f2-3762-441b-8538-c206b78d1235': 'MCD15A3H-006-Statistics.csv',\n",
       " '8e7539e5-8a8b-4c8c-b3ca-6ae8dfa7abdd': 'MOD11A2-061-Statistics.csv',\n",
       " '22c0e7d9-0671-4258-8eed-855e70084707': 'SRTMGL1-NC-003-Statistics.csv',\n",
       " '0b6fe22c-185e-4e6a-8d60-f50b6658ab69': 'NPS-Vegetation-Area-granule-list.txt',\n",
       " '5b804f00-e686-486c-826a-4f797edfa7ab': 'NPS-Vegetation-Area-request.json',\n",
       " '242f226e-1db4-4319-b0da-f0c9d7fc96c5': 'NPS-Vegetation-Area-MCD15A3H-006-metadata.xml',\n",
       " '683f2fe8-1a3a-4920-895c-7c9802f50c16': 'NPS-Vegetation-Area-MOD11A2-061-metadata.xml',\n",
       " 'ddf42378-29bd-4dae-bf5d-aa12adf2af41': 'NPS-Vegetation-Area-SRTMGL1-NC-003-metadata.xml',\n",
       " '207228ef-10b6-4b2c-86ed-8106227437c0': 'README.md'}"
      ]
     },
     "execution_count": 34,
     "metadata": {},
     "output_type": "execute_result"
    },
    {
     "data": {
      "text/plain": [
       "{'883b2c91-674e-41eb-9868-bd0c66f2499b': 'MCD15A3H.006_2017179_to_2017212/MCD15A3H.006_Lai_500m_doy2017181_aid0001.tif',\n",
       " 'cca17927-2eb2-4f67-8c25-adffc970e33e': 'MCD15A3H.006_2017179_to_2017212/MCD15A3H.006_Lai_500m_doy2017185_aid0001.tif',\n",
       " '884a41ab-978b-46cb-8087-bf7ffc6c850c': 'MCD15A3H.006_2017179_to_2017212/MCD15A3H.006_Lai_500m_doy2017189_aid0001.tif',\n",
       " '39fb9aad-7564-4925-a4fa-766e3b732163': 'MCD15A3H.006_2017179_to_2017212/MCD15A3H.006_Lai_500m_doy2017193_aid0001.tif',\n",
       " '15b09334-d519-4f99-b798-5929ee893c4b': 'MCD15A3H.006_2017179_to_2017212/MCD15A3H.006_Lai_500m_doy2017197_aid0001.tif',\n",
       " 'a7adc9dc-fc7b-46c7-8129-69acb2b65773': 'MCD15A3H.006_2017179_to_2017212/MCD15A3H.006_Lai_500m_doy2017201_aid0001.tif',\n",
       " '828813ec-8bdc-46fd-aaa2-9edb2a05b4da': 'MCD15A3H.006_2017179_to_2017212/MCD15A3H.006_Lai_500m_doy2017205_aid0001.tif',\n",
       " 'c92e297e-c691-4275-a49b-aff597fb85ab': 'MCD15A3H.006_2017179_to_2017212/MCD15A3H.006_Lai_500m_doy2017209_aid0001.tif',\n",
       " 'b6bead40-be5c-42f0-9464-663ad383acda': 'MCD15A3H.006_2017179_to_2017212/MCD15A3H.006_FparLai_QC_doy2017181_aid0001.tif',\n",
       " '2047adf2-45f7-4d38-b772-2110bfcabb51': 'MCD15A3H.006_2017179_to_2017212/MCD15A3H.006_FparLai_QC_doy2017185_aid0001.tif',\n",
       " '08383c5f-eb56-4290-a776-63fdf4fa674f': 'MCD15A3H.006_2017179_to_2017212/MCD15A3H.006_FparLai_QC_doy2017189_aid0001.tif',\n",
       " '7a2b756b-f904-4cb3-81dd-a0d5ad2568c3': 'MCD15A3H.006_2017179_to_2017212/MCD15A3H.006_FparLai_QC_doy2017193_aid0001.tif',\n",
       " 'd563f754-6087-4872-81c8-c060f459b252': 'MCD15A3H.006_2017179_to_2017212/MCD15A3H.006_FparLai_QC_doy2017197_aid0001.tif',\n",
       " '9eec6468-8490-44c6-aa4d-31690f94313e': 'MCD15A3H.006_2017179_to_2017212/MCD15A3H.006_FparLai_QC_doy2017201_aid0001.tif',\n",
       " 'd1247770-a750-4c5f-869b-10c9bd150a05': 'MCD15A3H.006_2017179_to_2017212/MCD15A3H.006_FparLai_QC_doy2017205_aid0001.tif',\n",
       " '2f5678f9-abe2-471e-b67f-fb7b3fa2d5c5': 'MCD15A3H.006_2017179_to_2017212/MCD15A3H.006_FparLai_QC_doy2017209_aid0001.tif',\n",
       " 'c1ce9e62-9f5e-4024-80fa-b6ebd3c711a2': 'MCD15A3H.006_2017179_to_2017212/MCD15A3H.006_FparExtra_QC_doy2017181_aid0001.tif',\n",
       " '6b3fdcee-549f-4105-b5bd-c0e68ee715a1': 'MCD15A3H.006_2017179_to_2017212/MCD15A3H.006_FparExtra_QC_doy2017185_aid0001.tif',\n",
       " '15de92b5-eb49-4c31-9267-bea9d759a4ed': 'MCD15A3H.006_2017179_to_2017212/MCD15A3H.006_FparExtra_QC_doy2017189_aid0001.tif',\n",
       " '9f9f5b70-e4d7-484c-925a-c2bc829d30d1': 'MCD15A3H.006_2017179_to_2017212/MCD15A3H.006_FparExtra_QC_doy2017193_aid0001.tif',\n",
       " '1c29b411-c283-4021-9efe-859a371a7bfe': 'MCD15A3H.006_2017179_to_2017212/MCD15A3H.006_FparExtra_QC_doy2017197_aid0001.tif',\n",
       " '11d16350-7ed2-44b5-a7fb-1f8fc7056e8d': 'MCD15A3H.006_2017179_to_2017212/MCD15A3H.006_FparExtra_QC_doy2017201_aid0001.tif',\n",
       " '4730bb8b-7d6f-411b-9f75-03b48c0b5dd2': 'MCD15A3H.006_2017179_to_2017212/MCD15A3H.006_FparExtra_QC_doy2017205_aid0001.tif',\n",
       " '8e301eb6-0072-40a0-a743-21a5900cc4fd': 'MCD15A3H.006_2017179_to_2017212/MCD15A3H.006_FparExtra_QC_doy2017209_aid0001.tif',\n",
       " '98916c1d-1f86-432d-822f-fa715b5596e0': 'MOD11A2.061_2017175_to_2017212/MOD11A2.061_LST_Day_1km_doy2017177_aid0001.tif',\n",
       " 'a711d0fd-9621-427c-b566-1927254582ed': 'MOD11A2.061_2017175_to_2017212/MOD11A2.061_LST_Day_1km_doy2017185_aid0001.tif',\n",
       " '7cf8cc48-3f61-421c-9866-faa066415732': 'MOD11A2.061_2017175_to_2017212/MOD11A2.061_LST_Day_1km_doy2017193_aid0001.tif',\n",
       " '3ae96b20-298a-4dd6-af65-9babd6adb4cc': 'MOD11A2.061_2017175_to_2017212/MOD11A2.061_LST_Day_1km_doy2017201_aid0001.tif',\n",
       " 'b1605405-b67b-44eb-ab53-8d8edf681eef': 'MOD11A2.061_2017175_to_2017212/MOD11A2.061_LST_Day_1km_doy2017209_aid0001.tif',\n",
       " '24c68a79-3946-4451-acc3-d2029ab661cc': 'MOD11A2.061_2017175_to_2017212/MOD11A2.061_LST_Night_1km_doy2017177_aid0001.tif',\n",
       " '082049e4-05d2-4558-8f0c-7097469d96db': 'MOD11A2.061_2017175_to_2017212/MOD11A2.061_LST_Night_1km_doy2017185_aid0001.tif',\n",
       " '5885ec1f-6a15-4c31-99ae-b2cf7c054dbf': 'MOD11A2.061_2017175_to_2017212/MOD11A2.061_LST_Night_1km_doy2017193_aid0001.tif',\n",
       " 'cee661d0-e04f-43f0-b447-48b6e408f358': 'MOD11A2.061_2017175_to_2017212/MOD11A2.061_LST_Night_1km_doy2017201_aid0001.tif',\n",
       " '27dac2ef-ed69-4d7a-ba81-05bfab6c4eb2': 'MOD11A2.061_2017175_to_2017212/MOD11A2.061_LST_Night_1km_doy2017209_aid0001.tif',\n",
       " '2c96e2b4-e4ee-43cf-bc55-5a5fee2f32f4': 'MOD11A2.061_2017175_to_2017212/MOD11A2.061_QC_Day_doy2017177_aid0001.tif',\n",
       " 'ee051fc4-07d5-4e6b-b9f5-7b1e33d3dd2d': 'MOD11A2.061_2017175_to_2017212/MOD11A2.061_QC_Day_doy2017185_aid0001.tif',\n",
       " '55c47d78-375c-471d-9a87-1dc24f14889b': 'MOD11A2.061_2017175_to_2017212/MOD11A2.061_QC_Day_doy2017193_aid0001.tif',\n",
       " 'c2878460-0607-4f03-b6e7-eab825b4953c': 'MOD11A2.061_2017175_to_2017212/MOD11A2.061_QC_Day_doy2017201_aid0001.tif',\n",
       " '1a91a371-3156-423b-9dcc-f12298f30a3c': 'MOD11A2.061_2017175_to_2017212/MOD11A2.061_QC_Day_doy2017209_aid0001.tif',\n",
       " '6020f5ac-5b0b-40e7-9ec5-775257743a77': 'MOD11A2.061_2017175_to_2017212/MOD11A2.061_QC_Night_doy2017177_aid0001.tif',\n",
       " '64570cd9-01a5-4752-807d-1bace6758e4d': 'MOD11A2.061_2017175_to_2017212/MOD11A2.061_QC_Night_doy2017185_aid0001.tif',\n",
       " '287438ca-d097-4bff-9803-7bb93db7646c': 'MOD11A2.061_2017175_to_2017212/MOD11A2.061_QC_Night_doy2017193_aid0001.tif',\n",
       " '16faf46c-b8ce-48cf-963d-e5b6002ad728': 'MOD11A2.061_2017175_to_2017212/MOD11A2.061_QC_Night_doy2017201_aid0001.tif',\n",
       " 'f7bdfa65-bea4-4a44-93d9-ddb7dc892b9d': 'MOD11A2.061_2017175_to_2017212/MOD11A2.061_QC_Night_doy2017209_aid0001.tif',\n",
       " '8e349bdd-e475-4db6-95af-23c666974949': 'SRTMGL1_NC.003_2000001_to_2022126/SRTMGL1_NC.003_SRTMGL1_DEM_doy2000042_aid0001.tif',\n",
       " '3a37d9f1-719c-4402-bb23-4ae2ba9db2ba': 'SRTMGL1_NUMNC.003_2000001_to_2022126/SRTMGL1_NUMNC.003_SRTMGL1_NUM_doy2000042_aid0001.tif',\n",
       " '9d8eb8f3-4d7c-4c8a-ace8-3456391f8dfc': 'MCD15A3H-006-FparLai-QC-lookup.csv',\n",
       " '254984ea-58fd-4c84-a57b-dc3ab0102a6d': 'MCD15A3H-006-FparExtra-QC-lookup.csv',\n",
       " 'b22275a9-4bf8-449b-8c09-7c07b4e62491': 'MOD11A2-061-QC-Day-lookup.csv',\n",
       " '11c43e43-d568-4e4c-86ea-f955dab2a671': 'MOD11A2-061-QC-Night-lookup.csv',\n",
       " 'c0728e32-720d-499b-9b0a-53546828db6b': 'SRTMGL1-NUMNC-003-SRTMGL1-NUM-lookup.csv',\n",
       " '7717a22e-9842-4779-80e9-18c47961274c': 'MCD15A3H-006-FparLai-QC-Statistics-QA.csv',\n",
       " '4b34b644-ab0b-42d7-b2b0-50fa7f2d6172': 'MCD15A3H-006-FparExtra-QC-Statistics-QA.csv',\n",
       " 'd9e4ba20-ab57-4a85-9c9b-77711f8661c5': 'MOD11A2-061-QC-Day-Statistics-QA.csv',\n",
       " '25359cef-059c-4d7b-b198-bf5d6ad2e35c': 'MOD11A2-061-QC-Night-Statistics-QA.csv',\n",
       " 'd7e6503d-0543-4879-b537-47b2b5237d8c': 'SRTMGL1-NUMNC-003-SRTMGL1-NUM-Statistics-QA.csv',\n",
       " 'ee8f69f2-3762-441b-8538-c206b78d1235': 'MCD15A3H-006-Statistics.csv',\n",
       " '8e7539e5-8a8b-4c8c-b3ca-6ae8dfa7abdd': 'MOD11A2-061-Statistics.csv',\n",
       " '22c0e7d9-0671-4258-8eed-855e70084707': 'SRTMGL1-NC-003-Statistics.csv',\n",
       " '0b6fe22c-185e-4e6a-8d60-f50b6658ab69': 'NPS-Vegetation-Area-granule-list.txt',\n",
       " '5b804f00-e686-486c-826a-4f797edfa7ab': 'NPS-Vegetation-Area-request.json',\n",
       " '242f226e-1db4-4319-b0da-f0c9d7fc96c5': 'NPS-Vegetation-Area-MCD15A3H-006-metadata.xml',\n",
       " '683f2fe8-1a3a-4920-895c-7c9802f50c16': 'NPS-Vegetation-Area-MOD11A2-061-metadata.xml',\n",
       " 'ddf42378-29bd-4dae-bf5d-aa12adf2af41': 'NPS-Vegetation-Area-SRTMGL1-NC-003-metadata.xml',\n",
       " '207228ef-10b6-4b2c-86ed-8106227437c0': 'README.md'}"
      ]
     },
     "execution_count": 34,
     "metadata": {},
     "output_type": "execute_result"
    }
   ],
   "source": [
    "files = {}                                                       # Create empty dictionary\n",
    "for f in bundle['files']: files[f['file_id']] = f['file_name']   # Fill dictionary with file_id as keys and file_name as values\n",
    "files    "
   ]
  },
  {
   "attachments": {},
   "cell_type": "markdown",
   "metadata": {},
   "source": [
    "#### Use the `files` dictionary and a `for` loop to automate downloading all of the output files into the output directory. "
   ]
  },
  {
   "cell_type": "code",
   "execution_count": null,
   "metadata": {},
   "outputs": [
    {
     "name": "stdout",
     "output_type": "stream",
     "text": [
      "Downloaded files can be found at: C:/Users/appeears-api-getting-started/NPS Vegetation Area\n",
      "Downloaded files can be found at: C:/Users/appeears-api-getting-started/NPS Vegetation Area\n"
     ]
    }
   ],
   "source": [
    "for f in files:\n",
    "    dl = r.get('{}bundle/{}/{}'.format(api, task_id, f), headers=head, stream=True, allow_redirects = 'True')                                # Get a stream to the bundle file\n",
    "    if files[f].endswith('.tif'):\n",
    "        filename = files[f].split('/')[1]\n",
    "    else:\n",
    "        filename = files[f] \n",
    "    filepath = os.path.join(destDir, filename)                                                       # Create output file path\n",
    "    with open(filepath, 'wb') as f:                                                                  # Write file to dest dir\n",
    "        for data in dl.iter_content(chunk_size=8192): f.write(data) \n",
    "print('Downloaded files can be found at: {}'.format(destDir))"
   ]
  },
  {
   "attachments": {},
   "cell_type": "markdown",
   "metadata": {},
   "source": [
    "***\n",
    "# 5. Explore AρρEEARS Quality Service [[Quality API](https://appeears.earthdatacloud.nasa.gov/api/#quality)]\n",
    "#### The quality API provides quality details about all of the data products available in AρρEEARS. Below are examples of how to query the quality API for listing quality products, layers, and values. The final example (Section 5c.) demonstrates how AρρEEARS quality services can be leveraged to decode pertinent quality values for your data.\n",
    "#### First, reset pagination to include `offset` which allows you to set the number of results to skip before starting to return entries. Next, make a call to list all of the data product layers and the associated quality product and layer information."
   ]
  },
  {
   "cell_type": "code",
   "execution_count": null,
   "metadata": {},
   "outputs": [
    {
     "data": {
      "text/plain": [
       "[{'ProductAndVersion': 'CU_LT05.001',\n",
       "  'Layer': 'SRB1',\n",
       "  'QualityProductAndVersion': 'CU_LT05.001',\n",
       "  'QualityLayers': ['PIXELQA'],\n",
       "  'Continuous': False,\n",
       "  'VisibleToWorker': True},\n",
       " {'ProductAndVersion': 'CU_LT05.001',\n",
       "  'Layer': 'SRB2',\n",
       "  'QualityProductAndVersion': 'CU_LT05.001',\n",
       "  'QualityLayers': ['PIXELQA'],\n",
       "  'Continuous': False,\n",
       "  'VisibleToWorker': True},\n",
       " {'ProductAndVersion': 'CU_LT05.001',\n",
       "  'Layer': 'SRB3',\n",
       "  'QualityProductAndVersion': 'CU_LT05.001',\n",
       "  'QualityLayers': ['PIXELQA'],\n",
       "  'Continuous': False,\n",
       "  'VisibleToWorker': True},\n",
       " {'ProductAndVersion': 'CU_LT05.001',\n",
       "  'Layer': 'SRB4',\n",
       "  'QualityProductAndVersion': 'CU_LT05.001',\n",
       "  'QualityLayers': ['PIXELQA'],\n",
       "  'Continuous': False,\n",
       "  'VisibleToWorker': True},\n",
       " {'ProductAndVersion': 'CU_LT05.001',\n",
       "  'Layer': 'SRB5',\n",
       "  'QualityProductAndVersion': 'CU_LT05.001',\n",
       "  'QualityLayers': ['PIXELQA'],\n",
       "  'Continuous': False,\n",
       "  'VisibleToWorker': True},\n",
       " {'ProductAndVersion': 'CU_LT05.001',\n",
       "  'Layer': 'SRB7',\n",
       "  'QualityProductAndVersion': 'CU_LT05.001',\n",
       "  'QualityLayers': ['PIXELQA'],\n",
       "  'Continuous': False,\n",
       "  'VisibleToWorker': True}]"
      ]
     },
     "execution_count": 36,
     "metadata": {},
     "output_type": "execute_result"
    },
    {
     "data": {
      "text/plain": [
       "[{'ProductAndVersion': 'CU_LT05.001',\n",
       "  'Layer': 'SRB1',\n",
       "  'QualityProductAndVersion': 'CU_LT05.001',\n",
       "  'QualityLayers': ['PIXELQA'],\n",
       "  'Continuous': False,\n",
       "  'VisibleToWorker': True},\n",
       " {'ProductAndVersion': 'CU_LT05.001',\n",
       "  'Layer': 'SRB2',\n",
       "  'QualityProductAndVersion': 'CU_LT05.001',\n",
       "  'QualityLayers': ['PIXELQA'],\n",
       "  'Continuous': False,\n",
       "  'VisibleToWorker': True},\n",
       " {'ProductAndVersion': 'CU_LT05.001',\n",
       "  'Layer': 'SRB3',\n",
       "  'QualityProductAndVersion': 'CU_LT05.001',\n",
       "  'QualityLayers': ['PIXELQA'],\n",
       "  'Continuous': False,\n",
       "  'VisibleToWorker': True},\n",
       " {'ProductAndVersion': 'CU_LT05.001',\n",
       "  'Layer': 'SRB4',\n",
       "  'QualityProductAndVersion': 'CU_LT05.001',\n",
       "  'QualityLayers': ['PIXELQA'],\n",
       "  'Continuous': False,\n",
       "  'VisibleToWorker': True},\n",
       " {'ProductAndVersion': 'CU_LT05.001',\n",
       "  'Layer': 'SRB5',\n",
       "  'QualityProductAndVersion': 'CU_LT05.001',\n",
       "  'QualityLayers': ['PIXELQA'],\n",
       "  'Continuous': False,\n",
       "  'VisibleToWorker': True},\n",
       " {'ProductAndVersion': 'CU_LT05.001',\n",
       "  'Layer': 'SRB7',\n",
       "  'QualityProductAndVersion': 'CU_LT05.001',\n",
       "  'QualityLayers': ['PIXELQA'],\n",
       "  'Continuous': False,\n",
       "  'VisibleToWorker': True}]"
      ]
     },
     "execution_count": 36,
     "metadata": {},
     "output_type": "execute_result"
    }
   ],
   "source": [
    "params = {'limit': 6, 'pretty': True, 'offset': 20}                     # Limit response to 6 entries, start w/ 20th entry, return pretty json\n",
    "quality_response = r.get('{}quality'.format(api), params=params).json() # Call quality API using pagination and return json\n",
    "quality_response                                                        # Print response"
   ]
  },
  {
   "attachments": {},
   "cell_type": "markdown",
   "metadata": {},
   "source": [
    "---\n",
    "## 5a. List Quality Layers [[List Quality Layers](https://appeears.earthdatacloud.nasa.gov/api/#list-quality-layers)]\n",
    "#### This API call will list all of the quality layer information for a product."
   ]
  },
  {
   "cell_type": "code",
   "execution_count": null,
   "metadata": {},
   "outputs": [
    {
     "data": {
      "text/plain": [
       "[{'ProductAndVersion': 'MCD15A3H.006',\n",
       "  'Layer': 'Fpar_500m',\n",
       "  'QualityProductAndVersion': 'MCD15A3H.006',\n",
       "  'QualityLayers': ['FparLai_QC', 'FparExtra_QC'],\n",
       "  'VisibleToWorker': True},\n",
       " {'ProductAndVersion': 'MCD15A3H.006',\n",
       "  'Layer': 'FparStdDev_500m',\n",
       "  'QualityProductAndVersion': 'MCD15A3H.006',\n",
       "  'QualityLayers': ['FparLai_QC', 'FparExtra_QC'],\n",
       "  'VisibleToWorker': True},\n",
       " {'ProductAndVersion': 'MCD15A3H.006',\n",
       "  'Layer': 'Lai_500m',\n",
       "  'QualityProductAndVersion': 'MCD15A3H.006',\n",
       "  'QualityLayers': ['FparLai_QC', 'FparExtra_QC'],\n",
       "  'VisibleToWorker': True},\n",
       " {'ProductAndVersion': 'MCD15A3H.006',\n",
       "  'Layer': 'LaiStdDev_500m',\n",
       "  'QualityProductAndVersion': 'MCD15A3H.006',\n",
       "  'QualityLayers': ['FparLai_QC', 'FparExtra_QC'],\n",
       "  'VisibleToWorker': True}]"
      ]
     },
     "execution_count": 37,
     "metadata": {},
     "output_type": "execute_result"
    },
    {
     "data": {
      "text/plain": [
       "[{'ProductAndVersion': 'MCD15A3H.006',\n",
       "  'Layer': 'Fpar_500m',\n",
       "  'QualityProductAndVersion': 'MCD15A3H.006',\n",
       "  'QualityLayers': ['FparLai_QC', 'FparExtra_QC'],\n",
       "  'VisibleToWorker': True},\n",
       " {'ProductAndVersion': 'MCD15A3H.006',\n",
       "  'Layer': 'FparStdDev_500m',\n",
       "  'QualityProductAndVersion': 'MCD15A3H.006',\n",
       "  'QualityLayers': ['FparLai_QC', 'FparExtra_QC'],\n",
       "  'VisibleToWorker': True},\n",
       " {'ProductAndVersion': 'MCD15A3H.006',\n",
       "  'Layer': 'Lai_500m',\n",
       "  'QualityProductAndVersion': 'MCD15A3H.006',\n",
       "  'QualityLayers': ['FparLai_QC', 'FparExtra_QC'],\n",
       "  'VisibleToWorker': True},\n",
       " {'ProductAndVersion': 'MCD15A3H.006',\n",
       "  'Layer': 'LaiStdDev_500m',\n",
       "  'QualityProductAndVersion': 'MCD15A3H.006',\n",
       "  'QualityLayers': ['FparLai_QC', 'FparExtra_QC'],\n",
       "  'VisibleToWorker': True}]"
      ]
     },
     "execution_count": 37,
     "metadata": {},
     "output_type": "execute_result"
    }
   ],
   "source": [
    "product = 'MCD15A3H.006'                                        # Product used in the example\n",
    "ql_response = r.get('{}quality/{}'.format(api,product)).json()  # Call API to retrieve quality layers for selected product\n",
    "ql_response                                                     # Print response"
   ]
  },
  {
   "attachments": {},
   "cell_type": "markdown",
   "metadata": {},
   "source": [
    "---\n",
    "## 5b. Show Quality Values [[List Quality Values](https://appeears.earthdatacloud.nasa.gov/api/#list-quality-values)]\n",
    "#### This API call will list all of the values for a given quality layer."
   ]
  },
  {
   "cell_type": "code",
   "execution_count": null,
   "metadata": {},
   "outputs": [
    {
     "data": {
      "text/plain": [
       "[{'ProductAndVersion': 'MCD15A3H.006',\n",
       "  'QualityLayer': 'FparLai_QC',\n",
       "  'Name': 'MODLAND',\n",
       "  'Value': 0,\n",
       "  'Description': 'Good quality (main algorithm with or without saturation)',\n",
       "  'Acceptable': True},\n",
       " {'ProductAndVersion': 'MCD15A3H.006',\n",
       "  'QualityLayer': 'FparLai_QC',\n",
       "  'Name': 'MODLAND',\n",
       "  'Value': 1,\n",
       "  'Description': 'Other Quality (back-up algorithm or fill values)',\n",
       "  'Acceptable': False},\n",
       " {'ProductAndVersion': 'MCD15A3H.006',\n",
       "  'QualityLayer': 'FparLai_QC',\n",
       "  'Name': 'Sensor',\n",
       "  'Value': 0,\n",
       "  'Description': 'Terra',\n",
       "  'Acceptable': None},\n",
       " {'ProductAndVersion': 'MCD15A3H.006',\n",
       "  'QualityLayer': 'FparLai_QC',\n",
       "  'Name': 'Sensor',\n",
       "  'Value': 1,\n",
       "  'Description': 'Aqua',\n",
       "  'Acceptable': None},\n",
       " {'ProductAndVersion': 'MCD15A3H.006',\n",
       "  'QualityLayer': 'FparLai_QC',\n",
       "  'Name': 'DeadDetector',\n",
       "  'Value': 0,\n",
       "  'Description': 'Detectors apparently fine for up to 50% of channels 1, 2',\n",
       "  'Acceptable': None},\n",
       " {'ProductAndVersion': 'MCD15A3H.006',\n",
       "  'QualityLayer': 'FparLai_QC',\n",
       "  'Name': 'DeadDetector',\n",
       "  'Value': 1,\n",
       "  'Description': 'Dead detectors caused >50% adjacent detector retrieval',\n",
       "  'Acceptable': None},\n",
       " {'ProductAndVersion': 'MCD15A3H.006',\n",
       "  'QualityLayer': 'FparLai_QC',\n",
       "  'Name': 'CloudState',\n",
       "  'Value': 0,\n",
       "  'Description': 'Significant clouds NOT present (clear)',\n",
       "  'Acceptable': None},\n",
       " {'ProductAndVersion': 'MCD15A3H.006',\n",
       "  'QualityLayer': 'FparLai_QC',\n",
       "  'Name': 'CloudState',\n",
       "  'Value': 1,\n",
       "  'Description': 'Significant clouds WERE present',\n",
       "  'Acceptable': None},\n",
       " {'ProductAndVersion': 'MCD15A3H.006',\n",
       "  'QualityLayer': 'FparLai_QC',\n",
       "  'Name': 'CloudState',\n",
       "  'Value': 2,\n",
       "  'Description': 'Mixed cloud present in pixel',\n",
       "  'Acceptable': None},\n",
       " {'ProductAndVersion': 'MCD15A3H.006',\n",
       "  'QualityLayer': 'FparLai_QC',\n",
       "  'Name': 'CloudState',\n",
       "  'Value': 3,\n",
       "  'Description': 'Cloud state not defined, assumed clear',\n",
       "  'Acceptable': None},\n",
       " {'ProductAndVersion': 'MCD15A3H.006',\n",
       "  'QualityLayer': 'FparLai_QC',\n",
       "  'Name': 'SCF_QC',\n",
       "  'Value': 0,\n",
       "  'Description': 'Main (RT) method used, best result possible (no saturation)',\n",
       "  'Acceptable': None},\n",
       " {'ProductAndVersion': 'MCD15A3H.006',\n",
       "  'QualityLayer': 'FparLai_QC',\n",
       "  'Name': 'SCF_QC',\n",
       "  'Value': 1,\n",
       "  'Description': 'Main (RT) method used with saturation. Good, very usable',\n",
       "  'Acceptable': None},\n",
       " {'ProductAndVersion': 'MCD15A3H.006',\n",
       "  'QualityLayer': 'FparLai_QC',\n",
       "  'Name': 'SCF_QC',\n",
       "  'Value': 2,\n",
       "  'Description': 'Main (RT) method failed due to bad geometry, empirical algorithm used',\n",
       "  'Acceptable': None},\n",
       " {'ProductAndVersion': 'MCD15A3H.006',\n",
       "  'QualityLayer': 'FparLai_QC',\n",
       "  'Name': 'SCF_QC',\n",
       "  'Value': 3,\n",
       "  'Description': 'Main (RT) method failed due to problems other than geometry, empirical algorithm used',\n",
       "  'Acceptable': None},\n",
       " {'ProductAndVersion': 'MCD15A3H.006',\n",
       "  'QualityLayer': 'FparLai_QC',\n",
       "  'Name': 'SCF_QC',\n",
       "  'Value': 4,\n",
       "  'Description': \"Pixel not produced at all, value couldn't be retrieved (possible reasons: bad L1B data, unusable MOD09GA data)\",\n",
       "  'Acceptable': None}]"
      ]
     },
     "execution_count": 38,
     "metadata": {},
     "output_type": "execute_result"
    },
    {
     "data": {
      "text/plain": [
       "[{'ProductAndVersion': 'MCD15A3H.006',\n",
       "  'QualityLayer': 'FparLai_QC',\n",
       "  'Name': 'MODLAND',\n",
       "  'Value': 0,\n",
       "  'Description': 'Good quality (main algorithm with or without saturation)',\n",
       "  'Acceptable': True},\n",
       " {'ProductAndVersion': 'MCD15A3H.006',\n",
       "  'QualityLayer': 'FparLai_QC',\n",
       "  'Name': 'MODLAND',\n",
       "  'Value': 1,\n",
       "  'Description': 'Other Quality (back-up algorithm or fill values)',\n",
       "  'Acceptable': False},\n",
       " {'ProductAndVersion': 'MCD15A3H.006',\n",
       "  'QualityLayer': 'FparLai_QC',\n",
       "  'Name': 'Sensor',\n",
       "  'Value': 0,\n",
       "  'Description': 'Terra',\n",
       "  'Acceptable': None},\n",
       " {'ProductAndVersion': 'MCD15A3H.006',\n",
       "  'QualityLayer': 'FparLai_QC',\n",
       "  'Name': 'Sensor',\n",
       "  'Value': 1,\n",
       "  'Description': 'Aqua',\n",
       "  'Acceptable': None},\n",
       " {'ProductAndVersion': 'MCD15A3H.006',\n",
       "  'QualityLayer': 'FparLai_QC',\n",
       "  'Name': 'DeadDetector',\n",
       "  'Value': 0,\n",
       "  'Description': 'Detectors apparently fine for up to 50% of channels 1, 2',\n",
       "  'Acceptable': None},\n",
       " {'ProductAndVersion': 'MCD15A3H.006',\n",
       "  'QualityLayer': 'FparLai_QC',\n",
       "  'Name': 'DeadDetector',\n",
       "  'Value': 1,\n",
       "  'Description': 'Dead detectors caused >50% adjacent detector retrieval',\n",
       "  'Acceptable': None},\n",
       " {'ProductAndVersion': 'MCD15A3H.006',\n",
       "  'QualityLayer': 'FparLai_QC',\n",
       "  'Name': 'CloudState',\n",
       "  'Value': 0,\n",
       "  'Description': 'Significant clouds NOT present (clear)',\n",
       "  'Acceptable': None},\n",
       " {'ProductAndVersion': 'MCD15A3H.006',\n",
       "  'QualityLayer': 'FparLai_QC',\n",
       "  'Name': 'CloudState',\n",
       "  'Value': 1,\n",
       "  'Description': 'Significant clouds WERE present',\n",
       "  'Acceptable': None},\n",
       " {'ProductAndVersion': 'MCD15A3H.006',\n",
       "  'QualityLayer': 'FparLai_QC',\n",
       "  'Name': 'CloudState',\n",
       "  'Value': 2,\n",
       "  'Description': 'Mixed cloud present in pixel',\n",
       "  'Acceptable': None},\n",
       " {'ProductAndVersion': 'MCD15A3H.006',\n",
       "  'QualityLayer': 'FparLai_QC',\n",
       "  'Name': 'CloudState',\n",
       "  'Value': 3,\n",
       "  'Description': 'Cloud state not defined, assumed clear',\n",
       "  'Acceptable': None},\n",
       " {'ProductAndVersion': 'MCD15A3H.006',\n",
       "  'QualityLayer': 'FparLai_QC',\n",
       "  'Name': 'SCF_QC',\n",
       "  'Value': 0,\n",
       "  'Description': 'Main (RT) method used, best result possible (no saturation)',\n",
       "  'Acceptable': None},\n",
       " {'ProductAndVersion': 'MCD15A3H.006',\n",
       "  'QualityLayer': 'FparLai_QC',\n",
       "  'Name': 'SCF_QC',\n",
       "  'Value': 1,\n",
       "  'Description': 'Main (RT) method used with saturation. Good, very usable',\n",
       "  'Acceptable': None},\n",
       " {'ProductAndVersion': 'MCD15A3H.006',\n",
       "  'QualityLayer': 'FparLai_QC',\n",
       "  'Name': 'SCF_QC',\n",
       "  'Value': 2,\n",
       "  'Description': 'Main (RT) method failed due to bad geometry, empirical algorithm used',\n",
       "  'Acceptable': None},\n",
       " {'ProductAndVersion': 'MCD15A3H.006',\n",
       "  'QualityLayer': 'FparLai_QC',\n",
       "  'Name': 'SCF_QC',\n",
       "  'Value': 3,\n",
       "  'Description': 'Main (RT) method failed due to problems other than geometry, empirical algorithm used',\n",
       "  'Acceptable': None},\n",
       " {'ProductAndVersion': 'MCD15A3H.006',\n",
       "  'QualityLayer': 'FparLai_QC',\n",
       "  'Name': 'SCF_QC',\n",
       "  'Value': 4,\n",
       "  'Description': \"Pixel not produced at all, value couldn't be retrieved (possible reasons: bad L1B data, unusable MOD09GA data)\",\n",
       "  'Acceptable': None}]"
      ]
     },
     "execution_count": 38,
     "metadata": {},
     "output_type": "execute_result"
    }
   ],
   "source": [
    "qlayer = ql_response[1]['QualityLayers'][0]                                # Set quality layer from ql_response for 'Lai_500m'\n",
    "qv_response = r.get('{}quality/{}/{}'.format(api, product, qlayer)).json() # Call API for list of bit-word quality values\n",
    "qv_response                                                                # Print response"
   ]
  },
  {
   "attachments": {},
   "cell_type": "markdown",
   "metadata": {},
   "source": [
    "---\n",
    "## 5c. Decode Quality Values [[Decode Quality Values](https://appeears.earthdatacloud.nasa.gov/api/#decode-quality-values)]\n",
    "#### This API call will decode the bits for a given quality value."
   ]
  },
  {
   "cell_type": "code",
   "execution_count": null,
   "metadata": {},
   "outputs": [
    {
     "data": {
      "text/plain": [
       "{'Binary Representation': '0b00000001',\n",
       " 'MODLAND': {'bits': '0b1',\n",
       "  'description': 'Other Quality (back-up algorithm or fill values)'},\n",
       " 'Sensor': {'bits': '0b0', 'description': 'Terra'},\n",
       " 'DeadDetector': {'bits': '0b0',\n",
       "  'description': 'Detectors apparently fine for up to 50% of channels 1, 2'},\n",
       " 'CloudState': {'bits': '0b00',\n",
       "  'description': 'Significant clouds NOT present (clear)'},\n",
       " 'SCF_QC': {'bits': '0b000',\n",
       "  'description': 'Main (RT) method used, best result possible (no saturation)'}}"
      ]
     },
     "execution_count": 39,
     "metadata": {},
     "output_type": "execute_result"
    },
    {
     "data": {
      "text/plain": [
       "{'Binary Representation': '0b00000001',\n",
       " 'MODLAND': {'bits': '0b1',\n",
       "  'description': 'Other Quality (back-up algorithm or fill values)'},\n",
       " 'Sensor': {'bits': '0b0', 'description': 'Terra'},\n",
       " 'DeadDetector': {'bits': '0b0',\n",
       "  'description': 'Detectors apparently fine for up to 50% of channels 1, 2'},\n",
       " 'CloudState': {'bits': '0b00',\n",
       "  'description': 'Significant clouds NOT present (clear)'},\n",
       " 'SCF_QC': {'bits': '0b000',\n",
       "  'description': 'Main (RT) method used, best result possible (no saturation)'}}"
      ]
     },
     "execution_count": 39,
     "metadata": {},
     "output_type": "execute_result"
    }
   ],
   "source": [
    "val = 1                                                                            # Set a specific value\n",
    "q_response = r.get('{}quality/{}/{}/{}'.format(api, product, qlayer, val)).json()  # Call quality API for specific value\n",
    "q_response                                                                         # Print response"
   ]
  },
  {
   "attachments": {},
   "cell_type": "markdown",
   "metadata": {},
   "source": [
    "***\n",
    "# 6. BONUS: Import Request Output and Visualize\n",
    "#### Here, import one of the output GeoTIFFs and show some basic visualizations using the `matplotlib` package."
   ]
  },
  {
   "cell_type": "code",
   "execution_count": null,
   "metadata": {},
   "outputs": [
    {
     "data": {
      "text/plain": [
       "['MCD15A3H.006_2017179_to_2017212/MCD15A3H.006_Lai_500m_doy2017181_aid0001.tif',\n",
       " 'MCD15A3H.006_2017179_to_2017212/MCD15A3H.006_Lai_500m_doy2017185_aid0001.tif',\n",
       " 'MCD15A3H.006_2017179_to_2017212/MCD15A3H.006_Lai_500m_doy2017189_aid0001.tif',\n",
       " 'MCD15A3H.006_2017179_to_2017212/MCD15A3H.006_Lai_500m_doy2017193_aid0001.tif',\n",
       " 'MCD15A3H.006_2017179_to_2017212/MCD15A3H.006_Lai_500m_doy2017197_aid0001.tif',\n",
       " 'MCD15A3H.006_2017179_to_2017212/MCD15A3H.006_Lai_500m_doy2017201_aid0001.tif',\n",
       " 'MCD15A3H.006_2017179_to_2017212/MCD15A3H.006_Lai_500m_doy2017205_aid0001.tif',\n",
       " 'MCD15A3H.006_2017179_to_2017212/MCD15A3H.006_Lai_500m_doy2017209_aid0001.tif',\n",
       " 'MCD15A3H.006_2017179_to_2017212/MCD15A3H.006_FparLai_QC_doy2017181_aid0001.tif',\n",
       " 'MCD15A3H.006_2017179_to_2017212/MCD15A3H.006_FparLai_QC_doy2017185_aid0001.tif',\n",
       " 'MCD15A3H.006_2017179_to_2017212/MCD15A3H.006_FparLai_QC_doy2017189_aid0001.tif',\n",
       " 'MCD15A3H.006_2017179_to_2017212/MCD15A3H.006_FparLai_QC_doy2017193_aid0001.tif',\n",
       " 'MCD15A3H.006_2017179_to_2017212/MCD15A3H.006_FparLai_QC_doy2017197_aid0001.tif',\n",
       " 'MCD15A3H.006_2017179_to_2017212/MCD15A3H.006_FparLai_QC_doy2017201_aid0001.tif',\n",
       " 'MCD15A3H.006_2017179_to_2017212/MCD15A3H.006_FparLai_QC_doy2017205_aid0001.tif',\n",
       " 'MCD15A3H.006_2017179_to_2017212/MCD15A3H.006_FparLai_QC_doy2017209_aid0001.tif',\n",
       " 'MCD15A3H.006_2017179_to_2017212/MCD15A3H.006_FparExtra_QC_doy2017181_aid0001.tif',\n",
       " 'MCD15A3H.006_2017179_to_2017212/MCD15A3H.006_FparExtra_QC_doy2017185_aid0001.tif',\n",
       " 'MCD15A3H.006_2017179_to_2017212/MCD15A3H.006_FparExtra_QC_doy2017189_aid0001.tif',\n",
       " 'MCD15A3H.006_2017179_to_2017212/MCD15A3H.006_FparExtra_QC_doy2017193_aid0001.tif',\n",
       " 'MCD15A3H.006_2017179_to_2017212/MCD15A3H.006_FparExtra_QC_doy2017197_aid0001.tif',\n",
       " 'MCD15A3H.006_2017179_to_2017212/MCD15A3H.006_FparExtra_QC_doy2017201_aid0001.tif',\n",
       " 'MCD15A3H.006_2017179_to_2017212/MCD15A3H.006_FparExtra_QC_doy2017205_aid0001.tif',\n",
       " 'MCD15A3H.006_2017179_to_2017212/MCD15A3H.006_FparExtra_QC_doy2017209_aid0001.tif',\n",
       " 'MOD11A2.061_2017175_to_2017212/MOD11A2.061_LST_Day_1km_doy2017177_aid0001.tif',\n",
       " 'MOD11A2.061_2017175_to_2017212/MOD11A2.061_LST_Day_1km_doy2017185_aid0001.tif',\n",
       " 'MOD11A2.061_2017175_to_2017212/MOD11A2.061_LST_Day_1km_doy2017193_aid0001.tif',\n",
       " 'MOD11A2.061_2017175_to_2017212/MOD11A2.061_LST_Day_1km_doy2017201_aid0001.tif',\n",
       " 'MOD11A2.061_2017175_to_2017212/MOD11A2.061_LST_Day_1km_doy2017209_aid0001.tif',\n",
       " 'MOD11A2.061_2017175_to_2017212/MOD11A2.061_LST_Night_1km_doy2017177_aid0001.tif',\n",
       " 'MOD11A2.061_2017175_to_2017212/MOD11A2.061_LST_Night_1km_doy2017185_aid0001.tif',\n",
       " 'MOD11A2.061_2017175_to_2017212/MOD11A2.061_LST_Night_1km_doy2017193_aid0001.tif',\n",
       " 'MOD11A2.061_2017175_to_2017212/MOD11A2.061_LST_Night_1km_doy2017201_aid0001.tif',\n",
       " 'MOD11A2.061_2017175_to_2017212/MOD11A2.061_LST_Night_1km_doy2017209_aid0001.tif',\n",
       " 'MOD11A2.061_2017175_to_2017212/MOD11A2.061_QC_Day_doy2017177_aid0001.tif',\n",
       " 'MOD11A2.061_2017175_to_2017212/MOD11A2.061_QC_Day_doy2017185_aid0001.tif',\n",
       " 'MOD11A2.061_2017175_to_2017212/MOD11A2.061_QC_Day_doy2017193_aid0001.tif',\n",
       " 'MOD11A2.061_2017175_to_2017212/MOD11A2.061_QC_Day_doy2017201_aid0001.tif',\n",
       " 'MOD11A2.061_2017175_to_2017212/MOD11A2.061_QC_Day_doy2017209_aid0001.tif',\n",
       " 'MOD11A2.061_2017175_to_2017212/MOD11A2.061_QC_Night_doy2017177_aid0001.tif',\n",
       " 'MOD11A2.061_2017175_to_2017212/MOD11A2.061_QC_Night_doy2017185_aid0001.tif',\n",
       " 'MOD11A2.061_2017175_to_2017212/MOD11A2.061_QC_Night_doy2017193_aid0001.tif',\n",
       " 'MOD11A2.061_2017175_to_2017212/MOD11A2.061_QC_Night_doy2017201_aid0001.tif',\n",
       " 'MOD11A2.061_2017175_to_2017212/MOD11A2.061_QC_Night_doy2017209_aid0001.tif',\n",
       " 'SRTMGL1_NC.003_2000001_to_2022126/SRTMGL1_NC.003_SRTMGL1_DEM_doy2000042_aid0001.tif',\n",
       " 'SRTMGL1_NUMNC.003_2000001_to_2022126/SRTMGL1_NUMNC.003_SRTMGL1_NUM_doy2000042_aid0001.tif',\n",
       " 'MCD15A3H-006-FparLai-QC-lookup.csv',\n",
       " 'MCD15A3H-006-FparExtra-QC-lookup.csv',\n",
       " 'MOD11A2-061-QC-Day-lookup.csv',\n",
       " 'MOD11A2-061-QC-Night-lookup.csv',\n",
       " 'SRTMGL1-NUMNC-003-SRTMGL1-NUM-lookup.csv',\n",
       " 'MCD15A3H-006-FparLai-QC-Statistics-QA.csv',\n",
       " 'MCD15A3H-006-FparExtra-QC-Statistics-QA.csv',\n",
       " 'MOD11A2-061-QC-Day-Statistics-QA.csv',\n",
       " 'MOD11A2-061-QC-Night-Statistics-QA.csv',\n",
       " 'SRTMGL1-NUMNC-003-SRTMGL1-NUM-Statistics-QA.csv',\n",
       " 'MCD15A3H-006-Statistics.csv',\n",
       " 'MOD11A2-061-Statistics.csv',\n",
       " 'SRTMGL1-NC-003-Statistics.csv',\n",
       " 'NPS-Vegetation-Area-granule-list.txt',\n",
       " 'NPS-Vegetation-Area-request.json',\n",
       " 'NPS-Vegetation-Area-MCD15A3H-006-metadata.xml',\n",
       " 'NPS-Vegetation-Area-MOD11A2-061-metadata.xml',\n",
       " 'NPS-Vegetation-Area-SRTMGL1-NC-003-metadata.xml',\n",
       " 'README.md']"
      ]
     },
     "execution_count": 40,
     "metadata": {},
     "output_type": "execute_result"
    },
    {
     "data": {
      "text/plain": [
       "['MCD15A3H.006_2017179_to_2017212/MCD15A3H.006_Lai_500m_doy2017181_aid0001.tif',\n",
       " 'MCD15A3H.006_2017179_to_2017212/MCD15A3H.006_Lai_500m_doy2017185_aid0001.tif',\n",
       " 'MCD15A3H.006_2017179_to_2017212/MCD15A3H.006_Lai_500m_doy2017189_aid0001.tif',\n",
       " 'MCD15A3H.006_2017179_to_2017212/MCD15A3H.006_Lai_500m_doy2017193_aid0001.tif',\n",
       " 'MCD15A3H.006_2017179_to_2017212/MCD15A3H.006_Lai_500m_doy2017197_aid0001.tif',\n",
       " 'MCD15A3H.006_2017179_to_2017212/MCD15A3H.006_Lai_500m_doy2017201_aid0001.tif',\n",
       " 'MCD15A3H.006_2017179_to_2017212/MCD15A3H.006_Lai_500m_doy2017205_aid0001.tif',\n",
       " 'MCD15A3H.006_2017179_to_2017212/MCD15A3H.006_Lai_500m_doy2017209_aid0001.tif',\n",
       " 'MCD15A3H.006_2017179_to_2017212/MCD15A3H.006_FparLai_QC_doy2017181_aid0001.tif',\n",
       " 'MCD15A3H.006_2017179_to_2017212/MCD15A3H.006_FparLai_QC_doy2017185_aid0001.tif',\n",
       " 'MCD15A3H.006_2017179_to_2017212/MCD15A3H.006_FparLai_QC_doy2017189_aid0001.tif',\n",
       " 'MCD15A3H.006_2017179_to_2017212/MCD15A3H.006_FparLai_QC_doy2017193_aid0001.tif',\n",
       " 'MCD15A3H.006_2017179_to_2017212/MCD15A3H.006_FparLai_QC_doy2017197_aid0001.tif',\n",
       " 'MCD15A3H.006_2017179_to_2017212/MCD15A3H.006_FparLai_QC_doy2017201_aid0001.tif',\n",
       " 'MCD15A3H.006_2017179_to_2017212/MCD15A3H.006_FparLai_QC_doy2017205_aid0001.tif',\n",
       " 'MCD15A3H.006_2017179_to_2017212/MCD15A3H.006_FparLai_QC_doy2017209_aid0001.tif',\n",
       " 'MCD15A3H.006_2017179_to_2017212/MCD15A3H.006_FparExtra_QC_doy2017181_aid0001.tif',\n",
       " 'MCD15A3H.006_2017179_to_2017212/MCD15A3H.006_FparExtra_QC_doy2017185_aid0001.tif',\n",
       " 'MCD15A3H.006_2017179_to_2017212/MCD15A3H.006_FparExtra_QC_doy2017189_aid0001.tif',\n",
       " 'MCD15A3H.006_2017179_to_2017212/MCD15A3H.006_FparExtra_QC_doy2017193_aid0001.tif',\n",
       " 'MCD15A3H.006_2017179_to_2017212/MCD15A3H.006_FparExtra_QC_doy2017197_aid0001.tif',\n",
       " 'MCD15A3H.006_2017179_to_2017212/MCD15A3H.006_FparExtra_QC_doy2017201_aid0001.tif',\n",
       " 'MCD15A3H.006_2017179_to_2017212/MCD15A3H.006_FparExtra_QC_doy2017205_aid0001.tif',\n",
       " 'MCD15A3H.006_2017179_to_2017212/MCD15A3H.006_FparExtra_QC_doy2017209_aid0001.tif',\n",
       " 'MOD11A2.061_2017175_to_2017212/MOD11A2.061_LST_Day_1km_doy2017177_aid0001.tif',\n",
       " 'MOD11A2.061_2017175_to_2017212/MOD11A2.061_LST_Day_1km_doy2017185_aid0001.tif',\n",
       " 'MOD11A2.061_2017175_to_2017212/MOD11A2.061_LST_Day_1km_doy2017193_aid0001.tif',\n",
       " 'MOD11A2.061_2017175_to_2017212/MOD11A2.061_LST_Day_1km_doy2017201_aid0001.tif',\n",
       " 'MOD11A2.061_2017175_to_2017212/MOD11A2.061_LST_Day_1km_doy2017209_aid0001.tif',\n",
       " 'MOD11A2.061_2017175_to_2017212/MOD11A2.061_LST_Night_1km_doy2017177_aid0001.tif',\n",
       " 'MOD11A2.061_2017175_to_2017212/MOD11A2.061_LST_Night_1km_doy2017185_aid0001.tif',\n",
       " 'MOD11A2.061_2017175_to_2017212/MOD11A2.061_LST_Night_1km_doy2017193_aid0001.tif',\n",
       " 'MOD11A2.061_2017175_to_2017212/MOD11A2.061_LST_Night_1km_doy2017201_aid0001.tif',\n",
       " 'MOD11A2.061_2017175_to_2017212/MOD11A2.061_LST_Night_1km_doy2017209_aid0001.tif',\n",
       " 'MOD11A2.061_2017175_to_2017212/MOD11A2.061_QC_Day_doy2017177_aid0001.tif',\n",
       " 'MOD11A2.061_2017175_to_2017212/MOD11A2.061_QC_Day_doy2017185_aid0001.tif',\n",
       " 'MOD11A2.061_2017175_to_2017212/MOD11A2.061_QC_Day_doy2017193_aid0001.tif',\n",
       " 'MOD11A2.061_2017175_to_2017212/MOD11A2.061_QC_Day_doy2017201_aid0001.tif',\n",
       " 'MOD11A2.061_2017175_to_2017212/MOD11A2.061_QC_Day_doy2017209_aid0001.tif',\n",
       " 'MOD11A2.061_2017175_to_2017212/MOD11A2.061_QC_Night_doy2017177_aid0001.tif',\n",
       " 'MOD11A2.061_2017175_to_2017212/MOD11A2.061_QC_Night_doy2017185_aid0001.tif',\n",
       " 'MOD11A2.061_2017175_to_2017212/MOD11A2.061_QC_Night_doy2017193_aid0001.tif',\n",
       " 'MOD11A2.061_2017175_to_2017212/MOD11A2.061_QC_Night_doy2017201_aid0001.tif',\n",
       " 'MOD11A2.061_2017175_to_2017212/MOD11A2.061_QC_Night_doy2017209_aid0001.tif',\n",
       " 'SRTMGL1_NC.003_2000001_to_2022126/SRTMGL1_NC.003_SRTMGL1_DEM_doy2000042_aid0001.tif',\n",
       " 'SRTMGL1_NUMNC.003_2000001_to_2022126/SRTMGL1_NUMNC.003_SRTMGL1_NUM_doy2000042_aid0001.tif',\n",
       " 'MCD15A3H-006-FparLai-QC-lookup.csv',\n",
       " 'MCD15A3H-006-FparExtra-QC-lookup.csv',\n",
       " 'MOD11A2-061-QC-Day-lookup.csv',\n",
       " 'MOD11A2-061-QC-Night-lookup.csv',\n",
       " 'SRTMGL1-NUMNC-003-SRTMGL1-NUM-lookup.csv',\n",
       " 'MCD15A3H-006-FparLai-QC-Statistics-QA.csv',\n",
       " 'MCD15A3H-006-FparExtra-QC-Statistics-QA.csv',\n",
       " 'MOD11A2-061-QC-Day-Statistics-QA.csv',\n",
       " 'MOD11A2-061-QC-Night-Statistics-QA.csv',\n",
       " 'SRTMGL1-NUMNC-003-SRTMGL1-NUM-Statistics-QA.csv',\n",
       " 'MCD15A3H-006-Statistics.csv',\n",
       " 'MOD11A2-061-Statistics.csv',\n",
       " 'SRTMGL1-NC-003-Statistics.csv',\n",
       " 'NPS-Vegetation-Area-granule-list.txt',\n",
       " 'NPS-Vegetation-Area-request.json',\n",
       " 'NPS-Vegetation-Area-MCD15A3H-006-metadata.xml',\n",
       " 'NPS-Vegetation-Area-MOD11A2-061-metadata.xml',\n",
       " 'NPS-Vegetation-Area-SRTMGL1-NC-003-metadata.xml',\n",
       " 'README.md']"
      ]
     },
     "execution_count": 40,
     "metadata": {},
     "output_type": "execute_result"
    }
   ],
   "source": [
    "# Import packages\n",
    "import matplotlib.pyplot as plt\n",
    "import numpy as np\n",
    "from osgeo import gdal\n",
    "list(files.values())  # List files downloaded"
   ]
  },
  {
   "attachments": {},
   "cell_type": "markdown",
   "metadata": {},
   "source": [
    "---\n",
    "## 6a. Import a GeoTIFF\n",
    "#### To perform the next step below, you will need to have [GDAL](http://www.gdal.org/) installed on your OS. Open the GeoTIFF file for the SRTM DEM, and read in as an array.\n"
   ]
  },
  {
   "cell_type": "code",
   "execution_count": null,
   "metadata": {},
   "outputs": [],
   "source": [
    "dem = gdal.Open(destDir + '/SRTMGL1_NC.003_SRTMGL1_DEM_doy2000042_aid0001.tif' ) # Read file in\n",
    "demBand = dem.GetRasterBand(1)                                          # Read the band (layer)\n",
    "demData = demBand.ReadAsArray().astype('float')                         # Import band as an array with type float"
   ]
  },
  {
   "attachments": {},
   "cell_type": "markdown",
   "metadata": {},
   "source": [
    "#### Next, query the metadata for the fill value, and set fill value equal to `nan`."
   ]
  },
  {
   "cell_type": "code",
   "execution_count": null,
   "metadata": {},
   "outputs": [],
   "source": [
    "demFill = demBand.GetNoDataValue()            # Returns fill value\n",
    "demData[demData == demFill] = np.nan          # Set fill value to nan"
   ]
  },
  {
   "attachments": {},
   "cell_type": "markdown",
   "metadata": {},
   "source": [
    "---\n",
    "## 6b. Plot a GeoTIFF\n",
    "#### In this section, begin by highlighting the functionality of the `matplotlib` plotting package.  "
   ]
  },
  {
   "cell_type": "code",
   "execution_count": null,
   "metadata": {},
   "outputs": [],
   "source": [
    "# Set matplotlib plots inline\n",
    "%matplotlib inline "
   ]
  },
  {
   "attachments": {},
   "cell_type": "markdown",
   "metadata": {},
   "source": [
    "#### First, make a basic plot of the DEM data."
   ]
  },
  {
   "cell_type": "code",
   "execution_count": null,
   "metadata": {},
   "outputs": [
    {
     "data": {
      "image/png": "[encoded data removed]",
      "text/plain": [
       "<Figure size 432x288 with 1 Axes>"
      ]
     },
     "metadata": {
      "needs_background": "light"
     },
     "output_type": "display_data"
    },
    {
     "data": {
      "image/png": "[encoded data removed]",
      "text/plain": [
       "<Figure size 432x288 with 1 Axes>"
      ]
     },
     "metadata": {
      "needs_background": "light"
     },
     "output_type": "display_data"
    }
   ],
   "source": [
    "plt.imshow(demData);  # Visualize a basic plot of the DEM data"
   ]
  },
  {
   "attachments": {},
   "cell_type": "markdown",
   "metadata": {},
   "source": [
    "#### Next, add some additional parameters to the plot."
   ]
  },
  {
   "cell_type": "code",
   "execution_count": null,
   "metadata": {},
   "outputs": [
    {
     "data": {
      "image/png": "[encoded data removed]",
      "text/plain": [
       "<Figure size 720x540 with 1 Axes>"
      ]
     },
     "metadata": {
      "needs_background": "light"
     },
     "output_type": "display_data"
    },
    {
     "data": {
      "image/png": "[encoded data removed]",
      "text/plain": [
       "<Figure size 720x540 with 1 Axes>"
      ]
     },
     "metadata": {
      "needs_background": "light"
     },
     "output_type": "display_data"
    }
   ],
   "source": [
    "import warnings\n",
    "warnings.filterwarnings(\"ignore\")\n",
    "\n",
    "fig = plt.figure(figsize = (10,7.5))  # Set the figure size (x,y)\n",
    "plt.axis('off')                       # Remove the axes' values\n",
    "ax = fig.add_subplot(111)             \n",
    "\n",
    "# Plot the array, using a colormap and setting a custom linear stretch based on the min/max Elevation values\n",
    "plt.imshow(demData, vmin = np.nanmin(demData), vmax = np.nanmax(demData), cmap = 'terrain');"
   ]
  },
  {
   "attachments": {},
   "cell_type": "markdown",
   "metadata": {},
   "source": [
    "#### Finally, add important map items including a legend and title."
   ]
  },
  {
   "cell_type": "code",
   "execution_count": null,
   "metadata": {},
   "outputs": [
    {
     "data": {
      "image/png": "[encoded data removed]",
      "text/plain": [
       "<Figure size 720x540 with 2 Axes>"
      ]
     },
     "metadata": {},
     "output_type": "display_data"
    },
    {
     "data": {
      "image/png": "[encoded data removed]",
      "text/plain": [
       "<Figure size 720x540 with 2 Axes>"
      ]
     },
     "metadata": {},
     "output_type": "display_data"
    }
   ],
   "source": [
    "plt.style.use(\"dark_background\")                                                       # Default to a black background\n",
    "fig2 = plt.figure(figsize=(10,7.5))                                                    # Set the figure size\n",
    "plt.axis('off')                                                                        # Remove the axes' values\n",
    "ax1 = fig2.add_subplot(111)                                                            # Make a subplot\n",
    "fig2.subplots_adjust(top=3.8)                                                          # Adjust spacing\n",
    "ax1.set_title('SRTM DEM: Grand Canyon NP',fontsize=15,fontweight='bold',color='white') # Add title\n",
    "\n",
    "# Plot the masked data, using a colormap and setting a custom linear stretch based on the min/max DEM values\n",
    "im = plt.imshow(demData, vmin = np.nanmin(demData), vmax = np.nanmax(demData), cmap = 'terrain');\n",
    "\n",
    "cb = plt.colorbar(im, orientation='horizontal', fraction=0.047, pad=0.004, shrink=0.6) # Add a colormap legend\n",
    "cb.set_label(label='Elevation (m)', color = 'white')                                   # Set Label and color\n",
    "cb.outline.set_edgecolor('white')                                                      # Set edge color"
   ]
  },
  {
   "attachments": {},
   "cell_type": "markdown",
   "metadata": {},
   "source": [
    "### This example can provide a template to use for your own research workflows. Leveraging the AρρEEARS API for searching, extracting, and formatting analysis ready data, and importing it directly into Python means that you can keep your entire research workflow in a single software program, from start to finish. "
   ]
  },
  {
   "attachments": {},
   "cell_type": "markdown",
   "metadata": {},
   "source": [
    "***\n",
    "<div class=\"alert alert-block alert-info\">\n",
    "<h1> Contact Information </h1>   \n",
    "    \n",
    "<h3> Material written by LP DAAC$^{1}$ </h3>  \n",
    "\n",
    "<b>Contact:</b> LPDAAC@usgs.gov    \n",
    "\n",
    "<b>Voice:</b> +1-605-594-6116    \n",
    "\n",
    "<b>Organization:</b> Land Processes Distributed Active Archive Center (LP DAAC)  \n",
    "\n",
    "<b>Website:</b> https://lpdaac.usgs.gov/  \n",
    "\n",
    "<b>Date last modified:</b> 05-06-2022    \n",
    "\n",
    "$^{1}$Innovate! Inc., contractor to the U.S. Geological Survey, Earth Resources Observation and Science (EROS) Center, Sioux Falls, South Dakota, 57198-001, USA. Work performed under USGS contract G15PD00467 for LP DAAC$^{2}$.\n",
    "\n",
    "$^{2}$LP DAAC Work performed under NASA contract NNG14HH33I. "
   ]
  }
 ],
 "metadata": {
  "kernelspec": {
   "display_name": "Python 3",
   "language": "python",
   "name": "python3"
  },
  "language_info": {
   "codemirror_mode": {
    "name": "ipython",
    "version": 3
   },
   "file_extension": ".py",
   "mimetype": "text/x-python",
   "name": "python",
   "nbconvert_exporter": "python",
   "pygments_lexer": "ipython3",
   "version": "3.9.16"
  }
 },
 "nbformat": 4,
 "nbformat_minor": 2
}
