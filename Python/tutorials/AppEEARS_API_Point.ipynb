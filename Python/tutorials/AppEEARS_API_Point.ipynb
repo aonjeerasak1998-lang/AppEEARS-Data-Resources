{
 "cells": [
  {
   "cell_type": "markdown",
   "metadata": {},
   "source": [
    "# Getting Started with the AρρEEARS API: Submitting and Downloading a Point Request\n",
    "### This tutorial demonstrates how to use Python to connect to the AρρEEARS API \n",
    "The Application for Extracting and Exploring Analysis Ready Samples ([AρρEEARS](https://appeears.earthdatacloud.nasa.gov/)) offers a simple and efficient way to access and transform geospatial data from a variety of federal data archives in an easy-to-use web application interface. AρρEEARS enables users to subset [geospatial data](https://appeears.earthdatacloud.nasa.gov/products) spatially, temporally, and by band/layer for point and area samples. AρρEEARS returns not only the requested data, but also the associated quality values, and offers interactive visualizations with summary statistics in the web interface.  The [AρρEEARS API](https://appeears.earthdatacloud.nasa.gov/api/) offers users **programmatic access** to all features available in AρρEEARS, with the exception of visualizations. The API features are demonstrated in this notebook.  \n",
    "***\n",
    "### Example: Submit a point request with multiple points in U.S. National Parks for extracting vegetation and land surface temperature data    \n",
    "Connect to the AρρEEARS API, query the list of available products, submit a point sample request, download the request, become familiar with the AρρEEARS Quality API, and import the results into Python for visualization.  AρρEEARS point requests allow users to subset their desired data using latitude/longitude geographic coordinate pairs (points) for a time period of interest, and for specific data layers within data products. AρρEEARS returns the valid data from the parameters defined within the sample request.  \n",
    "\n",
    "#### Data Used in the Example: \n",
    "- Data layers: \n",
    "    - Combined MODIS Leaf Area Index (LAI)  \n",
    "        - [MCD15A3H.006](https://doi.org/10.5067/MODIS/MCD15A3H.006), 500m, 4 day: 'Lai_500m'      \n",
    "    - Terra MODIS Land Surface Temperature    \n",
    "        - [MOD11A2.061](https://doi.org/10.5067/MODIS/MOD11A2.061), 1000m, 8 day: 'LST_Day_1km', 'LST_Night_1km'       \n",
    "***  \n",
    "# Topics Covered:\n",
    "1. **Getting Started**  \n",
    "    1a. Set Up the Working Environment  \n",
    "    1b. Login [Login]    \n",
    "2. **Query Available Products [Products API]**  \n",
    "    2a. Search and Explore Available Products [List Products]  \n",
    "    2b. Search and Explore Available Layers [List Layers]      \n",
    "3. **Submit a Point Request [Tasks]**  \n",
    "    3a. Compile a JSON [Task Object]  \n",
    "    3b. Submit a Task Request [Submit Task]  \n",
    "    3c. Retrieve Task Status [Retrieve Task]  \n",
    "4. **Download a Request [Bundle API]**    \n",
    "    4a. Explore Files in Request Output [List Files]    \n",
    "    4b. Download Files in a Request (Automation) [Download File]   \n",
    "5. **Explore AρρEEARS Quality API [Quality API]**  \n",
    "    5a. List Quality Layers [List Quality Layers]    \n",
    "    5b. Show Quality Values [List Quality Values]   \n",
    "    5c. Decode Quality Values [Decode Quality Values]   \n",
    "6. **BONUS: Import Request Output and Visualize**    \n",
    "    6a. Import CSV     \n",
    "    6b. Plot Results (Line/Scatter Plots)  \n",
    "***\n",
    "### Dependencies:\n",
    "- This tutorial was tested using Python 3.6.1.  \n",
    "- A [NASA Earthdata Login](https://urs.earthdata.nasa.gov/) account is required to complete this tutorial. You can create an account at the link provided.    \n",
    "***\n",
    "### AρρEEARS Information:\n",
    "To access AρρEEARS, visit: https://appeears.earthdatacloud.nasa.gov/ \n",
    "> For comprehensive documentation of the full functionality of the AρρEEARS API, please see the AρρEEARS [API Documentation](https://appeears.earthdatacloud.nasa.gov/api/).   \n",
    "  \n",
    "Throughout the tutorial, specific sections of the API documentation can be accessed by clicking on the bracketed [] links in the section headings. \n",
    "\n",
    "***\n",
    "### Source Code used to Generate this Tutorial:\n",
    "- [Jupyter Notebook](https://git.earthdata.nasa.gov/projects/LPDUR/repos/appeears-api-getting-started/browse/AppEEARS_API_Point.ipynb) "
   ]
  },
  {
   "cell_type": "markdown",
   "metadata": {},
   "source": [
    "***"
   ]
  },
  {
   "cell_type": "markdown",
   "metadata": {},
   "source": [
    "# 1. Getting Started "
   ]
  },
  {
   "cell_type": "markdown",
   "metadata": {},
   "source": [
    "***\n",
    "## 1a. Set Up the Working Environment\n",
    "#### Import the required packages and set the input/working directory."
   ]
  },
  {
   "cell_type": "code",
   "execution_count": 1,
   "metadata": {},
   "outputs": [],
   "source": [
    "# Import packages\n",
    "import requests as r\n",
    "import getpass, pprint, time, os, cgi"
   ]
  },
  {
   "cell_type": "markdown",
   "metadata": {},
   "source": [
    "#### If you are missing any of the packages above, download them in order to use the full functionality of this tutorial. "
   ]
  },
  {
   "cell_type": "code",
   "execution_count": 2,
   "metadata": {},
   "outputs": [],
   "source": [
    "# Set input directory, change working directory\n",
    "inDir = 'D:/appeears-api-getting-started/'           # IMPORTANT: Update to reflect directory on your OS\n",
    "os.chdir(inDir)                                      # Change to working directory\n",
    "api = 'https://appeears.earthdatacloud.nasa.gov/api/'  # Set the AρρEEARS API to a variable"
   ]
  },
  {
   "cell_type": "markdown",
   "metadata": {},
   "source": [
    "<div class=\"alert alert-block alert-warning\" >\n",
    "<b>If you plan to execute this tutorial on your own OS, `inDir` above needs to be changed.</b>\n",
    "</div> "
   ]
  },
  {
   "cell_type": "markdown",
   "metadata": {},
   "source": [
    "***\n",
    "## 1b. Login [[Login](https://appeears.earthdatacloud.nasa.gov/api/#login)]\n",
    "#### To submit a request, you must first login to the AρρEEARS API. Use the `getpass` package to enter your NASA Earthdata login **Username** and **Password**. When prompted after executing the code block below, enter your username followed by your password."
   ]
  },
  {
   "cell_type": "code",
   "execution_count": 3,
   "metadata": {},
   "outputs": [
    {
     "name": "stdout",
     "output_type": "stream",
     "text": [
      "Enter NASA Earthdata Login Username: ········\n",
      "Enter NASA Earthdata Login Password: ········\n"
     ]
    }
   ],
   "source": [
    "user = getpass.getpass(prompt = 'Enter NASA Earthdata Login Username: ')      # Input NASA Earthdata Login Username\n",
    "password = getpass.getpass(prompt = 'Enter NASA Earthdata Login Password: ')  # Input NASA Earthdata Login Password"
   ]
  },
  {
   "cell_type": "markdown",
   "metadata": {},
   "source": [
    "#### Use the `requests` package to post your username and password. A successful login will provide you with a token to be used later in this tutorial to submit a request. For more information or if you are experiencing difficulties, please see the [API Documentation](https://lpdaacsvc.cr.usgs.gov/appeears/api/?language=Python%203#login). "
   ]
  },
  {
   "cell_type": "code",
   "execution_count": 4,
   "metadata": {},
   "outputs": [
    {
     "data": {
      "text/plain": [
       "{'token_type': 'Bearer',\n",
       " 'token': 'ecXFFASPIWu_ESd_8B429AZCBFsPLXuOo8M9kCC8Jcqait7AiSQXh4-WGYhwJqaePqPVPhw5FbADMiVYOxM_vA',\n",
       " 'expiration': '2022-05-06T19:29:39Z'}"
      ]
     },
     "execution_count": 4,
     "metadata": {},
     "output_type": "execute_result"
    }
   ],
   "source": [
    "token_response = r.post('{}login'.format(api), auth=(user, password)).json() # Insert API URL, call login service, provide credentials & return json\n",
    "del user, password                                                           # Remove user and password information\n",
    "token_response                                                               # Print response"
   ]
  },
  {
   "cell_type": "markdown",
   "metadata": {},
   "source": [
    "#### Above, you should see a Bearer token. Notice that this token will expire approximately 48 hours after being acquired. \n",
    "***\n",
    "# 2. Query Available Products [[Product API](https://appeears.earthdatacloud.nasa.gov/api/#product)]\n",
    "## 2a. Search and Explore Available Products [[List Products](https://appeears.earthdatacloud.nasa.gov/api/#list-products)]\n",
    "#### The product API provides details about all of the products and layers available in AρρEEARS. Below, call the product API to list all of the products available in AρρEEARS."
   ]
  },
  {
   "cell_type": "code",
   "execution_count": 5,
   "metadata": {},
   "outputs": [
    {
     "name": "stdout",
     "output_type": "stream",
     "text": [
      "AρρEEARS currently supports 155 products.\n"
     ]
    }
   ],
   "source": [
    "product_response = r.get('{}product'.format(api)).json()                         # request all products in the product service\n",
    "print('AρρEEARS currently supports {} products.'.format(len(product_response)))  # Print no. products available in AρρEEARS"
   ]
  },
  {
   "cell_type": "markdown",
   "metadata": {},
   "source": [
    "#### Next, create a dictionary indexed by product name, making it easier to query a specific product."
   ]
  },
  {
   "cell_type": "code",
   "execution_count": 6,
   "metadata": {},
   "outputs": [
    {
     "data": {
      "text/plain": [
       "{'Product': 'MCD15A3H',\n",
       " 'Platform': 'Combined MODIS',\n",
       " 'Description': 'Leaf Area Index (LAI) and Fraction of Photosynthetically Active Radiation (FPAR)',\n",
       " 'RasterType': 'Tile',\n",
       " 'Resolution': '500m',\n",
       " 'TemporalGranularity': '4 day',\n",
       " 'Version': '006',\n",
       " 'Available': True,\n",
       " 'DocLink': 'https://doi.org/10.5067/MODIS/MCD15A3H.006',\n",
       " 'Source': 'LP DAAC',\n",
       " 'TemporalExtentStart': '2002-07-04',\n",
       " 'TemporalExtentEnd': 'Present',\n",
       " 'Deleted': False,\n",
       " 'DOI': '10.5067/MODIS/MCD15A3H.006',\n",
       " 'ProductAndVersion': 'MCD15A3H.006'}"
      ]
     },
     "execution_count": 6,
     "metadata": {},
     "output_type": "execute_result"
    }
   ],
   "source": [
    "products = {p['ProductAndVersion']: p for p in product_response} # Create a dictionary indexed by product name & version\n",
    "products['MCD15A3H.006']                                         # Print information for MCD15A3H.006 LAI/FPAR Product"
   ]
  },
  {
   "cell_type": "markdown",
   "metadata": {},
   "source": [
    "#### The product service provides many useful details, including if a product is currently available in AρρEEARS, a description, and information on the spatial and temporal resolution. "
   ]
  },
  {
   "cell_type": "markdown",
   "metadata": {},
   "source": [
    "#### Below, make a list of all product+version names, and search for products containing *Leaf Area Index* in their description. "
   ]
  },
  {
   "cell_type": "code",
   "execution_count": 7,
   "metadata": {},
   "outputs": [
    {
     "name": "stdout",
     "output_type": "stream",
     "text": [
      "{'Available': True,\n",
      " 'DOI': '10.5067/MODIS/MCD15A3H.006',\n",
      " 'Deleted': False,\n",
      " 'Description': 'Leaf Area Index (LAI) and Fraction of Photosynthetically '\n",
      "                'Active Radiation (FPAR)',\n",
      " 'DocLink': 'https://doi.org/10.5067/MODIS/MCD15A3H.006',\n",
      " 'Platform': 'Combined MODIS',\n",
      " 'Product': 'MCD15A3H',\n",
      " 'ProductAndVersion': 'MCD15A3H.006',\n",
      " 'RasterType': 'Tile',\n",
      " 'Resolution': '500m',\n",
      " 'Source': 'LP DAAC',\n",
      " 'TemporalExtentEnd': 'Present',\n",
      " 'TemporalExtentStart': '2002-07-04',\n",
      " 'TemporalGranularity': '4 day',\n",
      " 'Version': '006'}\n",
      "{'Available': True,\n",
      " 'DOI': '10.5067/MODIS/MCD15A2H.006',\n",
      " 'Deleted': False,\n",
      " 'Description': 'Leaf Area Index (LAI) and Fraction of Photosynthetically '\n",
      "                'Active Radiation (FPAR)',\n",
      " 'DocLink': 'https://doi.org/10.5067/MODIS/MCD15A2H.006',\n",
      " 'Platform': 'Combined MODIS',\n",
      " 'Product': 'MCD15A2H',\n",
      " 'ProductAndVersion': 'MCD15A2H.006',\n",
      " 'RasterType': 'Tile',\n",
      " 'Resolution': '500m',\n",
      " 'Source': 'LP DAAC',\n",
      " 'TemporalExtentEnd': 'Present',\n",
      " 'TemporalExtentStart': '2002-07-04',\n",
      " 'TemporalGranularity': '8 day',\n",
      " 'Version': '006'}\n",
      "{'Available': True,\n",
      " 'DOI': '10.5067/MODIS/MYD15A2H.061',\n",
      " 'Deleted': False,\n",
      " 'Description': 'Leaf Area Index (LAI) and Fraction of Photosynthetically '\n",
      "                'Active Radiation (FPAR)',\n",
      " 'DocLink': 'https://doi.org/10.5067/MODIS/MYD15A2H.061',\n",
      " 'Platform': 'Aqua MODIS',\n",
      " 'Product': 'MYD15A2H',\n",
      " 'ProductAndVersion': 'MYD15A2H.061',\n",
      " 'RasterType': 'Tile',\n",
      " 'Resolution': '500m',\n",
      " 'Source': 'LP DAAC',\n",
      " 'TemporalExtentEnd': 'Present',\n",
      " 'TemporalExtentStart': '2002-07-04',\n",
      " 'TemporalGranularity': '8 day',\n",
      " 'Version': '061'}\n",
      "{'Available': True,\n",
      " 'DOI': '10.5067/MODIS/MOD15A2H.006',\n",
      " 'Deleted': False,\n",
      " 'Description': 'Leaf Area Index (LAI) and Fraction of Photosynthetically '\n",
      "                'Active Radiation (FPAR)',\n",
      " 'DocLink': 'https://doi.org/10.5067/MODIS/MOD15A2H.006',\n",
      " 'Platform': 'Terra MODIS',\n",
      " 'Product': 'MOD15A2H',\n",
      " 'ProductAndVersion': 'MOD15A2H.006',\n",
      " 'RasterType': 'Tile',\n",
      " 'Resolution': '500m',\n",
      " 'Source': 'LP DAAC',\n",
      " 'TemporalExtentEnd': 'Present',\n",
      " 'TemporalExtentStart': '2000-02-18',\n",
      " 'TemporalGranularity': '8 day',\n",
      " 'Version': '006'}\n",
      "{'Available': True,\n",
      " 'DOI': '10.5067/VIIRS/VNP15A2H.001',\n",
      " 'Deleted': False,\n",
      " 'Description': 'Leaf Area Index (LAI) and Fraction of Photosynthetically '\n",
      "                'Active Radiation (FPAR)',\n",
      " 'DocLink': 'https://doi.org/10.5067/viirs/vnp15a2h.001',\n",
      " 'Platform': 'S-NPP NASA VIIRS',\n",
      " 'Product': 'VNP15A2H',\n",
      " 'ProductAndVersion': 'VNP15A2H.001',\n",
      " 'RasterType': 'Tile',\n",
      " 'Resolution': '500m',\n",
      " 'Source': 'LP DAAC',\n",
      " 'TemporalExtentEnd': 'Present',\n",
      " 'TemporalExtentStart': '2012-01-19',\n",
      " 'TemporalGranularity': '8 day',\n",
      " 'Version': '001'}\n",
      "{'Available': True,\n",
      " 'DOI': '10.5067/MODIS/MYD15A2H.006',\n",
      " 'Deleted': False,\n",
      " 'Description': 'Leaf Area Index (LAI) and Fraction of Photosynthetically '\n",
      "                'Active Radiation (FPAR)',\n",
      " 'DocLink': 'https://doi.org/10.5067/MODIS/MYD15A2H.006',\n",
      " 'Platform': 'Aqua MODIS',\n",
      " 'Product': 'MYD15A2H',\n",
      " 'ProductAndVersion': 'MYD15A2H.006',\n",
      " 'RasterType': 'Tile',\n",
      " 'Resolution': '500m',\n",
      " 'Source': 'LP DAAC',\n",
      " 'TemporalExtentEnd': 'Present',\n",
      " 'TemporalExtentStart': '2002-07-04',\n",
      " 'TemporalGranularity': '8 day',\n",
      " 'Version': '006'}\n",
      "{'Available': True,\n",
      " 'DOI': '10.5067/MODIS/MOD15A2H.061',\n",
      " 'Deleted': False,\n",
      " 'Description': 'Leaf Area Index (LAI) and Fraction of Photosynthetically '\n",
      "                'Active Radiation (FPAR)',\n",
      " 'DocLink': 'https://doi.org/10.5067/MODIS/MOD15A2H.061',\n",
      " 'Platform': 'Terra MODIS',\n",
      " 'Product': 'MOD15A2H',\n",
      " 'ProductAndVersion': 'MOD15A2H.061',\n",
      " 'RasterType': 'Tile',\n",
      " 'Resolution': '500m',\n",
      " 'Source': 'LP DAAC',\n",
      " 'TemporalExtentEnd': 'Present',\n",
      " 'TemporalExtentStart': '2000-02-18',\n",
      " 'TemporalGranularity': '8 day',\n",
      " 'Version': '061'}\n"
     ]
    }
   ],
   "source": [
    "prodNames = {p['ProductAndVersion'] for p in product_response} # Make list of all products (including version)\n",
    "for p in prodNames:                                            # Make for loop to search list of products 'Description' for a keyword                \n",
    "    if 'Leaf Area Index' in products[p]['Description']:\n",
    "        pprint.pprint(products[p])                             # Print info for each product containing LAI in its description"
   ]
  },
  {
   "cell_type": "markdown",
   "metadata": {},
   "source": [
    "#### Using the info above, start a list of desired products by using the highest temporal resolution LAI product, `MCD15A3H.006`.  "
   ]
  },
  {
   "cell_type": "code",
   "execution_count": 8,
   "metadata": {},
   "outputs": [
    {
     "data": {
      "text/plain": [
       "['MCD15A3H.006', 'MOD11A2.061']"
      ]
     },
     "execution_count": 8,
     "metadata": {},
     "output_type": "execute_result"
    }
   ],
   "source": [
    "prods = ['MCD15A3H.006']     # Start a list for products to be requested, beginning with MCD15A3H.006\n",
    "prods.append('MOD11A2.061')  # Append MOD11A2.061 8 day LST product to the list of products desired\n",
    "prods                        # Print list "
   ]
  },
  {
   "cell_type": "markdown",
   "metadata": {},
   "source": [
    "***\n",
    "# 2b. Search and Explore Available Layers [[List Layers](https://appeears.earthdatacloud.nasa.gov/api/#list-layers)]\n",
    "#### The product API allows you to call all of the layers available for a given product. Each product is referenced by its `ProductAndVersion` property. For a list of the layer names only, print the keys from the dictionary below. "
   ]
  },
  {
   "cell_type": "code",
   "execution_count": 9,
   "metadata": {},
   "outputs": [
    {
     "data": {
      "text/plain": [
       "['Clear_sky_days',\n",
       " 'Clear_sky_nights',\n",
       " 'Day_view_angl',\n",
       " 'Day_view_time',\n",
       " 'Emis_31',\n",
       " 'Emis_32',\n",
       " 'LST_Day_1km',\n",
       " 'LST_Night_1km',\n",
       " 'Night_view_angl',\n",
       " 'Night_view_time',\n",
       " 'QC_Day',\n",
       " 'QC_Night']"
      ]
     },
     "execution_count": 9,
     "metadata": {},
     "output_type": "execute_result"
    }
   ],
   "source": [
    "lst_response = r.get('{}product/{}'.format(api, prods[1])).json()  # Request layers for the 2nd product (index 1) in the list: MOD11A2.061\n",
    "list(lst_response.keys())"
   ]
  },
  {
   "cell_type": "markdown",
   "metadata": {},
   "source": [
    "#### Use the dictionary key `'LST_Day_1km'` to see the information for that layer in the response."
   ]
  },
  {
   "cell_type": "code",
   "execution_count": 10,
   "metadata": {},
   "outputs": [
    {
     "data": {
      "text/plain": [
       "{'AddOffset': 0.0,\n",
       " 'Available': True,\n",
       " 'DataType': 'float32',\n",
       " 'Description': 'Day Land Surface Temperature',\n",
       " 'Dimensions': ['time', 'YDim', 'XDim'],\n",
       " 'FillValue': 0,\n",
       " 'IsQA': False,\n",
       " 'Layer': 'LST_Day_1km',\n",
       " 'OrigDataType': 'uint16',\n",
       " 'OrigValidMax': 65535,\n",
       " 'OrigValidMin': 7500,\n",
       " 'QualityLayers': \"['QC_Day']\",\n",
       " 'QualityProductAndVersion': 'MOD11A2.061',\n",
       " 'ScaleFactor': 0.02,\n",
       " 'Units': 'Kelvin',\n",
       " 'ValidMax': 1310.699951,\n",
       " 'ValidMin': 150.0,\n",
       " 'XSize': 1200,\n",
       " 'YSize': 1200}"
      ]
     },
     "execution_count": 10,
     "metadata": {},
     "output_type": "execute_result"
    }
   ],
   "source": [
    "lst_response['LST_Day_1km'] # Print layer response"
   ]
  },
  {
   "cell_type": "markdown",
   "metadata": {},
   "source": [
    "#### AρρEEARS also allows subsetting data spectrally (by band). Create a tupled list with product name and specific layers desired. "
   ]
  },
  {
   "cell_type": "code",
   "execution_count": 11,
   "metadata": {},
   "outputs": [],
   "source": [
    "layers = [(prods[1],'LST_Day_1km'),(prods[1],'LST_Night_1km')]  # Create tupled list linking desired product with desired layers"
   ]
  },
  {
   "cell_type": "markdown",
   "metadata": {},
   "source": [
    "#### Next, request the layers for the `MCD15A3H.006` product."
   ]
  },
  {
   "cell_type": "code",
   "execution_count": 12,
   "metadata": {},
   "outputs": [
    {
     "data": {
      "text/plain": [
       "['FparExtra_QC',\n",
       " 'FparLai_QC',\n",
       " 'FparStdDev_500m',\n",
       " 'Fpar_500m',\n",
       " 'LaiStdDev_500m',\n",
       " 'Lai_500m']"
      ]
     },
     "execution_count": 12,
     "metadata": {},
     "output_type": "execute_result"
    }
   ],
   "source": [
    "lai_response = r.get('{}product/{}'.format(api, prods[0])).json()  # Request layers for the 1st product (index 0) in the list: MCD15A3H.006\n",
    "list(lai_response.keys())                                          # Print the LAI layer names "
   ]
  },
  {
   "cell_type": "code",
   "execution_count": 13,
   "metadata": {},
   "outputs": [
    {
     "data": {
      "text/plain": [
       "'Leaf area index'"
      ]
     },
     "execution_count": 13,
     "metadata": {},
     "output_type": "execute_result"
    }
   ],
   "source": [
    "lai_response['Lai_500m']['Description']  # Make sure the correct layer is requested"
   ]
  },
  {
   "cell_type": "markdown",
   "metadata": {},
   "source": [
    "#### Above, `Lai_500m` is the desired layer within the `MCD15A3h.006` product. \n",
    "#### Next, append `Lai_500m` to the tupled list of desired product/layers. "
   ]
  },
  {
   "cell_type": "code",
   "execution_count": 14,
   "metadata": {},
   "outputs": [],
   "source": [
    "layers.append((prods[0],'Lai_500m')) # Append to tupled list linking desired product with desired layers"
   ]
  },
  {
   "cell_type": "markdown",
   "metadata": {},
   "source": [
    "#### Below, take the tupled list (layers) and create a list of dictionaries to store each layer+product combination. This will make it easier to insert into the json file used to submit a request in Section 3. "
   ]
  },
  {
   "cell_type": "code",
   "execution_count": 15,
   "metadata": {},
   "outputs": [
    {
     "data": {
      "text/plain": [
       "[{'layer': 'LST_Day_1km', 'product': 'MOD11A2.061'},\n",
       " {'layer': 'LST_Night_1km', 'product': 'MOD11A2.061'},\n",
       " {'layer': 'Lai_500m', 'product': 'MCD15A3H.006'}]"
      ]
     },
     "execution_count": 15,
     "metadata": {},
     "output_type": "execute_result"
    }
   ],
   "source": [
    "prodLayer = []\n",
    "for l in layers:\n",
    "    prodLayer.append({\n",
    "            \"layer\": l[1],\n",
    "            \"product\": l[0]\n",
    "          })\n",
    "prodLayer"
   ]
  },
  {
   "cell_type": "markdown",
   "metadata": {},
   "source": [
    "***\n",
    "# 3. Submit a Point Request [[List Layers](https://appeears.earthdatacloud.nasa.gov/api/#list-layers)]\n",
    "#### The **Submit task** API call provides a way to submit a new request to be processed. It can accept data via JSON, query string, or a combination of both. In the example below, compile a json and submit a request. Tasks in AρρEEARS correspond to each request associated with your user account. Therefore, each of the calls to this service requires an authentication token (see Section 1c.), which is stored in a header below. "
   ]
  },
  {
   "cell_type": "code",
   "execution_count": 16,
   "metadata": {},
   "outputs": [],
   "source": [
    "token = token_response['token']                      # Save login token to a variable\n",
    "head = {'Authorization': 'Bearer {}'.format(token)}  # Create a header to store token information, needed to submit request"
   ]
  },
  {
   "cell_type": "markdown",
   "metadata": {},
   "source": [
    "---\n",
    "## 3a. Compile a JSON [[Task Object](https://appeears.earthdatacloud.nasa.gov/api/#task-object)]\n",
    "#### In this section, begin by setting up the information needed to compile an acceptable json for submitting an AρρEEARS point request. For detailed information on required json parameters, see the [API Documentation](https://appeears.earthdatacloud.nasa.gov/api/#tasks). "
   ]
  },
  {
   "cell_type": "code",
   "execution_count": 17,
   "metadata": {},
   "outputs": [
    {
     "name": "stdout",
     "output_type": "stream",
     "text": [
      "Enter a Task Name: NPS Vegetation\n"
     ]
    }
   ],
   "source": [
    "task_name = input('Enter a Task Name: ') # User-defined name of the task 'NPS Vegetation' used here"
   ]
  },
  {
   "cell_type": "code",
   "execution_count": 18,
   "metadata": {},
   "outputs": [],
   "source": [
    "task_type = ['point','area']  # Type of task, area or  point\n",
    "startDate = '01-01-2017'      # Start of the date range for  which to extract data: MM-DD-YYYY\n",
    "endDate = '12-31-2017'        # End of the date range for  which to extract data: MM-DD-YYYY\n",
    "recurring = False             # Specify True for a recurring date range\n",
    "#yearRange = [2000,2016]    # If recurring = True, set yearRange, change start/end date to MM-DD"
   ]
  },
  {
   "cell_type": "markdown",
   "metadata": {},
   "source": [
    "#### For point requests, the coordinates property must also be inside the task object. Below, define a GeoJSON object containing the latitude and longitude (geographic projection) points desired. Optionally, set `id` and `category` properties to further identify your selected coordinates.\n"
   ]
  },
  {
   "cell_type": "code",
   "execution_count": 19,
   "metadata": {},
   "outputs": [],
   "source": [
    "coordinates = [{\n",
    "        \"id\": \"0\",\n",
    "        \"longitude\": \"-112.127134\",\n",
    "        \"latitude\": \"36.206228\",\n",
    "        \"category\": \"Grand Canyon\"\n",
    "        }, {\n",
    "        \"id\": \"1\", \n",
    "        \"longitude\": \"-112.973760\",\n",
    "        \"latitude\": \"37.289327\",\n",
    "        \"category\": \"Zion\"\n",
    "        }]"
   ]
  },
  {
   "cell_type": "markdown",
   "metadata": {},
   "source": [
    "#### Finally, compile the JSON to be submitted as a point request, inserting additional parameters needed to complete the request."
   ]
  },
  {
   "cell_type": "code",
   "execution_count": 20,
   "metadata": {},
   "outputs": [
    {
     "name": "stdout",
     "output_type": "stream",
     "text": [
      "{'params': {'coordinates': [{'category': 'Grand Canyon',\n",
      "                             'id': '0',\n",
      "                             'latitude': '36.206228',\n",
      "                             'longitude': '-112.127134'},\n",
      "                            {'category': 'Zion',\n",
      "                             'id': '1',\n",
      "                             'latitude': '37.289327',\n",
      "                             'longitude': '-112.973760'}],\n",
      "            'dates': [{'endDate': '12-31-2017', 'startDate': '01-01-2017'}],\n",
      "            'layers': [{'layer': 'LST_Day_1km', 'product': 'MOD11A2.061'},\n",
      "                       {'layer': 'LST_Night_1km', 'product': 'MOD11A2.061'},\n",
      "                       {'layer': 'Lai_500m', 'product': 'MCD15A3H.006'}]},\n",
      " 'task_name': 'NPS Vegetation',\n",
      " 'task_type': 'point'}\n"
     ]
    }
   ],
   "source": [
    "task = {\n",
    "    'task_type': task_type[0],\n",
    "    'task_name': task_name,\n",
    "    'params': {\n",
    "         'dates': [\n",
    "         {\n",
    "             'startDate': startDate,\n",
    "             'endDate': endDate\n",
    "         }],\n",
    "         'layers': prodLayer,\n",
    "         'coordinates': coordinates\n",
    "    }\n",
    "}\n",
    "pprint.pprint(task)"
   ]
  },
  {
   "cell_type": "markdown",
   "metadata": {},
   "source": [
    "***\n",
    "## 3b. Submit a Task Request [[Submit Task](https://appeears.earthdatacloud.nasa.gov/api/#submit-task)]\n",
    "#### Below, post a call to the API **task service**, using the `task` json created above."
   ]
  },
  {
   "cell_type": "code",
   "execution_count": 21,
   "metadata": {},
   "outputs": [
    {
     "data": {
      "text/plain": [
       "{'task_id': '6df85a10-911e-4483-81b0-fdcef8c94602', 'status': 'pending'}"
      ]
     },
     "execution_count": 21,
     "metadata": {},
     "output_type": "execute_result"
    }
   ],
   "source": [
    "task_response = r.post('{}task'.format(api), json=task, headers=head).json()  # Post json to API task service, return response as json\n",
    "task_response                                                                 # Print task response"
   ]
  },
  {
   "cell_type": "markdown",
   "metadata": {},
   "source": [
    "***\n",
    "## 3c. Retrieve Task Status [[Retrieve Task](https://appeears.earthdatacloud.nasa.gov/api/#retrieve-task)]\n",
    "#### This API call will list all of the requests associated with your user account, automatically sorted by date descending with the most recent requests listed first. "
   ]
  },
  {
   "cell_type": "markdown",
   "metadata": {},
   "source": [
    "#### The AρρEEARS API contains some helpful formatting resources. Below, limit the API response to 2 entries and set `pretty` to True to format the response as an organized json, making it easier to read. Additional information on AρρEEARS API [pagination](https://appeears.earthdatacloud.nasa.gov/api/#pagination) and [formatting](https://appeears.earthdatacloud.nasa.gov/api/#formatting) can be found in the API documentation. "
   ]
  },
  {
   "cell_type": "code",
   "execution_count": 22,
   "metadata": {},
   "outputs": [],
   "source": [
    "params = {'limit': 2, 'pretty': True} # Limit API response to 2 most recent entries, return as pretty json"
   ]
  },
  {
   "cell_type": "code",
   "execution_count": 23,
   "metadata": {},
   "outputs": [
    {
     "data": {
      "text/plain": [
       "[{'params': {'dates': [{'endDate': '12-31-2017', 'startDate': '01-01-2017'}],\n",
       "   'layers': [{'layer': 'LST_Day_1km', 'product': 'MOD11A2.061'},\n",
       "    {'layer': 'LST_Night_1km', 'product': 'MOD11A2.061'},\n",
       "    {'layer': 'Lai_500m', 'product': 'MCD15A3H.006'}]},\n",
       "  'status': 'pending',\n",
       "  'created': '2022-05-06T18:22:10.383951',\n",
       "  'task_id': '6df85a10-911e-4483-81b0-fdcef8c94602',\n",
       "  'updated': '2022-05-06T18:22:10.571384',\n",
       "  'user_id': 'user@email.com',\n",
       "  'estimate': {'request_size': 272},\n",
       "  'has_swath': False,\n",
       "  'task_name': 'NPS Vegetation',\n",
       "  'task_type': 'point',\n",
       "  'api_version': 'v1',\n",
       "  'svc_version': '3.2.1',\n",
       "  'web_version': None,\n",
       "  'has_nsidc_daac': False,\n",
       "  'expires_on': '2022-06-05T18:22:10.571384'},\n",
       " {'params': {'dates': [{'endDate': '07-31-2017', 'startDate': '07-01-2017'}],\n",
       "   'layers': [{'layer': 'LST_Day_1km', 'product': 'MOD11A2.061'},\n",
       "    {'layer': 'LST_Night_1km', 'product': 'MOD11A2.061'},\n",
       "    {'layer': 'Lai_500m', 'product': 'MCD15A3H.006'},\n",
       "    {'layer': 'SRTMGL1_DEM', 'product': 'SRTMGL1_NC.003'}],\n",
       "   'output': {'format': {'type': 'geotiff'}, 'projection': 'geographic'}},\n",
       "  'status': 'pending',\n",
       "  'created': '2022-05-06T18:21:00.769083',\n",
       "  'task_id': 'ede0d7c3-4887-4cdc-8f49-458008862aaf',\n",
       "  'updated': '2022-05-06T18:21:11.961486',\n",
       "  'user_id': 'user@email.com',\n",
       "  'estimate': {'request_size': 196969757.51610893},\n",
       "  'has_swath': False,\n",
       "  'task_name': 'NPS Vegetation Area',\n",
       "  'task_type': 'area',\n",
       "  'api_version': 'v1',\n",
       "  'svc_version': '3.2.1',\n",
       "  'web_version': None,\n",
       "  'has_nsidc_daac': False,\n",
       "  'expires_on': '2022-06-05T18:21:11.961486'}]"
      ]
     },
     "execution_count": 23,
     "metadata": {},
     "output_type": "execute_result"
    }
   ],
   "source": [
    "tasks_response = r.get('{}task'.format(api),params = params, headers=head).json() # Query task service setting params & header\n",
    "tasks_response                                                                    # Print tasks response"
   ]
  },
  {
   "cell_type": "markdown",
   "metadata": {},
   "source": [
    "#### Next, take the task id returned from the `task_response` that was generated when submitting your request, and use the AρρEEARS API **status service** to check the status of your request."
   ]
  },
  {
   "cell_type": "code",
   "execution_count": 24,
   "metadata": {},
   "outputs": [
    {
     "data": {
      "text/plain": [
       "{'task_id': '6df85a10-911e-4483-81b0-fdcef8c94602',\n",
       " 'status': 'pending',\n",
       " 'user_id': 'user@email.com',\n",
       " 'updated': '2022-05-06T18:22:10.571384',\n",
       " 'status_type': 'task'}"
      ]
     },
     "execution_count": 24,
     "metadata": {},
     "output_type": "execute_result"
    }
   ],
   "source": [
    "task_id = task_response['task_id']                                               # Set task id from request submission\n",
    "status_response = r.get('{}status/{}'.format(api, task_id), headers=head).json() # Call status service w/ specific task ID & username\n",
    "status_response                                                                  # Print response"
   ]
  },
  {
   "cell_type": "markdown",
   "metadata": {},
   "source": [
    "#### Above, if your request is still processing, you can find information on the status of how close it is to completing. \n",
    "#### Below, call the task service for your request every 20 seconds to check the status of your request."
   ]
  },
  {
   "cell_type": "code",
   "execution_count": 25,
   "metadata": {},
   "outputs": [
    {
     "name": "stdout",
     "output_type": "stream",
     "text": [
      "pending\n",
      "pending\n",
      "pending\n",
      "pending\n",
      "pending\n",
      "pending\n",
      "pending\n",
      "pending\n",
      "pending\n",
      "pending\n",
      "pending\n",
      "pending\n",
      "pending\n",
      "pending\n",
      "pending\n",
      "pending\n",
      "pending\n",
      "pending\n",
      "processing\n",
      "processing\n",
      "processing\n",
      "processing\n",
      "processing\n",
      "done\n"
     ]
    }
   ],
   "source": [
    "# Ping API until request is complete, then continue to Section 4\n",
    "starttime = time.time()\n",
    "while r.get('{}task/{}'.format(api, task_id), headers=head).json()['status'] != 'done':\n",
    "    print(r.get('{}task/{}'.format(api, task_id), headers=head).json()['status'])\n",
    "    time.sleep(20.0 - ((time.time() - starttime) % 20.0))\n",
    "print(r.get('{}task/{}'.format(api, task_id), headers=head).json()['status'])"
   ]
  },
  {
   "cell_type": "markdown",
   "metadata": {},
   "source": [
    "***\n",
    "# 4. Download a Request [[Bundle API](https://appeears.earthdatacloud.nasa.gov/api/#bundle)]\n",
    "#### Before downloading the request output, set up an output directory to store the output files, and examine the files contained in the request. "
   ]
  },
  {
   "cell_type": "code",
   "execution_count": 26,
   "metadata": {},
   "outputs": [],
   "source": [
    "destDir = os.path.join(inDir, task_name)                # Set up output directory using input directory and task name\n",
    "if not os.path.exists(destDir):os.makedirs(destDir)     # Create the output directory"
   ]
  },
  {
   "cell_type": "markdown",
   "metadata": {},
   "source": [
    "---\n",
    "## 4a. Explore Files in Request Output [[List Files](https://appeears.earthdatacloud.nasa.gov/api/#list-files)]\n",
    "#### The bundle API provides information about completed tasks. For any completed task, a bundle can be queried to return the files contained as a part of the task request. Below, call the bundle API and return all of the output files."
   ]
  },
  {
   "cell_type": "code",
   "execution_count": 27,
   "metadata": {},
   "outputs": [
    {
     "data": {
      "text/plain": [
       "{'files': [{'sha256': '16fc087215a4f1aab6d64aaa911493c828651fa9ade20de22267962d75389b4c',\n",
       "   'file_id': '441b5cd6-4a0d-4051-9c28-bf89084c671a',\n",
       "   'file_name': 'NPS-Vegetation-MCD15A3H-006-results.csv',\n",
       "   'file_size': 104962,\n",
       "   'file_type': 'csv'},\n",
       "  {'sha256': '5dec849ccc2fb6b73ebcfc0e5bd76bed89768194cba64453ef0f60338b171ab7',\n",
       "   'file_id': 'e6eadf1e-43c4-44fe-b4df-86b59af6f330',\n",
       "   'file_name': 'NPS-Vegetation-MOD11A2-061-results.csv',\n",
       "   'file_size': 43287,\n",
       "   'file_type': 'csv'},\n",
       "  {'sha256': '5a26a8d51c42ecb821aed43967fe4d83a661cdcaf23c06c3b73ecab7e576cc81',\n",
       "   'file_id': 'a4a7bbde-2506-4228-9677-4891711be9f2',\n",
       "   'file_name': 'NPS-Vegetation-granule-list.txt',\n",
       "   'file_size': 32008,\n",
       "   'file_type': 'txt'},\n",
       "  {'sha256': 'd2192bb433710b34e9fd41d790bbd1b1d25013c256bcb6fdd21322abffc6678b',\n",
       "   'file_id': '363beaf0-f242-4ff4-b048-71af03dcf2e5',\n",
       "   'file_name': 'NPS-Vegetation-request.json',\n",
       "   'file_size': 953,\n",
       "   'file_type': 'json'},\n",
       "  {'sha256': '191f51389fc305df7bb3a5f7d55173d13ec2adee66e249efd3eca67495f90c49',\n",
       "   'file_id': '2ad31485-a972-4253-8547-010f773b890f',\n",
       "   'file_name': 'NPS-Vegetation-MCD15A3H-006-metadata.xml',\n",
       "   'file_size': 17245,\n",
       "   'file_type': 'xml'},\n",
       "  {'sha256': '2ddf68de54546363d588f43f0e45fc5ca82d065cee78771f128b425aa6906bc2',\n",
       "   'file_id': '07184417-1683-4e19-8bfd-dbd3c95d9b3e',\n",
       "   'file_name': 'NPS-Vegetation-MOD11A2-061-metadata.xml',\n",
       "   'file_size': 17199,\n",
       "   'file_type': 'xml'},\n",
       "  {'sha256': 'ff59fee3c532c9d0ee9f8d4a2d669b49577992eb450151cf349af71e1c2856ff',\n",
       "   'file_id': 'c762f12b-7104-496c-a94f-29b06e573d96',\n",
       "   'file_name': 'README.md',\n",
       "   'file_size': 18791,\n",
       "   'file_type': 'txt'}],\n",
       " 'created': '2022-05-06T18:27:52.217328',\n",
       " 'task_id': '6df85a10-911e-4483-81b0-fdcef8c94602',\n",
       " 'updated': '2022-05-06T18:29:36.223233',\n",
       " 'bundle_type': 'point'}"
      ]
     },
     "execution_count": 27,
     "metadata": {},
     "output_type": "execute_result"
    }
   ],
   "source": [
    "bundle = r.get('{}bundle/{}'.format(api,task_id), headers=head).json()  # Call API and return bundle contents for the task_id as json\n",
    "bundle                                                                  # Print bundle contents"
   ]
  },
  {
   "cell_type": "markdown",
   "metadata": {},
   "source": [
    "***\n",
    "## 4b. Download Files in a Request (Automation) [[Download File](https://appeears.earthdatacloud.nasa.gov/api/#download-file)]\n",
    "#### Now, use the contents of the bundle to select the file name and id and store as a dictionary. "
   ]
  },
  {
   "cell_type": "code",
   "execution_count": 28,
   "metadata": {},
   "outputs": [
    {
     "data": {
      "text/plain": [
       "{'441b5cd6-4a0d-4051-9c28-bf89084c671a': 'NPS-Vegetation-MCD15A3H-006-results.csv',\n",
       " 'e6eadf1e-43c4-44fe-b4df-86b59af6f330': 'NPS-Vegetation-MOD11A2-061-results.csv',\n",
       " 'a4a7bbde-2506-4228-9677-4891711be9f2': 'NPS-Vegetation-granule-list.txt',\n",
       " '363beaf0-f242-4ff4-b048-71af03dcf2e5': 'NPS-Vegetation-request.json',\n",
       " '2ad31485-a972-4253-8547-010f773b890f': 'NPS-Vegetation-MCD15A3H-006-metadata.xml',\n",
       " '07184417-1683-4e19-8bfd-dbd3c95d9b3e': 'NPS-Vegetation-MOD11A2-061-metadata.xml',\n",
       " 'c762f12b-7104-496c-a94f-29b06e573d96': 'README.md'}"
      ]
     },
     "execution_count": 28,
     "metadata": {},
     "output_type": "execute_result"
    }
   ],
   "source": [
    "files = {}                                                       # Create empty dictionary\n",
    "for f in bundle['files']: files[f['file_id']] = f['file_name']   # Fill dictionary with file_id as keys and file_name as values\n",
    "files                                                            # Print dictionary"
   ]
  },
  {
   "cell_type": "markdown",
   "metadata": {},
   "source": [
    "#### Use the `files` dictionary and a `for` loop to automate downloading all of the output files into the output directory. "
   ]
  },
  {
   "cell_type": "code",
   "execution_count": 29,
   "metadata": {},
   "outputs": [
    {
     "name": "stdout",
     "output_type": "stream",
     "text": [
      "Downloaded files can be found at: C:/Users/appeears-api-getting-started\NPS Vegetation\n"
     ]
    }
   ],
   "source": [
    "for f in files:\n",
    "    dl = r.get('{}bundle/{}/{}'.format(api, task_id, f), headers=head, stream=True, allow_redirects = \"TRUE\")  # Get a stream to the bundle file\n",
    "    if files[f].endswith('.tif'):\n",
    "        filename = files[f].split('/')[1]\n",
    "    else:\n",
    "        filename = files[f]\n",
    "    filepath = os.path.join(destDir, filename)                                            # Create output file path\n",
    "    with open(filepath, 'wb') as f:                                                       # Write file to dest dir\n",
    "        for data in dl.iter_content(chunk_size=8192): f.write(data) \n",
    "print('Downloaded files can be found at: {}'.format(destDir))"
   ]
  },
  {
   "cell_type": "markdown",
   "metadata": {},
   "source": [
    "***\n",
    "# 5. Explore AρρEEARS Quality API [[Quality API](https://appeears.earthdatacloud.nasa.gov/api/#quality)]\n",
    "#### The quality API provides quality details about all of the data products available in AρρEEARS. Below are examples of how to query the quality API for listing quality products, layers, and values. The final example (Section 5c.) demonstrates how AρρEEARS quality services can be leveraged to decode pertinent quality values for your data.\n",
    "#### First, reset pagination to include `offset` which allows you to set the number of results to skip before starting to return entries. Next, make a call to list all of the data product layers and the associated quality product and layer information."
   ]
  },
  {
   "cell_type": "code",
   "execution_count": 30,
   "metadata": {},
   "outputs": [
    {
     "data": {
      "text/plain": [
       "[{'ProductAndVersion': 'CU_LT05.001',\n",
       "  'Layer': 'SRB1',\n",
       "  'QualityProductAndVersion': 'CU_LT05.001',\n",
       "  'QualityLayers': ['PIXELQA'],\n",
       "  'Continuous': False,\n",
       "  'VisibleToWorker': True},\n",
       " {'ProductAndVersion': 'CU_LT05.001',\n",
       "  'Layer': 'SRB2',\n",
       "  'QualityProductAndVersion': 'CU_LT05.001',\n",
       "  'QualityLayers': ['PIXELQA'],\n",
       "  'Continuous': False,\n",
       "  'VisibleToWorker': True},\n",
       " {'ProductAndVersion': 'CU_LT05.001',\n",
       "  'Layer': 'SRB3',\n",
       "  'QualityProductAndVersion': 'CU_LT05.001',\n",
       "  'QualityLayers': ['PIXELQA'],\n",
       "  'Continuous': False,\n",
       "  'VisibleToWorker': True},\n",
       " {'ProductAndVersion': 'CU_LT05.001',\n",
       "  'Layer': 'SRB4',\n",
       "  'QualityProductAndVersion': 'CU_LT05.001',\n",
       "  'QualityLayers': ['PIXELQA'],\n",
       "  'Continuous': False,\n",
       "  'VisibleToWorker': True},\n",
       " {'ProductAndVersion': 'CU_LT05.001',\n",
       "  'Layer': 'SRB5',\n",
       "  'QualityProductAndVersion': 'CU_LT05.001',\n",
       "  'QualityLayers': ['PIXELQA'],\n",
       "  'Continuous': False,\n",
       "  'VisibleToWorker': True},\n",
       " {'ProductAndVersion': 'CU_LT05.001',\n",
       "  'Layer': 'SRB7',\n",
       "  'QualityProductAndVersion': 'CU_LT05.001',\n",
       "  'QualityLayers': ['PIXELQA'],\n",
       "  'Continuous': False,\n",
       "  'VisibleToWorker': True}]"
      ]
     },
     "execution_count": 30,
     "metadata": {},
     "output_type": "execute_result"
    }
   ],
   "source": [
    "params = {'limit': 6, 'pretty': True, 'offset': 20}                     # Limit to 6 entries, start w/ 20th entry, return pretty json\n",
    "quality_response = r.get('{}quality'.format(api), params=params).json() # Call quality API using pagination and return json\n",
    "quality_response                                                        # Print response"
   ]
  },
  {
   "cell_type": "markdown",
   "metadata": {},
   "source": [
    "---\n",
    "## 5a. List Quality Layers [[List Quality Layers](https://appeears.earthdatacloud.nasa.gov/api/#list-quality-layers)]\n",
    "#### This API call will list all of the quality layer information for a product."
   ]
  },
  {
   "cell_type": "code",
   "execution_count": 31,
   "metadata": {},
   "outputs": [
    {
     "data": {
      "text/plain": [
       "[{'ProductAndVersion': 'MCD15A3H.006',\n",
       "  'Layer': 'Fpar_500m',\n",
       "  'QualityProductAndVersion': 'MCD15A3H.006',\n",
       "  'QualityLayers': ['FparLai_QC', 'FparExtra_QC'],\n",
       "  'VisibleToWorker': True},\n",
       " {'ProductAndVersion': 'MCD15A3H.006',\n",
       "  'Layer': 'FparStdDev_500m',\n",
       "  'QualityProductAndVersion': 'MCD15A3H.006',\n",
       "  'QualityLayers': ['FparLai_QC', 'FparExtra_QC'],\n",
       "  'VisibleToWorker': True},\n",
       " {'ProductAndVersion': 'MCD15A3H.006',\n",
       "  'Layer': 'Lai_500m',\n",
       "  'QualityProductAndVersion': 'MCD15A3H.006',\n",
       "  'QualityLayers': ['FparLai_QC', 'FparExtra_QC'],\n",
       "  'VisibleToWorker': True},\n",
       " {'ProductAndVersion': 'MCD15A3H.006',\n",
       "  'Layer': 'LaiStdDev_500m',\n",
       "  'QualityProductAndVersion': 'MCD15A3H.006',\n",
       "  'QualityLayers': ['FparLai_QC', 'FparExtra_QC'],\n",
       "  'VisibleToWorker': True}]"
      ]
     },
     "execution_count": 31,
     "metadata": {},
     "output_type": "execute_result"
    }
   ],
   "source": [
    "product = 'MCD15A3H.006'                                        # Product used in the example\n",
    "ql_response = r.get('{}quality/{}'.format(api,product)).json()  # Call API to retrieve quality layers for selected product\n",
    "ql_response                                                     # Print response"
   ]
  },
  {
   "cell_type": "markdown",
   "metadata": {},
   "source": [
    "---\n",
    "## 5b. Show Quality Values [[List Quality Values](https://appeears.earthdatacloud.nasa.gov/api/#list-quality-values)]\n",
    "#### This API call will list all of the values for a given quality layer."
   ]
  },
  {
   "cell_type": "code",
   "execution_count": 32,
   "metadata": {},
   "outputs": [
    {
     "data": {
      "text/plain": [
       "[{'ProductAndVersion': 'MCD15A3H.006',\n",
       "  'QualityLayer': 'FparLai_QC',\n",
       "  'Name': 'MODLAND',\n",
       "  'Value': 0,\n",
       "  'Description': 'Good quality (main algorithm with or without saturation)',\n",
       "  'Acceptable': True},\n",
       " {'ProductAndVersion': 'MCD15A3H.006',\n",
       "  'QualityLayer': 'FparLai_QC',\n",
       "  'Name': 'MODLAND',\n",
       "  'Value': 1,\n",
       "  'Description': 'Other Quality (back-up algorithm or fill values)',\n",
       "  'Acceptable': False},\n",
       " {'ProductAndVersion': 'MCD15A3H.006',\n",
       "  'QualityLayer': 'FparLai_QC',\n",
       "  'Name': 'Sensor',\n",
       "  'Value': 0,\n",
       "  'Description': 'Terra',\n",
       "  'Acceptable': None},\n",
       " {'ProductAndVersion': 'MCD15A3H.006',\n",
       "  'QualityLayer': 'FparLai_QC',\n",
       "  'Name': 'Sensor',\n",
       "  'Value': 1,\n",
       "  'Description': 'Aqua',\n",
       "  'Acceptable': None},\n",
       " {'ProductAndVersion': 'MCD15A3H.006',\n",
       "  'QualityLayer': 'FparLai_QC',\n",
       "  'Name': 'DeadDetector',\n",
       "  'Value': 0,\n",
       "  'Description': 'Detectors apparently fine for up to 50% of channels 1, 2',\n",
       "  'Acceptable': None},\n",
       " {'ProductAndVersion': 'MCD15A3H.006',\n",
       "  'QualityLayer': 'FparLai_QC',\n",
       "  'Name': 'DeadDetector',\n",
       "  'Value': 1,\n",
       "  'Description': 'Dead detectors caused >50% adjacent detector retrieval',\n",
       "  'Acceptable': None},\n",
       " {'ProductAndVersion': 'MCD15A3H.006',\n",
       "  'QualityLayer': 'FparLai_QC',\n",
       "  'Name': 'CloudState',\n",
       "  'Value': 0,\n",
       "  'Description': 'Significant clouds NOT present (clear)',\n",
       "  'Acceptable': None},\n",
       " {'ProductAndVersion': 'MCD15A3H.006',\n",
       "  'QualityLayer': 'FparLai_QC',\n",
       "  'Name': 'CloudState',\n",
       "  'Value': 1,\n",
       "  'Description': 'Significant clouds WERE present',\n",
       "  'Acceptable': None},\n",
       " {'ProductAndVersion': 'MCD15A3H.006',\n",
       "  'QualityLayer': 'FparLai_QC',\n",
       "  'Name': 'CloudState',\n",
       "  'Value': 2,\n",
       "  'Description': 'Mixed cloud present in pixel',\n",
       "  'Acceptable': None},\n",
       " {'ProductAndVersion': 'MCD15A3H.006',\n",
       "  'QualityLayer': 'FparLai_QC',\n",
       "  'Name': 'CloudState',\n",
       "  'Value': 3,\n",
       "  'Description': 'Cloud state not defined, assumed clear',\n",
       "  'Acceptable': None},\n",
       " {'ProductAndVersion': 'MCD15A3H.006',\n",
       "  'QualityLayer': 'FparLai_QC',\n",
       "  'Name': 'SCF_QC',\n",
       "  'Value': 0,\n",
       "  'Description': 'Main (RT) method used, best result possible (no saturation)',\n",
       "  'Acceptable': None},\n",
       " {'ProductAndVersion': 'MCD15A3H.006',\n",
       "  'QualityLayer': 'FparLai_QC',\n",
       "  'Name': 'SCF_QC',\n",
       "  'Value': 1,\n",
       "  'Description': 'Main (RT) method used with saturation. Good, very usable',\n",
       "  'Acceptable': None},\n",
       " {'ProductAndVersion': 'MCD15A3H.006',\n",
       "  'QualityLayer': 'FparLai_QC',\n",
       "  'Name': 'SCF_QC',\n",
       "  'Value': 2,\n",
       "  'Description': 'Main (RT) method failed due to bad geometry, empirical algorithm used',\n",
       "  'Acceptable': None},\n",
       " {'ProductAndVersion': 'MCD15A3H.006',\n",
       "  'QualityLayer': 'FparLai_QC',\n",
       "  'Name': 'SCF_QC',\n",
       "  'Value': 3,\n",
       "  'Description': 'Main (RT) method failed due to problems other than geometry, empirical algorithm used',\n",
       "  'Acceptable': None},\n",
       " {'ProductAndVersion': 'MCD15A3H.006',\n",
       "  'QualityLayer': 'FparLai_QC',\n",
       "  'Name': 'SCF_QC',\n",
       "  'Value': 4,\n",
       "  'Description': \"Pixel not produced at all, value couldn't be retrieved (possible reasons: bad L1B data, unusable MOD09GA data)\",\n",
       "  'Acceptable': None}]"
      ]
     },
     "execution_count": 32,
     "metadata": {},
     "output_type": "execute_result"
    }
   ],
   "source": [
    "qlayer = ql_response[1]['QualityLayers'][0]                                # Set quality layer from ql_response for 'Lai_500m'\n",
    "qv_response = r.get('{}quality/{}/{}'.format(api, product, qlayer)).json() # Call API for list of bit-word quality values\n",
    "qv_response                                                                # Print response"
   ]
  },
  {
   "cell_type": "markdown",
   "metadata": {},
   "source": [
    "---\n",
    "## 5c. Decode Quality Values [[Decode Quality Values](https://appeears.earthdatacloud.nasa.gov/api/#decode-quality-values)]\n",
    "#### This API call will decode the bits for a given quality value."
   ]
  },
  {
   "cell_type": "code",
   "execution_count": 33,
   "metadata": {},
   "outputs": [
    {
     "data": {
      "text/plain": [
       "{'Binary Representation': '0b00000001',\n",
       " 'MODLAND': {'bits': '0b1',\n",
       "  'description': 'Other Quality (back-up algorithm or fill values)'},\n",
       " 'Sensor': {'bits': '0b0', 'description': 'Terra'},\n",
       " 'DeadDetector': {'bits': '0b0',\n",
       "  'description': 'Detectors apparently fine for up to 50% of channels 1, 2'},\n",
       " 'CloudState': {'bits': '0b00',\n",
       "  'description': 'Significant clouds NOT present (clear)'},\n",
       " 'SCF_QC': {'bits': '0b000',\n",
       "  'description': 'Main (RT) method used, best result possible (no saturation)'}}"
      ]
     },
     "execution_count": 33,
     "metadata": {},
     "output_type": "execute_result"
    }
   ],
   "source": [
    "val = 1                                                                            # Set a specific value\n",
    "q_response = r.get('{}quality/{}/{}/{}'.format(api, product, qlayer, val)).json()  # Call quality API for specific value\n",
    "q_response                                                                         # Print response"
   ]
  },
  {
   "cell_type": "markdown",
   "metadata": {},
   "source": [
    "***\n",
    "# 6. BONUS: Import Request Output and Visualize\n",
    "#### Here, import the CSV file containing the results from your request, and create some basic visualizations using the `matplotlib` package."
   ]
  },
  {
   "cell_type": "code",
   "execution_count": 34,
   "metadata": {},
   "outputs": [
    {
     "data": {
      "text/plain": [
       "['NPS-Vegetation-MCD15A3H-006-results.csv',\n",
       " 'NPS-Vegetation-MOD11A2-061-results.csv',\n",
       " 'NPS-Vegetation-granule-list.txt',\n",
       " 'NPS-Vegetation-request.json',\n",
       " 'NPS-Vegetation-MCD15A3H-006-metadata.xml',\n",
       " 'NPS-Vegetation-MOD11A2-061-metadata.xml',\n",
       " 'README.md']"
      ]
     },
     "execution_count": 34,
     "metadata": {},
     "output_type": "execute_result"
    }
   ],
   "source": [
    "# Import Packages\n",
    "import matplotlib.pyplot as plt\n",
    "import pandas as pd\n",
    "import numpy as np\n",
    "list(files.values())  # List files downloaded"
   ]
  },
  {
   "cell_type": "markdown",
   "metadata": {},
   "source": [
    "---\n",
    "## 6a. Import CSV\n",
    "#### Use the `Pandas` package to import the CSV file containing the results from the AρρEEARS request. "
   ]
  },
  {
   "cell_type": "code",
   "execution_count": 35,
   "metadata": {},
   "outputs": [
    {
     "data": {
      "text/plain": [
       "Index(['Category', 'ID', 'Latitude', 'Longitude', 'Date', 'MODIS_Tile',\n",
       "       'MOD11A2_061_Line_Y_1km', 'MOD11A2_061_Sample_X_1km',\n",
       "       'MOD11A2_061_LST_Day_1km', 'MOD11A2_061_LST_Night_1km',\n",
       "       'MOD11A2_061_QC_Day', 'MOD11A2_061_QC_Night',\n",
       "       'MOD11A2_061_QC_Day_bitmask', 'MOD11A2_061_QC_Day_MODLAND',\n",
       "       'MOD11A2_061_QC_Day_MODLAND_Description',\n",
       "       'MOD11A2_061_QC_Day_Data_Quality_flag',\n",
       "       'MOD11A2_061_QC_Day_Data_Quality_flag_Description',\n",
       "       'MOD11A2_061_QC_Day_Emis_Error_flag',\n",
       "       'MOD11A2_061_QC_Day_Emis_Error_flag_Description',\n",
       "       'MOD11A2_061_QC_Day_LST_Error_Flag',\n",
       "       'MOD11A2_061_QC_Day_LST_Error_Flag_Description',\n",
       "       'MOD11A2_061_QC_Night_bitmask', 'MOD11A2_061_QC_Night_MODLAND',\n",
       "       'MOD11A2_061_QC_Night_MODLAND_Description',\n",
       "       'MOD11A2_061_QC_Night_Data_Quality_flag',\n",
       "       'MOD11A2_061_QC_Night_Data_Quality_flag_Description',\n",
       "       'MOD11A2_061_QC_Night_Emis_Error_flag',\n",
       "       'MOD11A2_061_QC_Night_Emis_Error_flag_Description',\n",
       "       'MOD11A2_061_QC_Night_LST_Error_Flag',\n",
       "       'MOD11A2_061_QC_Night_LST_Error_Flag_Description'],\n",
       "      dtype='object')"
      ]
     },
     "execution_count": 35,
     "metadata": {},
     "output_type": "execute_result"
    }
   ],
   "source": [
    "df = pd.read_csv(os.path.join(destDir,'NPS-Vegetation-MOD11A2-061-results.csv')) # Import CSV to a Pandas dataframe\n",
    "df.columns                                                                       # Print dataframe column names"
   ]
  },
  {
   "cell_type": "markdown",
   "metadata": {},
   "source": [
    "#### Select the MOD11A2.061 LST Day column for the data from Grand Canyon National Park."
   ]
  },
  {
   "cell_type": "code",
   "execution_count": 57,
   "metadata": {},
   "outputs": [
    {
     "data": {
      "text/plain": [
       "dict_keys(['Clear_sky_days', 'Clear_sky_nights', 'Day_view_angl', 'Day_view_time', 'Emis_31', 'Emis_32', 'LST_Day_1km', 'LST_Night_1km', 'Night_view_angl', 'Night_view_time', 'QC_Day', 'QC_Night'])"
      ]
     },
     "execution_count": 57,
     "metadata": {},
     "output_type": "execute_result"
    }
   ],
   "source": [
    "lstDay_GC = df['MOD11A2_061_LST_Day_1km'][df.Category == 'Grand Canyon'] # Filter df for the pixel from GC, only keep LST Day 1 km column\n",
    "dates = df['Date'][df.Category == 'Grand Canyon']                        # Create list of dates\n",
    "lst_response.keys()                                                      # Print response of product service call from earlier in the tutorial"
   ]
  },
  {
   "cell_type": "code",
   "execution_count": 59,
   "metadata": {},
   "outputs": [
    {
     "data": {
      "text/plain": [
       "{'AddOffset': 0.0,\n",
       " 'Available': True,\n",
       " 'DataType': 'float32',\n",
       " 'Description': 'Day Land Surface Temperature',\n",
       " 'Dimensions': ['time', 'YDim', 'XDim'],\n",
       " 'FillValue': 0,\n",
       " 'IsQA': False,\n",
       " 'Layer': 'LST_Day_1km',\n",
       " 'OrigDataType': 'uint16',\n",
       " 'OrigValidMax': 65535,\n",
       " 'OrigValidMin': 7500,\n",
       " 'QualityLayers': \"['QC_Day']\",\n",
       " 'QualityProductAndVersion': 'MOD11A2.061',\n",
       " 'ScaleFactor': 0.02,\n",
       " 'Units': 'Kelvin',\n",
       " 'ValidMax': 1310.699951,\n",
       " 'ValidMin': 150.0,\n",
       " 'XSize': 1200,\n",
       " 'YSize': 1200}"
      ]
     },
     "execution_count": 59,
     "metadata": {},
     "output_type": "execute_result"
    }
   ],
   "source": [
    "lst_response['LST_Day_1km']  # Print product information service for the desired layer"
   ]
  },
  {
   "cell_type": "markdown",
   "metadata": {},
   "source": [
    "#### We will need to use the product service information to find the fill value and units for visualization purposes. "
   ]
  },
  {
   "cell_type": "code",
   "execution_count": 60,
   "metadata": {},
   "outputs": [],
   "source": [
    "lstFill = lst_response['LST_Day_1km']['FillValue']  # Set fill value\n",
    "units = lst_response['LST_Day_1km']['Units']        # Set units"
   ]
  },
  {
   "cell_type": "markdown",
   "metadata": {},
   "source": [
    "---\n",
    "## 6b. Plot Results (Line/Scatter Plots)\n",
    "#### Next, plot a time series of daytime LST for the selected point in Grand Canyon National Park for 2017. "
   ]
  },
  {
   "cell_type": "code",
   "execution_count": 61,
   "metadata": {},
   "outputs": [],
   "source": [
    "# Set matplotlib plots inline\n",
    "%matplotlib inline "
   ]
  },
  {
   "cell_type": "markdown",
   "metadata": {},
   "source": [
    "#### Below, filter the LST data to exclude fill values, and plot as a time series with some additional formatting. "
   ]
  },
  {
   "cell_type": "code",
   "execution_count": 62,
   "metadata": {},
   "outputs": [
    {
     "data": {
      "image/png": "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\n",
      "text/plain": [
       "<Figure size 1800x540 with 1 Axes>"
      ]
     },
     "metadata": {},
     "output_type": "display_data"
    }
   ],
   "source": [
    "plt.style.use(\"dark_background\")                                                   # Set default background to black instead of white\n",
    "fig = plt.figure(1, figsize=(25, 7.5))                                             # Set the figure size\n",
    "ax = fig.add_subplot(111)                                                          # Create a subplot\n",
    "ax.plot(lstDay_GC[lstDay_GC!=lstFill], 'k', lw=2.5, color='#1f77b4')               # Filter out fill values and plot as blue line\n",
    "ax.plot(lstDay_GC[lstDay_GC!=lstFill], 'bo', ms=10, color='#1f77b4', alpha = 0.5)  # Filter out fill values and plot as blue circle\n",
    "ax.set_xticks((np.arange(0,len(lstDay_GC))))                                       # Set the x ticks\n",
    "ax.set_xticklabels(dates, rotation=45,fontsize=10)                                 # Set the x tick labels\n",
    "ax.set_yticks((np.arange(250,325, 10)))                                            # Arrange the y ticks\n",
    "ax.set_yticklabels(np.arange(250,325, 10),fontsize=12,fontweight='bold')           # Set the Y tick labels\n",
    "ax.set_xlabel('Date',fontsize=16,fontweight='bold')                                # Set x-axis label\n",
    "ax.set_ylabel(\"{}({})\".format('LST_Day_1km', units),fontsize=16,fontweight='bold') # Set y-axis label\n",
    "ax.set_title('Time Series',fontsize=20,fontweight='bold');                         # Set title"
   ]
  },
  {
   "cell_type": "markdown",
   "metadata": {},
   "source": [
    "#### Next, add the LST Night values for Grand Canyon NP, and create a time series plot with both `LST_Day_1km` and `LST_Night_1km`."
   ]
  },
  {
   "cell_type": "code",
   "execution_count": 63,
   "metadata": {},
   "outputs": [
    {
     "data": {
      "image/png": "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\n",
      "text/plain": [
       "<Figure size 1800x540 with 1 Axes>"
      ]
     },
     "metadata": {},
     "output_type": "display_data"
    }
   ],
   "source": [
    "lstNight_GC = df['MOD11A2_061_LST_Night_1km'][df.Category == 'Grand Canyon']                # Filter df for pixel from GC, only keep LST Night\n",
    "fig = plt.figure(1, figsize=(25, 7.5))                                                      # Set the figure size\n",
    "plt.style.use(\"dark_background\")                                                            # Set default background to black instead of white\n",
    "ax = fig.add_subplot(111)                                                                   # Create a subplot\n",
    "ax.plot(lstDay_GC[lstDay_GC!=lstFill], 'k', lw=2.5, color='#1f77b4')                        # Filter out fill values and plot as a blue line\n",
    "ax.plot(lstNight_GC[lstNight_GC!=lstFill], 'k', lw=2.5, color='#e60000')                    # Filter out fill values and plot as a red line\n",
    "ax.legend(('LST_Day_1km', 'LST_Night_1km'),loc='upper left')                                # Add a legend\n",
    "ax.plot(lstDay_GC[lstDay_GC!=lstFill], 'bo', ms=10, color='#1f77b4', alpha = 0.5)           # Filter out fill values and plot as a blue circle\n",
    "ax.plot(lstNight_GC[lstNight_GC!=lstFill], 'bo', ms=10, color='#e60000', alpha = 0.5)       # Filter out fill values and plot as a red circle\n",
    "ax.set_xticks((np.arange(0,len(lstDay_GC))))                                                # Set the x ticks\n",
    "ax.set_xticklabels(dates, rotation=45,fontsize=10)                                          # Set the x tick labels\n",
    "ax.set_yticks((np.arange(250,325, 10)))                                                     # Arrange the y ticks\n",
    "ax.set_yticklabels(np.arange(250,325, 10),fontsize=12,fontweight='bold')                    # Set the Y tick labels\n",
    "ax.set_xlabel('Date',fontsize=16,fontweight='bold')                                         # Set x-axis label\n",
    "ax.set_ylabel(\"{}({})\".format('LST_Day_1km', units),fontsize=16,fontweight='bold')          # Set y-axis label\n",
    "ax.set_title('Daytime and Nighttime LST at Grand Canyon NP',fontsize=20,fontweight='bold'); # Set title"
   ]
  },
  {
   "cell_type": "markdown",
   "metadata": {},
   "source": [
    "#### Finally, bring in the daytime LST data from Zion National Park, and compare with daytime LST at Grand Canyon National Park, shown below in a scatterplot using `matplotlib`."
   ]
  },
  {
   "cell_type": "code",
   "execution_count": 64,
   "metadata": {},
   "outputs": [
    {
     "data": {
      "image/png": "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\n",
      "text/plain": [
       "<Figure size 720x540 with 1 Axes>"
      ]
     },
     "metadata": {},
     "output_type": "display_data"
    }
   ],
   "source": [
    "lstDay_Z = df['MOD11A2_061_LST_Day_1km'][df.Category == 'Zion']                                       # Filter for pixel from Zion, only keep LST Day\n",
    "lstDay_Z[lstDay_Z==lstFill] = np.nan                                                                  # Set fill values = nan for plotting purposes\n",
    "lstDay_GC[lstDay_GC==lstFill] = np.nan                                                                # Set fill values = nan for plotting purposes\n",
    "fig = plt.figure(1, figsize=(10, 7.5))                                                                # Set the figure size                   \n",
    "plt.style.use(\"dark_background\")                                                                      # Set default background to black\n",
    "fig.suptitle('MODIS LST: Grand Canyon vs. Zion National Park, 2017',fontsize=20,fontweight='bold')    # Add a title for the plot\n",
    "ax = fig.add_subplot(111)                                                                             # Add subplot\n",
    "ax.set_ylabel(\"{} {} ({})\".format('Grand Canyon:','LST_Day_1km',units),fontsize=16,fontweight='bold') # Set y-axis label\n",
    "ax.set_xlabel(\"{} {} ({})\".format('Zion:','LST_Day_1km', units),fontsize=16,fontweight='bold')        # Set x-axis label\n",
    "ax.scatter(lstDay_GC, lstDay_Z , alpha=1, c='#1f77b4', edgecolors='none', s=50, label=\"LST_Day\");     # Plot values for both points"
   ]
  },
  {
   "cell_type": "markdown",
   "metadata": {},
   "source": [
    "### This example can provide a template to use for your own research workflows. Leveraging the AρρEEARS API for searching, extracting, and formatting analysis ready data, and importing it directly into Python means that you can keep your entire research workflow in a single software program, from start to finish. "
   ]
  },
  {
   "cell_type": "markdown",
   "metadata": {},
   "source": [
    "***\n",
    "<div class=\"alert alert-block alert-info\">\n",
    "<h1> Contact Information </h1> \n",
    "    \n",
    "<h3> Material written by LP DAAC$^{1}$ </h3>\n",
    "\n",
    "<b>Contact:</b> LPDAAC@usgs.gov  \n",
    "\n",
    "<b>Voice:</b> +1-605-594-6116  \n",
    "\n",
    "<b>Organization:</b> Land Processes Distributed Active Archive Center (LP DAAC)  \n",
    "\n",
    "<b>Website:</b> https://lpdaac.usgs.gov/  \n",
    "\n",
    "<b>Date last modified:</b> 04-28-2020  \n",
    "\n",
    "$^{1}$Innovate! Inc., contractor to the U.S. Geological Survey, Earth Resources Observation and Science (EROS) Center, Sioux Falls, South Dakota, 57198-001, USA. Work performed under USGS contract G15PD00467 for LP DAAC$^{2}$.\n",
    "\n",
    "$^{2}$LP DAAC Work performed under NASA contract NNG14HH33I. "
   ]
  }
 ],
 "metadata": {
  "kernelspec": {
   "display_name": "Python 3",
   "language": "python",
   "name": "python3"
  },
  "language_info": {
   "codemirror_mode": {
    "name": "ipython",
    "version": 3
   },
   "file_extension": ".py",
   "mimetype": "text/x-python",
   "name": "python",
   "nbconvert_exporter": "python",
   "pygments_lexer": "ipython3",
   "version": "3.7.9"
  }
 },
 "nbformat": 4,
 "nbformat_minor": 2
}
