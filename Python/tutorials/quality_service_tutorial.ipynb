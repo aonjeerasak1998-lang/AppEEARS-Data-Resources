{
 "cells": [
  {
   "cell_type": "markdown",
   "metadata": {},
   "source": [
    "# Using AppEEARS Quality Service to Extract Information from MODIS Quality Layers\n"
   ]
  },
  {
   "cell_type": "markdown",
   "metadata": {},
   "source": [
    "Quality information for LP DAAC (Land Processes Distributed Active Archive Center) data products is important to consider when determining the usability and usefulness of a data product for a particular science application. However, this information has been notoriously difficult for users to access. Quality information is often stored as an integer value that requires the user to decode into binary strings. In order to interpret the binary string users must map the unique combinations of bits found in separate subsets of the binary string (i.e. bit-fields) to quality tables that characterize the particular quality attribute associated with each bit-field. This process is difficult for most users and is often passed over.\n",
    "\n",
    "The LP DAAC has added a quality web service to its AppEEARS service API to alleviate the difficult process of decoding and interpreting quality layers for tiled MODIS and WELD products. The quality web service will decode an integer value for a data product/layer and return the quality attribute information associated with that particular integer value. Additionally, users can determine if a quality layer exists for a particular data product/layer as well as get details about individual quality layers."
   ]
  },
  {
   "cell_type": "markdown",
   "metadata": {},
   "source": [
    "***Required Packages***\n",
    "* requests (http://docs.python-requests.org/en/latest/)\n",
    "* pandas (http://pandas.pydata.org/)"
   ]
  },
  {
   "cell_type": "markdown",
   "metadata": {},
   "source": [
    "**Let's start by importing the required packages.**"
   ]
  },
  {
   "cell_type": "code",
   "execution_count": 1,
   "metadata": {
    "collapsed": true
   },
   "outputs": [],
   "source": [
    "import requests\n",
    "import pandas as pd"
   ]
  },
  {
   "cell_type": "markdown",
   "metadata": {},
   "source": [
    "**Next, assign the AppEEARS services API URL to a variable**"
   ]
  },
  {
   "cell_type": "code",
   "execution_count": 2,
   "metadata": {
    "collapsed": true
   },
   "outputs": [],
   "source": [
    "SERVICES_URL = 'https://appeears.earthdatacloud.nasa.gov/api/'"
   ]
  },
  {
   "cell_type": "markdown",
   "metadata": {},
   "source": [
    "***NOTE:*** Placing https://appeears.earthdatacloud.nasa.gov/api/ in your browser will take you to the AppEEARS services API page. The page contains all of the AppEEARS services accompanied by their documentation."
   ]
  },
  {
   "cell_type": "markdown",
   "metadata": {},
   "source": [
    "## Get all of the data layers that contain associated quality layers"
   ]
  },
  {
   "cell_type": "markdown",
   "metadata": {},
   "source": [
    "**Say we wish to know what layers have a quality layer associated with them. We can find that out! To start, let's print out a count of the number of layers with associated quality layers.**"
   ]
  },
  {
   "cell_type": "code",
   "execution_count": 3,
   "metadata": {},
   "outputs": [
    {
     "data": {
      "text/plain": [
       "'Quality information was found for 3305 data layers!'"
      ]
     },
     "execution_count": 3,
     "metadata": {},
     "output_type": "execute_result"
    }
   ],
   "source": [
    "qualityLayers = requests.get('{}/quality?format=json'.format(SERVICES_URL)).json()\n",
    "#print(qualityLayers)\n",
    "\n",
    "'Quality information was found for {0} data layers!'.format(len(qualityLayers))"
   ]
  },
  {
   "cell_type": "markdown",
   "metadata": {},
   "source": [
    "**The request returns a list of dictionaries that can be indexed to filter the information returned**"
   ]
  },
  {
   "cell_type": "code",
   "execution_count": 4,
   "metadata": {},
   "outputs": [
    {
     "data": {
      "text/plain": [
       "[{'ProductAndVersion': 'GWELDMO.031',\n",
       "  'Layer': 'Band3_SRF_REF',\n",
       "  'QualityProductAndVersion': 'GWELDMO.031',\n",
       "  'QualityLayers': ['ACCA_State', 'DT_Cloud_State', 'Saturation_Flag'],\n",
       "  'Continuous': False,\n",
       "  'VisibleToWorker': True},\n",
       " {'ProductAndVersion': 'GWELDMO.031',\n",
       "  'Layer': 'Band4_SRF_REF',\n",
       "  'QualityProductAndVersion': 'GWELDMO.031',\n",
       "  'QualityLayers': ['ACCA_State', 'DT_Cloud_State', 'Saturation_Flag'],\n",
       "  'Continuous': False,\n",
       "  'VisibleToWorker': True},\n",
       " {'ProductAndVersion': 'GWELDMO.031',\n",
       "  'Layer': 'Band5_SRF_REF',\n",
       "  'QualityProductAndVersion': 'GWELDMO.031',\n",
       "  'QualityLayers': ['ACCA_State', 'DT_Cloud_State', 'Saturation_Flag'],\n",
       "  'Continuous': False,\n",
       "  'VisibleToWorker': True},\n",
       " {'ProductAndVersion': 'GWELDMO.031',\n",
       "  'Layer': 'Band7_SRF_REF',\n",
       "  'QualityProductAndVersion': 'GWELDMO.031',\n",
       "  'QualityLayers': ['ACCA_State', 'DT_Cloud_State', 'Saturation_Flag'],\n",
       "  'Continuous': False,\n",
       "  'VisibleToWorker': True}]"
      ]
     },
     "execution_count": 4,
     "metadata": {},
     "output_type": "execute_result"
    }
   ],
   "source": [
    "qualityLayers[221:225]"
   ]
  },
  {
   "cell_type": "markdown",
   "metadata": {},
   "source": [
    "**The list of products contained in qualityLayers is long, and trying to find the product/layer of interest via indexing can be inefficient. Instead, let's use a python expression, known as a list comprehension, to get all of the layers in MYD13A2.061 that have quality layers associated with them.**"
   ]
  },
  {
   "cell_type": "code",
   "execution_count": 5,
   "metadata": {},
   "outputs": [
    {
     "data": {
      "text/plain": [
       "[{'ProductAndVersion': 'MYD13A2.061',\n",
       "  'Layer': '_1_km_16_days_EVI',\n",
       "  'QualityProductAndVersion': 'MYD13A2.061',\n",
       "  'QualityLayers': ['_1_km_16_days_VI_Quality'],\n",
       "  'Continuous': False,\n",
       "  'VisibleToWorker': True},\n",
       " {'ProductAndVersion': 'MYD13A2.061',\n",
       "  'Layer': '_1_km_16_days_NDVI',\n",
       "  'QualityProductAndVersion': 'MYD13A2.061',\n",
       "  'QualityLayers': ['_1_km_16_days_VI_Quality'],\n",
       "  'Continuous': False,\n",
       "  'VisibleToWorker': True},\n",
       " {'ProductAndVersion': 'MYD13A2.061',\n",
       "  'Layer': '_1_km_16_days_blue_reflectance',\n",
       "  'QualityProductAndVersion': 'MYD13A2.061',\n",
       "  'QualityLayers': ['_1_km_16_days_pixel_reliability'],\n",
       "  'Continuous': False,\n",
       "  'VisibleToWorker': True},\n",
       " {'ProductAndVersion': 'MYD13A2.061',\n",
       "  'Layer': '_1_km_16_days_MIR_reflectance',\n",
       "  'QualityProductAndVersion': 'MYD13A2.061',\n",
       "  'QualityLayers': ['_1_km_16_days_pixel_reliability'],\n",
       "  'Continuous': False,\n",
       "  'VisibleToWorker': True},\n",
       " {'ProductAndVersion': 'MYD13A2.061',\n",
       "  'Layer': '_1_km_16_days_NIR_reflectance',\n",
       "  'QualityProductAndVersion': 'MYD13A2.061',\n",
       "  'QualityLayers': ['_1_km_16_days_pixel_reliability'],\n",
       "  'Continuous': False,\n",
       "  'VisibleToWorker': True},\n",
       " {'ProductAndVersion': 'MYD13A2.061',\n",
       "  'Layer': '_1_km_16_days_red_reflectance',\n",
       "  'QualityProductAndVersion': 'MYD13A2.061',\n",
       "  'QualityLayers': ['_1_km_16_days_pixel_reliability'],\n",
       "  'Continuous': False,\n",
       "  'VisibleToWorker': True}]"
      ]
     },
     "execution_count": 5,
     "metadata": {},
     "output_type": "execute_result"
    }
   ],
   "source": [
    "productQuality_A = [q for q in qualityLayers if q['ProductAndVersion'] == 'MYD13A2.061']\n",
    "\n",
    "productQuality_A"
   ]
  },
  {
   "cell_type": "markdown",
   "metadata": {},
   "source": [
    "**If you don't want to use indexing or list comprehensions (the previous two steps), just use the** *product* **parameter in the quality service URL to get all of the layers in MYD13A2.061 that have associated quality layers.**"
   ]
  },
  {
   "cell_type": "code",
   "execution_count": 6,
   "metadata": {},
   "outputs": [
    {
     "data": {
      "text/plain": [
       "[{'ProductAndVersion': 'MYD13A2.061',\n",
       "  'Layer': '_1_km_16_days_EVI',\n",
       "  'QualityProductAndVersion': 'MYD13A2.061',\n",
       "  'QualityLayers': ['_1_km_16_days_VI_Quality'],\n",
       "  'VisibleToWorker': True},\n",
       " {'ProductAndVersion': 'MYD13A2.061',\n",
       "  'Layer': '_1_km_16_days_NDVI',\n",
       "  'QualityProductAndVersion': 'MYD13A2.061',\n",
       "  'QualityLayers': ['_1_km_16_days_VI_Quality'],\n",
       "  'VisibleToWorker': True},\n",
       " {'ProductAndVersion': 'MYD13A2.061',\n",
       "  'Layer': '_1_km_16_days_blue_reflectance',\n",
       "  'QualityProductAndVersion': 'MYD13A2.061',\n",
       "  'QualityLayers': ['_1_km_16_days_pixel_reliability'],\n",
       "  'VisibleToWorker': True},\n",
       " {'ProductAndVersion': 'MYD13A2.061',\n",
       "  'Layer': '_1_km_16_days_MIR_reflectance',\n",
       "  'QualityProductAndVersion': 'MYD13A2.061',\n",
       "  'QualityLayers': ['_1_km_16_days_pixel_reliability'],\n",
       "  'VisibleToWorker': True},\n",
       " {'ProductAndVersion': 'MYD13A2.061',\n",
       "  'Layer': '_1_km_16_days_NIR_reflectance',\n",
       "  'QualityProductAndVersion': 'MYD13A2.061',\n",
       "  'QualityLayers': ['_1_km_16_days_pixel_reliability'],\n",
       "  'VisibleToWorker': True},\n",
       " {'ProductAndVersion': 'MYD13A2.061',\n",
       "  'Layer': '_1_km_16_days_red_reflectance',\n",
       "  'QualityProductAndVersion': 'MYD13A2.061',\n",
       "  'QualityLayers': ['_1_km_16_days_pixel_reliability'],\n",
       "  'VisibleToWorker': True}]"
      ]
     },
     "execution_count": 6,
     "metadata": {},
     "output_type": "execute_result"
    }
   ],
   "source": [
    "productQuality_B = requests.get('{}/quality/MYD13A2.061?format=json'.format(SERVICES_URL)).json()\n",
    "\n",
    "productQuality_B"
   ]
  },
  {
   "cell_type": "code",
   "execution_count": 7,
   "metadata": {},
   "outputs": [
    {
     "data": {
      "text/plain": [
       "'_1_km_16_days_VI_Quality'"
      ]
     },
     "execution_count": 7,
     "metadata": {},
     "output_type": "execute_result"
    }
   ],
   "source": [
    "productQuality_B[0]['QualityLayers'][0]"
   ]
  },
  {
   "cell_type": "markdown",
   "metadata": {},
   "source": [
    "***NOTE:*** In both cases above, we can see that EVI (_1_km_16_days_EVI) and NDVI (_1_km_16_days_NDVI) have the same quality layer (_1_km_16_days_VI_Quality). This is the case for many of the MODIS products. However, there are occasions when the layers within products have their own associated quality layers (e.g., MOD/MYD11 products)."
   ]
  },
  {
   "cell_type": "markdown",
   "metadata": {},
   "source": [
    "## Get the quality layer description for MYD13A2.061"
   ]
  },
  {
   "cell_type": "markdown",
   "metadata": {},
   "source": [
    "**Information within quality layers is often stored as bit-packed integers. This means that in order to get the actual quality information, one must convert the integer to binary and parse the binary string into bit-fields. Bit-fields are distinct combinations of bits representing quality categories that give an indication as to the usability and usefulness of the data product. Let's get the quality layer description for MYD13A2.061 by adding the** *quality layer* **parameter to the quality service URL.**    "
   ]
  },
  {
   "cell_type": "code",
   "execution_count": 8,
   "metadata": {},
   "outputs": [
    {
     "data": {
      "text/html": [
       "<div>\n",
       "<style scoped>\n",
       "    .dataframe tbody tr th:only-of-type {\n",
       "        vertical-align: middle;\n",
       "    }\n",
       "\n",
       "    .dataframe tbody tr th {\n",
       "        vertical-align: top;\n",
       "    }\n",
       "\n",
       "    .dataframe thead th {\n",
       "        text-align: right;\n",
       "    }\n",
       "</style>\n",
       "<table border=\"1\" class=\"dataframe\">\n",
       "  <thead>\n",
       "    <tr style=\"text-align: right;\">\n",
       "      <th></th>\n",
       "      <th>ProductAndVersion</th>\n",
       "      <th>QualityLayer</th>\n",
       "      <th>Name</th>\n",
       "      <th>Value</th>\n",
       "      <th>Description</th>\n",
       "      <th>Acceptable</th>\n",
       "    </tr>\n",
       "  </thead>\n",
       "  <tbody>\n",
       "    <tr>\n",
       "      <th>0</th>\n",
       "      <td>MYD13A2.061</td>\n",
       "      <td>_1_km_16_days_VI_Quality</td>\n",
       "      <td>MODLAND</td>\n",
       "      <td>0</td>\n",
       "      <td>VI produced, good quality</td>\n",
       "      <td>True</td>\n",
       "    </tr>\n",
       "    <tr>\n",
       "      <th>1</th>\n",
       "      <td>MYD13A2.061</td>\n",
       "      <td>_1_km_16_days_VI_Quality</td>\n",
       "      <td>MODLAND</td>\n",
       "      <td>1</td>\n",
       "      <td>VI produced, but check other QA</td>\n",
       "      <td>False</td>\n",
       "    </tr>\n",
       "    <tr>\n",
       "      <th>2</th>\n",
       "      <td>MYD13A2.061</td>\n",
       "      <td>_1_km_16_days_VI_Quality</td>\n",
       "      <td>MODLAND</td>\n",
       "      <td>2</td>\n",
       "      <td>Pixel produced, but most probably cloudy</td>\n",
       "      <td>False</td>\n",
       "    </tr>\n",
       "    <tr>\n",
       "      <th>3</th>\n",
       "      <td>MYD13A2.061</td>\n",
       "      <td>_1_km_16_days_VI_Quality</td>\n",
       "      <td>MODLAND</td>\n",
       "      <td>3</td>\n",
       "      <td>Pixel not produced due to other reasons than c...</td>\n",
       "      <td>False</td>\n",
       "    </tr>\n",
       "    <tr>\n",
       "      <th>4</th>\n",
       "      <td>MYD13A2.061</td>\n",
       "      <td>_1_km_16_days_VI_Quality</td>\n",
       "      <td>VI Usefulness</td>\n",
       "      <td>0</td>\n",
       "      <td>Highest quality</td>\n",
       "      <td>None</td>\n",
       "    </tr>\n",
       "    <tr>\n",
       "      <th>5</th>\n",
       "      <td>MYD13A2.061</td>\n",
       "      <td>_1_km_16_days_VI_Quality</td>\n",
       "      <td>VI Usefulness</td>\n",
       "      <td>1</td>\n",
       "      <td>Lower quality</td>\n",
       "      <td>None</td>\n",
       "    </tr>\n",
       "    <tr>\n",
       "      <th>6</th>\n",
       "      <td>MYD13A2.061</td>\n",
       "      <td>_1_km_16_days_VI_Quality</td>\n",
       "      <td>VI Usefulness</td>\n",
       "      <td>2</td>\n",
       "      <td>Decreasing quality (0010)</td>\n",
       "      <td>None</td>\n",
       "    </tr>\n",
       "    <tr>\n",
       "      <th>7</th>\n",
       "      <td>MYD13A2.061</td>\n",
       "      <td>_1_km_16_days_VI_Quality</td>\n",
       "      <td>VI Usefulness</td>\n",
       "      <td>3</td>\n",
       "      <td>Decreasing quality (0011)</td>\n",
       "      <td>None</td>\n",
       "    </tr>\n",
       "    <tr>\n",
       "      <th>8</th>\n",
       "      <td>MYD13A2.061</td>\n",
       "      <td>_1_km_16_days_VI_Quality</td>\n",
       "      <td>VI Usefulness</td>\n",
       "      <td>4</td>\n",
       "      <td>Decreasing quality (0100)</td>\n",
       "      <td>None</td>\n",
       "    </tr>\n",
       "    <tr>\n",
       "      <th>9</th>\n",
       "      <td>MYD13A2.061</td>\n",
       "      <td>_1_km_16_days_VI_Quality</td>\n",
       "      <td>VI Usefulness</td>\n",
       "      <td>5</td>\n",
       "      <td>Decreasing quality (0101)</td>\n",
       "      <td>None</td>\n",
       "    </tr>\n",
       "    <tr>\n",
       "      <th>10</th>\n",
       "      <td>MYD13A2.061</td>\n",
       "      <td>_1_km_16_days_VI_Quality</td>\n",
       "      <td>VI Usefulness</td>\n",
       "      <td>6</td>\n",
       "      <td>Decreasing quality (0110)</td>\n",
       "      <td>None</td>\n",
       "    </tr>\n",
       "    <tr>\n",
       "      <th>11</th>\n",
       "      <td>MYD13A2.061</td>\n",
       "      <td>_1_km_16_days_VI_Quality</td>\n",
       "      <td>VI Usefulness</td>\n",
       "      <td>7</td>\n",
       "      <td>Decreasing quality (0111)</td>\n",
       "      <td>None</td>\n",
       "    </tr>\n",
       "    <tr>\n",
       "      <th>12</th>\n",
       "      <td>MYD13A2.061</td>\n",
       "      <td>_1_km_16_days_VI_Quality</td>\n",
       "      <td>VI Usefulness</td>\n",
       "      <td>8</td>\n",
       "      <td>Decreasing quality (1000)</td>\n",
       "      <td>None</td>\n",
       "    </tr>\n",
       "    <tr>\n",
       "      <th>13</th>\n",
       "      <td>MYD13A2.061</td>\n",
       "      <td>_1_km_16_days_VI_Quality</td>\n",
       "      <td>VI Usefulness</td>\n",
       "      <td>9</td>\n",
       "      <td>Decreasing quality (1001)</td>\n",
       "      <td>None</td>\n",
       "    </tr>\n",
       "    <tr>\n",
       "      <th>14</th>\n",
       "      <td>MYD13A2.061</td>\n",
       "      <td>_1_km_16_days_VI_Quality</td>\n",
       "      <td>VI Usefulness</td>\n",
       "      <td>10</td>\n",
       "      <td>Decreasing quality (1010)</td>\n",
       "      <td>None</td>\n",
       "    </tr>\n",
       "    <tr>\n",
       "      <th>15</th>\n",
       "      <td>MYD13A2.061</td>\n",
       "      <td>_1_km_16_days_VI_Quality</td>\n",
       "      <td>VI Usefulness</td>\n",
       "      <td>11</td>\n",
       "      <td>Decreasing quality (1011)</td>\n",
       "      <td>None</td>\n",
       "    </tr>\n",
       "    <tr>\n",
       "      <th>16</th>\n",
       "      <td>MYD13A2.061</td>\n",
       "      <td>_1_km_16_days_VI_Quality</td>\n",
       "      <td>VI Usefulness</td>\n",
       "      <td>12</td>\n",
       "      <td>Lowest quality</td>\n",
       "      <td>None</td>\n",
       "    </tr>\n",
       "    <tr>\n",
       "      <th>17</th>\n",
       "      <td>MYD13A2.061</td>\n",
       "      <td>_1_km_16_days_VI_Quality</td>\n",
       "      <td>VI Usefulness</td>\n",
       "      <td>13</td>\n",
       "      <td>Quality so low that it is not useful</td>\n",
       "      <td>None</td>\n",
       "    </tr>\n",
       "    <tr>\n",
       "      <th>18</th>\n",
       "      <td>MYD13A2.061</td>\n",
       "      <td>_1_km_16_days_VI_Quality</td>\n",
       "      <td>VI Usefulness</td>\n",
       "      <td>14</td>\n",
       "      <td>L1B data faulty</td>\n",
       "      <td>None</td>\n",
       "    </tr>\n",
       "    <tr>\n",
       "      <th>19</th>\n",
       "      <td>MYD13A2.061</td>\n",
       "      <td>_1_km_16_days_VI_Quality</td>\n",
       "      <td>VI Usefulness</td>\n",
       "      <td>15</td>\n",
       "      <td>Not useful for any other reason/not processed</td>\n",
       "      <td>None</td>\n",
       "    </tr>\n",
       "    <tr>\n",
       "      <th>20</th>\n",
       "      <td>MYD13A2.061</td>\n",
       "      <td>_1_km_16_days_VI_Quality</td>\n",
       "      <td>Aerosol Quantity</td>\n",
       "      <td>0</td>\n",
       "      <td>Climatology</td>\n",
       "      <td>None</td>\n",
       "    </tr>\n",
       "    <tr>\n",
       "      <th>21</th>\n",
       "      <td>MYD13A2.061</td>\n",
       "      <td>_1_km_16_days_VI_Quality</td>\n",
       "      <td>Aerosol Quantity</td>\n",
       "      <td>1</td>\n",
       "      <td>Low</td>\n",
       "      <td>None</td>\n",
       "    </tr>\n",
       "    <tr>\n",
       "      <th>22</th>\n",
       "      <td>MYD13A2.061</td>\n",
       "      <td>_1_km_16_days_VI_Quality</td>\n",
       "      <td>Aerosol Quantity</td>\n",
       "      <td>2</td>\n",
       "      <td>Average</td>\n",
       "      <td>None</td>\n",
       "    </tr>\n",
       "    <tr>\n",
       "      <th>23</th>\n",
       "      <td>MYD13A2.061</td>\n",
       "      <td>_1_km_16_days_VI_Quality</td>\n",
       "      <td>Aerosol Quantity</td>\n",
       "      <td>3</td>\n",
       "      <td>High</td>\n",
       "      <td>None</td>\n",
       "    </tr>\n",
       "    <tr>\n",
       "      <th>24</th>\n",
       "      <td>MYD13A2.061</td>\n",
       "      <td>_1_km_16_days_VI_Quality</td>\n",
       "      <td>Adjacent cloud detected</td>\n",
       "      <td>0</td>\n",
       "      <td>No</td>\n",
       "      <td>None</td>\n",
       "    </tr>\n",
       "    <tr>\n",
       "      <th>25</th>\n",
       "      <td>MYD13A2.061</td>\n",
       "      <td>_1_km_16_days_VI_Quality</td>\n",
       "      <td>Adjacent cloud detected</td>\n",
       "      <td>1</td>\n",
       "      <td>Yes</td>\n",
       "      <td>None</td>\n",
       "    </tr>\n",
       "    <tr>\n",
       "      <th>26</th>\n",
       "      <td>MYD13A2.061</td>\n",
       "      <td>_1_km_16_days_VI_Quality</td>\n",
       "      <td>Atmosphere BRDF Correction</td>\n",
       "      <td>0</td>\n",
       "      <td>No</td>\n",
       "      <td>None</td>\n",
       "    </tr>\n",
       "    <tr>\n",
       "      <th>27</th>\n",
       "      <td>MYD13A2.061</td>\n",
       "      <td>_1_km_16_days_VI_Quality</td>\n",
       "      <td>Atmosphere BRDF Correction</td>\n",
       "      <td>1</td>\n",
       "      <td>Yes</td>\n",
       "      <td>None</td>\n",
       "    </tr>\n",
       "    <tr>\n",
       "      <th>28</th>\n",
       "      <td>MYD13A2.061</td>\n",
       "      <td>_1_km_16_days_VI_Quality</td>\n",
       "      <td>Mixed Clouds</td>\n",
       "      <td>0</td>\n",
       "      <td>No</td>\n",
       "      <td>None</td>\n",
       "    </tr>\n",
       "    <tr>\n",
       "      <th>29</th>\n",
       "      <td>MYD13A2.061</td>\n",
       "      <td>_1_km_16_days_VI_Quality</td>\n",
       "      <td>Mixed Clouds</td>\n",
       "      <td>1</td>\n",
       "      <td>Yes</td>\n",
       "      <td>None</td>\n",
       "    </tr>\n",
       "    <tr>\n",
       "      <th>30</th>\n",
       "      <td>MYD13A2.061</td>\n",
       "      <td>_1_km_16_days_VI_Quality</td>\n",
       "      <td>Land/Water Mask</td>\n",
       "      <td>0</td>\n",
       "      <td>Shallow ocean</td>\n",
       "      <td>None</td>\n",
       "    </tr>\n",
       "    <tr>\n",
       "      <th>31</th>\n",
       "      <td>MYD13A2.061</td>\n",
       "      <td>_1_km_16_days_VI_Quality</td>\n",
       "      <td>Land/Water Mask</td>\n",
       "      <td>1</td>\n",
       "      <td>Land (Nothing else but land)</td>\n",
       "      <td>None</td>\n",
       "    </tr>\n",
       "    <tr>\n",
       "      <th>32</th>\n",
       "      <td>MYD13A2.061</td>\n",
       "      <td>_1_km_16_days_VI_Quality</td>\n",
       "      <td>Land/Water Mask</td>\n",
       "      <td>2</td>\n",
       "      <td>Ocean coastlines and lake shorelines</td>\n",
       "      <td>None</td>\n",
       "    </tr>\n",
       "    <tr>\n",
       "      <th>33</th>\n",
       "      <td>MYD13A2.061</td>\n",
       "      <td>_1_km_16_days_VI_Quality</td>\n",
       "      <td>Land/Water Mask</td>\n",
       "      <td>3</td>\n",
       "      <td>Shallow inland water</td>\n",
       "      <td>None</td>\n",
       "    </tr>\n",
       "    <tr>\n",
       "      <th>34</th>\n",
       "      <td>MYD13A2.061</td>\n",
       "      <td>_1_km_16_days_VI_Quality</td>\n",
       "      <td>Land/Water Mask</td>\n",
       "      <td>4</td>\n",
       "      <td>Ephemeral water</td>\n",
       "      <td>None</td>\n",
       "    </tr>\n",
       "    <tr>\n",
       "      <th>35</th>\n",
       "      <td>MYD13A2.061</td>\n",
       "      <td>_1_km_16_days_VI_Quality</td>\n",
       "      <td>Land/Water Mask</td>\n",
       "      <td>5</td>\n",
       "      <td>Deep inland water</td>\n",
       "      <td>None</td>\n",
       "    </tr>\n",
       "    <tr>\n",
       "      <th>36</th>\n",
       "      <td>MYD13A2.061</td>\n",
       "      <td>_1_km_16_days_VI_Quality</td>\n",
       "      <td>Land/Water Mask</td>\n",
       "      <td>6</td>\n",
       "      <td>Moderate or continental ocean</td>\n",
       "      <td>None</td>\n",
       "    </tr>\n",
       "    <tr>\n",
       "      <th>37</th>\n",
       "      <td>MYD13A2.061</td>\n",
       "      <td>_1_km_16_days_VI_Quality</td>\n",
       "      <td>Land/Water Mask</td>\n",
       "      <td>7</td>\n",
       "      <td>Deep ocean</td>\n",
       "      <td>None</td>\n",
       "    </tr>\n",
       "    <tr>\n",
       "      <th>38</th>\n",
       "      <td>MYD13A2.061</td>\n",
       "      <td>_1_km_16_days_VI_Quality</td>\n",
       "      <td>Possible snow/ice</td>\n",
       "      <td>0</td>\n",
       "      <td>No</td>\n",
       "      <td>None</td>\n",
       "    </tr>\n",
       "    <tr>\n",
       "      <th>39</th>\n",
       "      <td>MYD13A2.061</td>\n",
       "      <td>_1_km_16_days_VI_Quality</td>\n",
       "      <td>Possible snow/ice</td>\n",
       "      <td>1</td>\n",
       "      <td>Yes</td>\n",
       "      <td>None</td>\n",
       "    </tr>\n",
       "    <tr>\n",
       "      <th>40</th>\n",
       "      <td>MYD13A2.061</td>\n",
       "      <td>_1_km_16_days_VI_Quality</td>\n",
       "      <td>Possible shadow</td>\n",
       "      <td>0</td>\n",
       "      <td>No</td>\n",
       "      <td>None</td>\n",
       "    </tr>\n",
       "    <tr>\n",
       "      <th>41</th>\n",
       "      <td>MYD13A2.061</td>\n",
       "      <td>_1_km_16_days_VI_Quality</td>\n",
       "      <td>Possible shadow</td>\n",
       "      <td>1</td>\n",
       "      <td>Yes</td>\n",
       "      <td>None</td>\n",
       "    </tr>\n",
       "  </tbody>\n",
       "</table>\n",
       "</div>"
      ],
      "text/plain": [
       "   ProductAndVersion              QualityLayer                        Name  \\\n",
       "0        MYD13A2.061  _1_km_16_days_VI_Quality                     MODLAND   \n",
       "1        MYD13A2.061  _1_km_16_days_VI_Quality                     MODLAND   \n",
       "2        MYD13A2.061  _1_km_16_days_VI_Quality                     MODLAND   \n",
       "3        MYD13A2.061  _1_km_16_days_VI_Quality                     MODLAND   \n",
       "4        MYD13A2.061  _1_km_16_days_VI_Quality               VI Usefulness   \n",
       "5        MYD13A2.061  _1_km_16_days_VI_Quality               VI Usefulness   \n",
       "6        MYD13A2.061  _1_km_16_days_VI_Quality               VI Usefulness   \n",
       "7        MYD13A2.061  _1_km_16_days_VI_Quality               VI Usefulness   \n",
       "8        MYD13A2.061  _1_km_16_days_VI_Quality               VI Usefulness   \n",
       "9        MYD13A2.061  _1_km_16_days_VI_Quality               VI Usefulness   \n",
       "10       MYD13A2.061  _1_km_16_days_VI_Quality               VI Usefulness   \n",
       "11       MYD13A2.061  _1_km_16_days_VI_Quality               VI Usefulness   \n",
       "12       MYD13A2.061  _1_km_16_days_VI_Quality               VI Usefulness   \n",
       "13       MYD13A2.061  _1_km_16_days_VI_Quality               VI Usefulness   \n",
       "14       MYD13A2.061  _1_km_16_days_VI_Quality               VI Usefulness   \n",
       "15       MYD13A2.061  _1_km_16_days_VI_Quality               VI Usefulness   \n",
       "16       MYD13A2.061  _1_km_16_days_VI_Quality               VI Usefulness   \n",
       "17       MYD13A2.061  _1_km_16_days_VI_Quality               VI Usefulness   \n",
       "18       MYD13A2.061  _1_km_16_days_VI_Quality               VI Usefulness   \n",
       "19       MYD13A2.061  _1_km_16_days_VI_Quality               VI Usefulness   \n",
       "20       MYD13A2.061  _1_km_16_days_VI_Quality            Aerosol Quantity   \n",
       "21       MYD13A2.061  _1_km_16_days_VI_Quality            Aerosol Quantity   \n",
       "22       MYD13A2.061  _1_km_16_days_VI_Quality            Aerosol Quantity   \n",
       "23       MYD13A2.061  _1_km_16_days_VI_Quality            Aerosol Quantity   \n",
       "24       MYD13A2.061  _1_km_16_days_VI_Quality     Adjacent cloud detected   \n",
       "25       MYD13A2.061  _1_km_16_days_VI_Quality     Adjacent cloud detected   \n",
       "26       MYD13A2.061  _1_km_16_days_VI_Quality  Atmosphere BRDF Correction   \n",
       "27       MYD13A2.061  _1_km_16_days_VI_Quality  Atmosphere BRDF Correction   \n",
       "28       MYD13A2.061  _1_km_16_days_VI_Quality                Mixed Clouds   \n",
       "29       MYD13A2.061  _1_km_16_days_VI_Quality                Mixed Clouds   \n",
       "30       MYD13A2.061  _1_km_16_days_VI_Quality             Land/Water Mask   \n",
       "31       MYD13A2.061  _1_km_16_days_VI_Quality             Land/Water Mask   \n",
       "32       MYD13A2.061  _1_km_16_days_VI_Quality             Land/Water Mask   \n",
       "33       MYD13A2.061  _1_km_16_days_VI_Quality             Land/Water Mask   \n",
       "34       MYD13A2.061  _1_km_16_days_VI_Quality             Land/Water Mask   \n",
       "35       MYD13A2.061  _1_km_16_days_VI_Quality             Land/Water Mask   \n",
       "36       MYD13A2.061  _1_km_16_days_VI_Quality             Land/Water Mask   \n",
       "37       MYD13A2.061  _1_km_16_days_VI_Quality             Land/Water Mask   \n",
       "38       MYD13A2.061  _1_km_16_days_VI_Quality           Possible snow/ice   \n",
       "39       MYD13A2.061  _1_km_16_days_VI_Quality           Possible snow/ice   \n",
       "40       MYD13A2.061  _1_km_16_days_VI_Quality             Possible shadow   \n",
       "41       MYD13A2.061  _1_km_16_days_VI_Quality             Possible shadow   \n",
       "\n",
       "    Value                                        Description Acceptable  \n",
       "0       0                          VI produced, good quality       True  \n",
       "1       1                    VI produced, but check other QA      False  \n",
       "2       2           Pixel produced, but most probably cloudy      False  \n",
       "3       3  Pixel not produced due to other reasons than c...      False  \n",
       "4       0                                    Highest quality       None  \n",
       "5       1                                      Lower quality       None  \n",
       "6       2                          Decreasing quality (0010)       None  \n",
       "7       3                          Decreasing quality (0011)       None  \n",
       "8       4                          Decreasing quality (0100)       None  \n",
       "9       5                          Decreasing quality (0101)       None  \n",
       "10      6                          Decreasing quality (0110)       None  \n",
       "11      7                          Decreasing quality (0111)       None  \n",
       "12      8                          Decreasing quality (1000)       None  \n",
       "13      9                          Decreasing quality (1001)       None  \n",
       "14     10                          Decreasing quality (1010)       None  \n",
       "15     11                          Decreasing quality (1011)       None  \n",
       "16     12                                     Lowest quality       None  \n",
       "17     13               Quality so low that it is not useful       None  \n",
       "18     14                                    L1B data faulty       None  \n",
       "19     15      Not useful for any other reason/not processed       None  \n",
       "20      0                                        Climatology       None  \n",
       "21      1                                                Low       None  \n",
       "22      2                                            Average       None  \n",
       "23      3                                               High       None  \n",
       "24      0                                                 No       None  \n",
       "25      1                                                Yes       None  \n",
       "26      0                                                 No       None  \n",
       "27      1                                                Yes       None  \n",
       "28      0                                                 No       None  \n",
       "29      1                                                Yes       None  \n",
       "30      0                                      Shallow ocean       None  \n",
       "31      1                       Land (Nothing else but land)       None  \n",
       "32      2               Ocean coastlines and lake shorelines       None  \n",
       "33      3                               Shallow inland water       None  \n",
       "34      4                                    Ephemeral water       None  \n",
       "35      5                                  Deep inland water       None  \n",
       "36      6                      Moderate or continental ocean       None  \n",
       "37      7                                         Deep ocean       None  \n",
       "38      0                                                 No       None  \n",
       "39      1                                                Yes       None  \n",
       "40      0                                                 No       None  \n",
       "41      1                                                Yes       None  "
      ]
     },
     "execution_count": 8,
     "metadata": {},
     "output_type": "execute_result"
    }
   ],
   "source": [
    "qualityLayerInfo = requests.get('{}/quality/MYD13A2.061/_1_km_16_days_VI_Quality?format=json'.format(SERVICES_URL)).json()\n",
    "\n",
    "#qualityLayerInfo\n",
    "pd.DataFrame(qualityLayerInfo)"
   ]
  },
  {
   "cell_type": "markdown",
   "metadata": {},
   "source": [
    "***NOTE:*** The table above contains the description for each bit-field in MYD13A2.061's quality layer (i.e., _1_km_16_days_VI_Quality). For more information of quality layer descriptions, please consult with the product pages on the LP DAAC website."
   ]
  },
  {
   "cell_type": "markdown",
   "metadata": {},
   "source": [
    "## Decode Quality Value"
   ]
  },
  {
   "cell_type": "markdown",
   "metadata": {},
   "source": [
    "**Say that we have extracted a pixel value from the EVI layer (i.e., _1_km_16_days_EVI) of product MYD13A2.061. We can use the quality service to decode the associated quality value for the pixel by inserting the pixel value from the quality layer (_1_km_16_days_VI_Quality) in the quality service URL. We see that our pixel value from the quality layer equals 4160 and that our EVI value equals 0.3091.**"
   ]
  },
  {
   "cell_type": "code",
   "execution_count": 9,
   "metadata": {},
   "outputs": [
    {
     "data": {
      "text/plain": [
       "{'Binary Representation': '0b0001000001000000',\n",
       " 'MODLAND': {'bits': '0b00', 'description': 'VI produced, good quality'},\n",
       " 'VI Usefulness': {'bits': '0b0000', 'description': 'Highest quality'},\n",
       " 'Aerosol Quantity': {'bits': '0b01', 'description': 'Low'},\n",
       " 'Adjacent cloud detected': {'bits': '0b0', 'description': 'No'},\n",
       " 'Atmosphere BRDF Correction': {'bits': '0b0', 'description': 'No'},\n",
       " 'Mixed Clouds': {'bits': '0b0', 'description': 'No'},\n",
       " 'Land/Water Mask': {'bits': '0b010',\n",
       "  'description': 'Ocean coastlines and lake shorelines'},\n",
       " 'Possible snow/ice': {'bits': '0b0', 'description': 'No'},\n",
       " 'Possible shadow': {'bits': '0b0', 'description': 'No'}}"
      ]
     },
     "execution_count": 9,
     "metadata": {},
     "output_type": "execute_result"
    }
   ],
   "source": [
    "qualityIntDecoder = requests.get('{}/quality/MYD13A2.061/_1_km_16_days_VI_Quality/4160?format=json'.format(SERVICES_URL)).json()\n",
    "\n",
    "qualityIntDecoder"
   ]
  },
  {
   "cell_type": "markdown",
   "metadata": {},
   "source": [
    "**Display** *qualityIntDecoder* **as Pandas dataframe **"
   ]
  },
  {
   "cell_type": "code",
   "execution_count": 10,
   "metadata": {},
   "outputs": [
    {
     "data": {
      "text/html": [
       "<div>\n",
       "<style scoped>\n",
       "    .dataframe tbody tr th:only-of-type {\n",
       "        vertical-align: middle;\n",
       "    }\n",
       "\n",
       "    .dataframe tbody tr th {\n",
       "        vertical-align: top;\n",
       "    }\n",
       "\n",
       "    .dataframe thead th {\n",
       "        text-align: right;\n",
       "    }\n",
       "</style>\n",
       "<table border=\"1\" class=\"dataframe\">\n",
       "  <thead>\n",
       "    <tr style=\"text-align: right;\">\n",
       "      <th></th>\n",
       "      <th>Binary Representation</th>\n",
       "      <th>MODLAND</th>\n",
       "      <th>VI Usefulness</th>\n",
       "      <th>Aerosol Quantity</th>\n",
       "      <th>Adjacent cloud detected</th>\n",
       "      <th>Atmosphere BRDF Correction</th>\n",
       "      <th>Mixed Clouds</th>\n",
       "      <th>Land/Water Mask</th>\n",
       "      <th>Possible snow/ice</th>\n",
       "      <th>Possible shadow</th>\n",
       "    </tr>\n",
       "  </thead>\n",
       "  <tbody>\n",
       "    <tr>\n",
       "      <th>bits</th>\n",
       "      <td>0b0001000001000000</td>\n",
       "      <td>0b00</td>\n",
       "      <td>0b0000</td>\n",
       "      <td>0b01</td>\n",
       "      <td>0b0</td>\n",
       "      <td>0b0</td>\n",
       "      <td>0b0</td>\n",
       "      <td>0b010</td>\n",
       "      <td>0b0</td>\n",
       "      <td>0b0</td>\n",
       "    </tr>\n",
       "    <tr>\n",
       "      <th>description</th>\n",
       "      <td>0b0001000001000000</td>\n",
       "      <td>VI produced, good quality</td>\n",
       "      <td>Highest quality</td>\n",
       "      <td>Low</td>\n",
       "      <td>No</td>\n",
       "      <td>No</td>\n",
       "      <td>No</td>\n",
       "      <td>Ocean coastlines and lake shorelines</td>\n",
       "      <td>No</td>\n",
       "      <td>No</td>\n",
       "    </tr>\n",
       "  </tbody>\n",
       "</table>\n",
       "</div>"
      ],
      "text/plain": [
       "            Binary Representation                    MODLAND    VI Usefulness  \\\n",
       "bits           0b0001000001000000                       0b00           0b0000   \n",
       "description    0b0001000001000000  VI produced, good quality  Highest quality   \n",
       "\n",
       "            Aerosol Quantity Adjacent cloud detected  \\\n",
       "bits                    0b01                     0b0   \n",
       "description              Low                      No   \n",
       "\n",
       "            Atmosphere BRDF Correction Mixed Clouds  \\\n",
       "bits                               0b0          0b0   \n",
       "description                         No           No   \n",
       "\n",
       "                                  Land/Water Mask Possible snow/ice  \\\n",
       "bits                                        0b010               0b0   \n",
       "description  Ocean coastlines and lake shorelines                No   \n",
       "\n",
       "            Possible shadow  \n",
       "bits                    0b0  \n",
       "description              No  "
      ]
     },
     "execution_count": 10,
     "metadata": {},
     "output_type": "execute_result"
    }
   ],
   "source": [
    "pd.DataFrame(qualityIntDecoder)"
   ]
  },
  {
   "cell_type": "markdown",
   "metadata": {},
   "source": [
    "**The above code snippet returns the decoded quality information for value 4160, however, the order in which the quality categories are displayed does not match the order in which the bit-fields are assembled in the binary string. To correct this, the same service call can be used, but the manner in which we bring the request into python changes.**"
   ]
  },
  {
   "cell_type": "code",
   "execution_count": 11,
   "metadata": {
    "collapsed": true
   },
   "outputs": [],
   "source": [
    "import json\n",
    "from collections import OrderedDict\n",
    "qualityIntDecoder = json.loads(\n",
    "    requests.get('{}/quality/MYD13A2.061/_1_km_16_days_VI_Quality/4160?format=json'.format(SERVICES_URL)).text, \n",
    "    object_pairs_hook=OrderedDict)"
   ]
  },
  {
   "cell_type": "markdown",
   "metadata": {},
   "source": [
    "**Now let's print out the decoded quality value in its proper order.**"
   ]
  },
  {
   "cell_type": "code",
   "execution_count": 12,
   "metadata": {},
   "outputs": [
    {
     "data": {
      "text/html": [
       "<div>\n",
       "<style scoped>\n",
       "    .dataframe tbody tr th:only-of-type {\n",
       "        vertical-align: middle;\n",
       "    }\n",
       "\n",
       "    .dataframe tbody tr th {\n",
       "        vertical-align: top;\n",
       "    }\n",
       "\n",
       "    .dataframe thead th {\n",
       "        text-align: right;\n",
       "    }\n",
       "</style>\n",
       "<table border=\"1\" class=\"dataframe\">\n",
       "  <thead>\n",
       "    <tr style=\"text-align: right;\">\n",
       "      <th></th>\n",
       "      <th>Binary Representation</th>\n",
       "      <th>MODLAND</th>\n",
       "      <th>VI Usefulness</th>\n",
       "      <th>Aerosol Quantity</th>\n",
       "      <th>Adjacent cloud detected</th>\n",
       "      <th>Atmosphere BRDF Correction</th>\n",
       "      <th>Mixed Clouds</th>\n",
       "      <th>Land/Water Mask</th>\n",
       "      <th>Possible snow/ice</th>\n",
       "      <th>Possible shadow</th>\n",
       "    </tr>\n",
       "  </thead>\n",
       "  <tbody>\n",
       "    <tr>\n",
       "      <th>bits</th>\n",
       "      <td>0b0001000001000000</td>\n",
       "      <td>0b00</td>\n",
       "      <td>0b0000</td>\n",
       "      <td>0b01</td>\n",
       "      <td>0b0</td>\n",
       "      <td>0b0</td>\n",
       "      <td>0b0</td>\n",
       "      <td>0b010</td>\n",
       "      <td>0b0</td>\n",
       "      <td>0b0</td>\n",
       "    </tr>\n",
       "    <tr>\n",
       "      <th>description</th>\n",
       "      <td>0b0001000001000000</td>\n",
       "      <td>VI produced, good quality</td>\n",
       "      <td>Highest quality</td>\n",
       "      <td>Low</td>\n",
       "      <td>No</td>\n",
       "      <td>No</td>\n",
       "      <td>No</td>\n",
       "      <td>Ocean coastlines and lake shorelines</td>\n",
       "      <td>No</td>\n",
       "      <td>No</td>\n",
       "    </tr>\n",
       "  </tbody>\n",
       "</table>\n",
       "</div>"
      ],
      "text/plain": [
       "            Binary Representation                    MODLAND    VI Usefulness  \\\n",
       "bits           0b0001000001000000                       0b00           0b0000   \n",
       "description    0b0001000001000000  VI produced, good quality  Highest quality   \n",
       "\n",
       "            Aerosol Quantity Adjacent cloud detected  \\\n",
       "bits                    0b01                     0b0   \n",
       "description              Low                      No   \n",
       "\n",
       "            Atmosphere BRDF Correction Mixed Clouds  \\\n",
       "bits                               0b0          0b0   \n",
       "description                         No           No   \n",
       "\n",
       "                                  Land/Water Mask Possible snow/ice  \\\n",
       "bits                                        0b010               0b0   \n",
       "description  Ocean coastlines and lake shorelines                No   \n",
       "\n",
       "            Possible shadow  \n",
       "bits                    0b0  \n",
       "description              No  "
      ]
     },
     "execution_count": 12,
     "metadata": {},
     "output_type": "execute_result"
    }
   ],
   "source": [
    "#qualityIntDecoder\n",
    "pd.DataFrame(qualityIntDecoder)"
   ]
  },
  {
   "cell_type": "markdown",
   "metadata": {},
   "source": [
    "**We can see in the ** *MODLAND* ** column that this is a good quality pixel and the ** *Land/Water Flag* ** column indicates that this pixel is likely near a lake shoreline (given that the pixel extracted was from tile h10v04).**"
   ]
  },
  {
   "cell_type": "markdown",
   "metadata": {},
   "source": [
    "**Finally, we can take the decoded python object (a python dictionary) and filter it based on the bit-field description.**"
   ]
  },
  {
   "cell_type": "code",
   "execution_count": 13,
   "metadata": {},
   "outputs": [
    {
     "data": {
      "text/plain": [
       "OrderedDict([('bits', '0b00'), ('description', 'VI produced, good quality')])"
      ]
     },
     "execution_count": 13,
     "metadata": {},
     "output_type": "execute_result"
    }
   ],
   "source": [
    "qualityIntDecoder['MODLAND']"
   ]
  }
 ],
 "metadata": {
  "kernelspec": {
   "display_name": "lp",
   "language": "python",
   "name": "python3"
  },
  "language_info": {
   "codemirror_mode": {
    "name": "ipython",
    "version": 3
   },
   "file_extension": ".py",
   "mimetype": "text/x-python",
   "name": "python",
   "nbconvert_exporter": "python",
   "pygments_lexer": "ipython3",
   "version": "3.12.9"
  }
 },
 "nbformat": 4,
 "nbformat_minor": 1
}
